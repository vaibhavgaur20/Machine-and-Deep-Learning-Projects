{
 "cells": [
  {
   "cell_type": "markdown",
   "metadata": {},
   "source": [
    "# O(n)"
   ]
  },
  {
   "cell_type": "code",
   "execution_count": 3,
   "metadata": {},
   "outputs": [
    {
     "name": "stdout",
     "output_type": "stream",
     "text": [
      "O(n)\n",
      "O(n)\n",
      "O(n)\n",
      "O(n)\n",
      "O(n)\n",
      "O(n)\n",
      "O(n)\n",
      "O(n)\n",
      "O(n)\n",
      "O(n)\n"
     ]
    }
   ],
   "source": [
    "for i in range(0,10,1):\n",
    "    print('O(n)') # n"
   ]
  },
  {
   "cell_type": "code",
   "execution_count": 5,
   "metadata": {},
   "outputs": [
    {
     "name": "stdout",
     "output_type": "stream",
     "text": [
      "O(n)\n",
      "O(n)\n",
      "O(n)\n"
     ]
    }
   ],
   "source": [
    "for i in range(0,50,20):\n",
    "    print('O(n)')          # n/20 , to find time complexity we consider degree of the polynomial i.e. 'n' here\n",
    "                            # Hence, time complexity for this loop is \"O(n)\""
   ]
  },
  {
   "cell_type": "markdown",
   "metadata": {},
   "source": [
    "# O(n^2)"
   ]
  },
  {
   "cell_type": "code",
   "execution_count": 8,
   "metadata": {},
   "outputs": [
    {
     "name": "stdout",
     "output_type": "stream",
     "text": [
      "nested loop\n",
      "nested loop\n",
      "nested loop\n",
      "nested loop\n"
     ]
    }
   ],
   "source": [
    "for i in range(0,2):             #n+1\n",
    "    for j in range(0,2):         # n*(n+1)\n",
    "        print('nested loop')     # n*n = O(n^2)"
   ]
  },
  {
   "cell_type": "markdown",
   "metadata": {},
   "source": [
    "### i       j         no. of time\n",
    "### 0     0          0\n",
    "### 1     0          1\n",
    "### 1     1\n",
    "### I      I            I\n",
    "### I      I            I\n",
    "### I      I            I\n",
    "### n                  n\n",
    "\n",
    "\n",
    "## 1 + 2 + 3 ---- + n = n(n+1)/2\n",
    "## f(n) = (n^2 + 1)/2\n",
    "\n",
    "#  O(n^2)"
   ]
  },
  {
   "cell_type": "code",
   "execution_count": 9,
   "metadata": {},
   "outputs": [
    {
     "name": "stdout",
     "output_type": "stream",
     "text": [
      "hello\n",
      "hello\n",
      "hello\n",
      "hello\n",
      "hello\n",
      "hello\n",
      "hello\n",
      "hello\n"
     ]
    }
   ],
   "source": [
    "for i in range(0,10):\n",
    "    for j in range(0,j<i):\n",
    "        print('hello')"
   ]
  },
  {
   "cell_type": "markdown",
   "metadata": {},
   "source": [
    "# O(n^1/2)"
   ]
  },
  {
   "cell_type": "code",
   "execution_count": 2,
   "metadata": {},
   "outputs": [],
   "source": [
    "p=0\n",
    "\n",
    "for i in range(1, p<10):\n",
    "    p = p + i\n",
    "    print(p)\n",
    "  "
   ]
  },
  {
   "cell_type": "code",
   "execution_count": null,
   "metadata": {},
   "outputs": [],
   "source": []
  }
 ],
 "metadata": {
  "kernelspec": {
   "display_name": "Python 3",
   "language": "python",
   "name": "python3"
  },
  "language_info": {
   "codemirror_mode": {
    "name": "ipython",
    "version": 3
   },
   "file_extension": ".py",
   "mimetype": "text/x-python",
   "name": "python",
   "nbconvert_exporter": "python",
   "pygments_lexer": "ipython3",
   "version": "3.7.0"
  }
 },
 "nbformat": 4,
 "nbformat_minor": 2
}
