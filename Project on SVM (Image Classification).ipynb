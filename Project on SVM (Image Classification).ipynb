{
 "cells": [
  {
   "cell_type": "markdown",
   "metadata": {},
   "source": [
    "# Multiclass Classification Project\n",
    "- How to read different size images from a directory?\n",
    "- How to implement one vs one scheme for Multiclass classification?\n",
    "- How to use SVM for image classification?"
   ]
  },
  {
   "cell_type": "markdown",
   "metadata": {},
   "source": [
    "## Dataset Preperation"
   ]
  },
  {
   "cell_type": "code",
   "execution_count": 1,
   "metadata": {},
   "outputs": [
    {
     "name": "stderr",
     "output_type": "stream",
     "text": [
      "Using TensorFlow backend.\n"
     ]
    }
   ],
   "source": [
    "import numpy as np\n",
    "import os\n",
    "from pathlib import Path\n",
    "from keras.preprocessing import image\n",
    "import matplotlib.pyplot as plt"
   ]
  },
  {
   "cell_type": "code",
   "execution_count": 2,
   "metadata": {},
   "outputs": [],
   "source": [
    "# it will set a path to a directory\n",
    "p = Path(\"Datasets/Images/images\")\n",
    "\n",
    "# It will access all('*') the directory present inside the \"/images\"\n",
    "dirs = p.glob(\"*\")\n",
    "\n",
    "labels_dict ={\"cat\":0,\"dog\":1,\"horse\":2,\"human\":3}\n",
    "\n",
    "image_data =[]\n",
    "labels=[]\n",
    "\n",
    "# to iterate over all the directory inside the /images\n",
    "for folder_dir in dirs:\n",
    "    \n",
    "    #print(folder_dir)\n",
    "    \n",
    "    # str => it is converting foldername to String \n",
    "    # .split('/') => it is spliting the whole String where ever the '/' sign comes\n",
    "    #[-1] => it indicates the last element of the list\n",
    "    #[:-1] => it is removing the last charater from the word('dogs' => 'dog')\n",
    "    \n",
    "    label = str(folder_dir).split(\"/\")[-1][:-1]\n",
    "    \n",
    "    #print(label)\n",
    "    \n",
    "    \n",
    "    for img_path in folder_dir.glob(\"*.jpg\"):\n",
    "        \n",
    "        #print(img_path)\n",
    "        \n",
    "        # target_size => it makes each and every img have a size of(32,32)\n",
    "        img  = image.load_img(img_path,target_size=(32,32))\n",
    "        img_array = image.img_to_array(img)\n",
    "        image_data.append(img_array)\n",
    "        labels.append(labels_dict[label])\n",
    "        \n",
    "        "
   ]
  },
  {
   "cell_type": "code",
   "execution_count": 3,
   "metadata": {},
   "outputs": [
    {
     "name": "stdout",
     "output_type": "stream",
     "text": [
      "808\n",
      "808\n"
     ]
    }
   ],
   "source": [
    "print(len(image_data))\n",
    "print(len(labels))"
   ]
  },
  {
   "cell_type": "code",
   "execution_count": 26,
   "metadata": {},
   "outputs": [
    {
     "name": "stdout",
     "output_type": "stream",
     "text": [
      "[2 2 0 1 3 2 3 3 0 0 2 1 2 0 2 3 0 0 1 3 2 3 3 2 2 1 1 0 1 2 2 1 3 0 2 2 2\n",
      " 3 0 0 1 0 1 1 2 2 0 3 0 3 0 2 0 2 3 0 1 2 2 1 0 2 3 0 2 1 0 0 0 3 2 3 1 1\n",
      " 2 3 1 1 0 1 0 1 2 2 2 0 1 3 2 0 1 1 2 0 3 1 0 0 2 1 2 1 2 3 2 3 3 2 0 0 3\n",
      " 0 2 3 3 1 1 0 1 0 1 3 0 0 2 2 2 3 2 2 0 0 1 3 3 1 1 1 0 0 1 1 3 2 0 2 0 0\n",
      " 0 2 1 0 3 1 3 0 2 0 3 1 3 2 3 2 1 0 2 1 2 0 1 1 1 1 0 0 1 2 3 0 1 0 1 0 2\n",
      " 2 0 0 1 1 2 2 3 0 0 1 3 0 0 0 0 0 3 2 1 0 1 2 2 0 1 2 0 3 0 1 0 0 2 3 3 2\n",
      " 3 3 1 0 1 3 1 2 3 2 1 1 0 1 2 2 3 3 0 2 3 2 1 1 3 0 1 1 1 2 3 2 3 3 3 3 0\n",
      " 0 2 2 3 0 1 3 0 3 2 2 2 0 0 2 3 0 3 3 1 1 3 1 0 1 2 0 0 1 1 1 2 3 2 3 2 2\n",
      " 3 3 3 1 3 0 3 2 0 0 2 1 1 2 3 3 1 1 0 2 2 0 1 2 0 1 2 3 1 1 2 3 2 1 2 1 1\n",
      " 3 0 3 0 0 1 0 0 1 1 3 2 2 0 1 3 1 0 1 2 3 0 3 1 3 2 2 1 2 1 1 1 3 2 2 3 1\n",
      " 1 3 3 0 0 3 3 0 0 0 2 2 2 1 2 0 3 2 3 0 3 0 3 2 0 1 3 1 2 3 2 0 1 0 1 3 0\n",
      " 0 0 1 1 1 1 2 2 0 0 2 2 1 3 3 1 1 0 3 3 3 0 3 2 3 3 2 0 2 2 1 3 0 1 1 1 1\n",
      " 2 0 1 1 0 2 0 1 3 0 2 0 3 0 1 3 2 0 1 0 1 0 1 3 1 1 0 0 1 2 0 1 3 0 2 1 2\n",
      " 2 2 1 3 3 2 2 2 1 3 1 1 1 0 2 3 0 0 1 3 0 3 3 2 3 3 0 2 3 1 2 1 0 2 3 1 3\n",
      " 2 1 1 2 0 3 2 1 0 0 2 1 0 3 3 0 3 0 2 0 1 2 2 3 2 3 0 3 1 1 2 1 2 1 0 0 0\n",
      " 3 1 2 1 0 2 3 3 1 1 3 2 2 3 0 1 2 0 1 2 1 1 2 1 3 0 3 1 2 3 0 1 1 2 0 2 1\n",
      " 1 0 0 3 1 2 2 3 3 3 0 3 3 3 3 1 0 3 3 3 3 0 3 0 0 2 1 3 3 1 2 1 0 3 1 1 0\n",
      " 2 0 0 0 3 2 0 3 2 3 2 3 3 2 3 2 2 2 3 2 1 2 3 1 3 0 1 0 0 0 0 0 1 3 2 0 0\n",
      " 3 2 3 0 1 0 3 3 3 1 1 0 1 0 1 2 1 2 2 3 3 2 0 1 0 3 2 2 2 2 0 1 1 2 1 0 2\n",
      " 2 0 2 3 1 3 1 1 3 2 1 2 3 1 2 3 2 0 0 2 1 3 2 1 1 1 0 3 3 3 3 1 3 2 3 2 2\n",
      " 2 2 3 2 1 1 3 0 3 0 3 3 2 1 0 3 3 1 3 3 2 3 3 3 2 1 3 0 0 3 1 3 2 0 2 0 3\n",
      " 0 2 2 1 3 0 0 3 1 2 3 0 2 1 0 3 3 1 0 2 0 0 3 2 2 3 2 0 0 1 1]\n"
     ]
    }
   ],
   "source": [
    "print(labels)"
   ]
  },
  {
   "cell_type": "code",
   "execution_count": 5,
   "metadata": {},
   "outputs": [
    {
     "name": "stdout",
     "output_type": "stream",
     "text": [
      "(808, 32, 32, 3) (808,)\n"
     ]
    }
   ],
   "source": [
    "# Convert this into numpy array\n",
    "image_data = np.array(image_data,dtype='float32')/255.0\n",
    "labels = np.array(labels)\n",
    "print(image_data.shape,labels.shape)"
   ]
  },
  {
   "cell_type": "markdown",
   "metadata": {},
   "source": [
    "### Randomly Shuffle our data"
   ]
  },
  {
   "cell_type": "code",
   "execution_count": 6,
   "metadata": {},
   "outputs": [],
   "source": [
    "import random\n",
    "\n",
    "combined = list(zip(image_data,labels))\n",
    "random.shuffle(combined)\n",
    "\n",
    "# Unzip\n",
    "\n",
    "image_data[:],labels[:] = zip(*combined)"
   ]
  },
  {
   "cell_type": "markdown",
   "metadata": {},
   "source": [
    "### Visualise this data"
   ]
  },
  {
   "cell_type": "code",
   "execution_count": 7,
   "metadata": {},
   "outputs": [
    {
     "data": {
      "image/png": "[encoded data removed]",
      "text/plain": [
       "<Figure size 432x288 with 1 Axes>"
      ]
     },
     "metadata": {},
     "output_type": "display_data"
    },
    {
     "data": {
      "image/png": "[encoded data removed]",
      "text/plain": [
       "<Figure size 432x288 with 1 Axes>"
      ]
     },
     "metadata": {},
     "output_type": "display_data"
    },
    {
     "data": {
      "image/png": "[encoded data removed]",
      "text/plain": [
       "<Figure size 432x288 with 1 Axes>"
      ]
     },
     "metadata": {},
     "output_type": "display_data"
    },
    {
     "data": {
      "image/png": "[encoded data removed]",
      "text/plain": [
       "<Figure size 432x288 with 1 Axes>"
      ]
     },
     "metadata": {},
     "output_type": "display_data"
    },
    {
     "data": {
      "image/png": "[encoded data removed]",
      "text/plain": [
       "<Figure size 432x288 with 1 Axes>"
      ]
     },
     "metadata": {},
     "output_type": "display_data"
    },
    {
     "data": {
      "image/png": "[encoded data removed]",
      "text/plain": [
       "<Figure size 432x288 with 1 Axes>"
      ]
     },
     "metadata": {},
     "output_type": "display_data"
    },
    {
     "data": {
      "image/png": "[encoded data removed]",
      "text/plain": [
       "<Figure size 432x288 with 1 Axes>"
      ]
     },
     "metadata": {},
     "output_type": "display_data"
    },
    {
     "data": {
      "image/png": "[encoded data removed]",
      "text/plain": [
       "<Figure size 432x288 with 1 Axes>"
      ]
     },
     "metadata": {},
     "output_type": "display_data"
    },
    {
     "data": {
      "image/png": "[encoded data removed]",
      "text/plain": [
       "<Figure size 432x288 with 1 Axes>"
      ]
     },
     "metadata": {},
     "output_type": "display_data"
    },
    {
     "data": {
      "image/png": "[encoded data removed]",
      "text/plain": [
       "<Figure size 432x288 with 1 Axes>"
      ]
     },
     "metadata": {},
     "output_type": "display_data"
    }
   ],
   "source": [
    "def drawImg(img):\n",
    "    plt.imshow(img)\n",
    "    plt.show()\n",
    "    return\n",
    "\n",
    "for i in range(10):\n",
    "    drawImg(image_data[i])"
   ]
  },
  {
   "cell_type": "markdown",
   "metadata": {},
   "source": [
    "### SVM Classifier"
   ]
  },
  {
   "cell_type": "code",
   "execution_count": 8,
   "metadata": {},
   "outputs": [],
   "source": [
    "class SVM:\n",
    "    \n",
    "    def __init__(self,C=1.0):\n",
    "        \n",
    "        self.C = C\n",
    "        self.W = 0\n",
    "        self.b = 0\n",
    "        \n",
    "    def hingeLoss(self,W,b,X,Y):\n",
    "        \n",
    "        loss =0\n",
    "        \n",
    "        loss += .5*np.dot(W,W.T)\n",
    "        \n",
    "        \n",
    "        \n",
    "        m = X.shape[0]\n",
    "        \n",
    "        for i in range(m):\n",
    "            \n",
    "            ti = Y[i]*(np.dot(W,X[i].T)+b)\n",
    "            \n",
    "            loss += self.C*max(0,(1-ti))\n",
    "            \n",
    "        return loss[0][0]\n",
    "    \n",
    "    def fit(self,X,Y,batch_size=100,learning_rate=0.001,max_Itr = 300):\n",
    "        \n",
    "        no_of_features = X.shape[1]\n",
    "        no_of_samples = X.shape[0]\n",
    "        \n",
    "        n= learning_rate\n",
    "        c = self.C\n",
    "        \n",
    "        #Init the model parameters\n",
    "        W = np.zeros((1,no_of_features))\n",
    "        bias = 0\n",
    "        \n",
    "        #print(self.hingeLoss(W,bias,X,Y))\n",
    "        \n",
    "        # Training from here\n",
    "        # Weight and Bais Update rule\n",
    "        \n",
    "        losses = []\n",
    "        \n",
    "        for i in range(max_Itr):\n",
    "            \n",
    "            # Training Loop\n",
    "            \n",
    "            l = self.hingeLoss(W,bias,X,Y)\n",
    "            losses.append(l)\n",
    "            ids = np.arange(no_of_samples)\n",
    "            np.random.shuffle(ids)\n",
    "            \n",
    "            # Batch Gradient Decent(Research Paper) with random shuffling\n",
    "            \n",
    "            for batch_start in range(0,no_of_samples,batch_size):\n",
    "                \n",
    "                #Assume 0 gradient for the batch\n",
    "                gradw = 0\n",
    "                gradb = 0\n",
    "                \n",
    "                #Iterate over all examples in mini batch\n",
    "                \n",
    "                for j in range(batch_start,batch_start + batch_size):\n",
    "                    if j<no_of_samples: \n",
    "                        i= ids[j]\n",
    "                        ti = Y[i]*(np.dot(W,X[i].T)+bias)\n",
    "                    \n",
    "                        if ti >1:\n",
    "                            gradw += 0\n",
    "                            gradb += 0\n",
    "                        \n",
    "                        else:\n",
    "                            gradw += c*Y[i]*X[i]\n",
    "                            gradb += c*Y[i]\n",
    "                        \n",
    "                    # Gradient for the batch is ready! Update W,B\n",
    "                \n",
    "                W = W - n*W +n*gradw\n",
    "                bias = bias + n*gradb\n",
    "                \n",
    "        self.W = W\n",
    "        self.b = bias\n",
    "        return W,bias,losses\n",
    "            \n",
    "    "
   ]
  },
  {
   "cell_type": "markdown",
   "metadata": {},
   "source": [
    "## We need to convert data for one-for-one classification!"
   ]
  },
  {
   "cell_type": "code",
   "execution_count": 9,
   "metadata": {},
   "outputs": [
    {
     "name": "stdout",
     "output_type": "stream",
     "text": [
      "(808, 3072)\n",
      "(808,)\n"
     ]
    }
   ],
   "source": [
    "M = image_data.shape[0]\n",
    "image_data = image_data.reshape(M,-1)\n",
    "print(image_data.shape)\n",
    "print(labels.shape)"
   ]
  },
  {
   "cell_type": "code",
   "execution_count": 10,
   "metadata": {},
   "outputs": [
    {
     "name": "stdout",
     "output_type": "stream",
     "text": [
      "4\n"
     ]
    }
   ],
   "source": [
    "CLASSES = len(np.unique(labels))\n",
    "print(CLASSES)"
   ]
  },
  {
   "cell_type": "code",
   "execution_count": 11,
   "metadata": {},
   "outputs": [],
   "source": [
    "def classWiseData(x,y):\n",
    "    data = {}\n",
    "    \n",
    "    for i in range(CLASSES):\n",
    "        data[i] = []\n",
    "        \n",
    "    for i in range(x.shape[0]):\n",
    "        \n",
    "        data[y[i]].append(x[i])\n",
    "        \n",
    "    for k in data.keys():\n",
    "        data[k] = np.array(data[k])\n",
    "        \n",
    "    \n",
    "    return data"
   ]
  },
  {
   "cell_type": "code",
   "execution_count": 12,
   "metadata": {},
   "outputs": [],
   "source": [
    "data = classWiseData(image_data,labels)"
   ]
  },
  {
   "cell_type": "code",
   "execution_count": 13,
   "metadata": {},
   "outputs": [
    {
     "name": "stdout",
     "output_type": "stream",
     "text": [
      "202\n",
      "202\n",
      "202\n",
      "202\n"
     ]
    }
   ],
   "source": [
    "print(data[0].shape[0])\n",
    "print(data[1].shape[0])\n",
    "print(data[2].shape[0])\n",
    "print(data[3].shape[0])"
   ]
  },
  {
   "cell_type": "code",
   "execution_count": 14,
   "metadata": {},
   "outputs": [],
   "source": [
    "def getDataPairForSVM(d1,d2):\n",
    "    \n",
    "    \"\"\"This function combines data of two classes into a single matrix\"\"\"\n",
    "    \n",
    "    \n",
    "    l1,l2 = d1.shape[0],d2.shape[0]\n",
    "    \n",
    "    samples = l1+l2\n",
    "    features = d1.shape[1]\n",
    "    \n",
    "    data_pair = np.zeros((samples,features))\n",
    "    data_labels = np.zeros((samples,))\n",
    "    \n",
    "    data_pair[:l1,:] = d1\n",
    "    data_pair[l1:,:] = d2\n",
    "    \n",
    "    data_labels[:l1] = -1\n",
    "    data_labels[l1:] = +1\n",
    "    \n",
    "    return data_pair,data_labels"
   ]
  },
  {
   "cell_type": "markdown",
   "metadata": {},
   "source": [
    "## Training NC2 SVM's Part"
   ]
  },
  {
   "cell_type": "code",
   "execution_count": 15,
   "metadata": {},
   "outputs": [],
   "source": [
    "mySVM = SVM()"
   ]
  },
  {
   "cell_type": "code",
   "execution_count": 16,
   "metadata": {},
   "outputs": [],
   "source": [
    "def trainSVMs(x,y):\n",
    "    \n",
    "    svm_classifiers = {}\n",
    "    \n",
    "    for i in range(CLASSES):\n",
    "        svm_classifiers[i] = {}\n",
    "        \n",
    "        for j in range(i+1,CLASSES):\n",
    "            xpair,ypair = getDataPairForSVM(data[i],data[j])\n",
    "            wts,b,loss = mySVM.fit(xpair,ypair)\n",
    "            svm_classifiers[i][j] = (wts,b)\n",
    "            \n",
    "        \n",
    "    return svm_classifiers"
   ]
  },
  {
   "cell_type": "code",
   "execution_count": 17,
   "metadata": {},
   "outputs": [],
   "source": [
    "svm_classifiers = trainSVMs(image_data,labels)"
   ]
  },
  {
   "cell_type": "code",
   "execution_count": 18,
   "metadata": {},
   "outputs": [
    {
     "name": "stdout",
     "output_type": "stream",
     "text": [
      "(1, 3072)\n",
      "-0.27800000000000036\n"
     ]
    }
   ],
   "source": [
    "# Parameters for Cats and Dogs\n",
    "\n",
    "cats_dogs = svm_classifiers[0][1]\n",
    "\n",
    "print(cats_dogs[0].shape)\n",
    "print(cats_dogs[1])"
   ]
  },
  {
   "cell_type": "markdown",
   "metadata": {},
   "source": [
    "## Prediction"
   ]
  },
  {
   "cell_type": "code",
   "execution_count": 19,
   "metadata": {},
   "outputs": [],
   "source": [
    "def binaryPredict(x,w,b):\n",
    "    \n",
    "    z = np.dot(x,w.T) + b\n",
    "    if z>=0:\n",
    "        return 1 \n",
    "    else:\n",
    "        return -1"
   ]
  },
  {
   "cell_type": "code",
   "execution_count": 20,
   "metadata": {},
   "outputs": [],
   "source": [
    "def predict(x):\n",
    "    \n",
    "    count = np.zeros((CLASSES))\n",
    "    \n",
    "    for i in range(CLASSES):\n",
    "        for j in range(i+1,CLASSES):\n",
    "            \n",
    "            w,b = svm_classifiers[i][j]\n",
    "            # Take a majority prediction\n",
    "            \n",
    "            z = binaryPredict(x,w,b)\n",
    "            \n",
    "            if(z==1):\n",
    "                count[j] += 1\n",
    "            else:\n",
    "                count[i] += 1\n",
    "                \n",
    "    final_prediction = np.argmax(count)\n",
    "    #print(count)\n",
    "    return final_prediction\n",
    "    #return   "
   ]
  },
  {
   "cell_type": "code",
   "execution_count": 33,
   "metadata": {},
   "outputs": [
    {
     "name": "stdout",
     "output_type": "stream",
     "text": [
      "0\n",
      "0\n"
     ]
    }
   ],
   "source": [
    "print(predict(image_data[2]))\n",
    "\n",
    "print(labels[2])"
   ]
  },
  {
   "cell_type": "code",
   "execution_count": 31,
   "metadata": {},
   "outputs": [],
   "source": [
    "def accuracy(x,y):\n",
    "    \n",
    "    count =0 \n",
    "    for i in range(x.shape[0]):\n",
    "        prediction = predict(x[i])\n",
    "        if(prediction == y[i]):\n",
    "            count +=1\n",
    "            \n",
    "    return count/x.shape[0]"
   ]
  },
  {
   "cell_type": "code",
   "execution_count": 32,
   "metadata": {},
   "outputs": [
    {
     "data": {
      "text/plain": [
       "0.3650990099009901"
      ]
     },
     "execution_count": 32,
     "metadata": {},
     "output_type": "execute_result"
    }
   ],
   "source": [
    "accuracy(image_data,labels)"
   ]
  },
  {
   "cell_type": "code",
   "execution_count": null,
   "metadata": {},
   "outputs": [],
   "source": []
  }
 ],
 "metadata": {
  "kernelspec": {
   "display_name": "Python 3",
   "language": "python",
   "name": "python3"
  },
  "language_info": {
   "codemirror_mode": {
    "name": "ipython",
    "version": 3
   },
   "file_extension": ".py",
   "mimetype": "text/x-python",
   "name": "python",
   "nbconvert_exporter": "python",
   "pygments_lexer": "ipython3",
   "version": "3.7.0"
  }
 },
 "nbformat": 4,
 "nbformat_minor": 2
}
