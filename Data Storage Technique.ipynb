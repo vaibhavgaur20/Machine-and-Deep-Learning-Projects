{
 "cells": [
  {
   "cell_type": "markdown",
   "metadata": {},
   "source": [
    "# Stack"
   ]
  },
  {
   "cell_type": "code",
   "execution_count": 11,
   "metadata": {},
   "outputs": [],
   "source": [
    "def createStack():\n",
    "    \n",
    "    stack = []\n",
    "    return stack\n",
    "\n",
    "def push(stack,e):\n",
    "    \n",
    "    stack.append(e)\n",
    "    print(\"Pushed element :- \",e)\n",
    "\n",
    "def checkEmpty(stack):\n",
    "    \n",
    "    return len(stack) == 0\n",
    "\n",
    "def pop(stack):\n",
    "    \n",
    "    if (checkEmpty(stack)):\n",
    "        return \"stack is empty\"\n",
    "    \n",
    "    return stack.pop()\n",
    "    \n",
    "    \n",
    "    "
   ]
  },
  {
   "cell_type": "code",
   "execution_count": 7,
   "metadata": {},
   "outputs": [],
   "source": [
    "class stack:\n",
    "    def __init__ (self):\n",
    "        \n",
    "        self.arr = []\n",
    "        self.top = -1\n",
    "    def push(self,data):\n",
    "        \n",
    "        self.top += 1\n",
    "        print(self.top)\n",
    "        self.arr.append(data)\n",
    "    def pop(self):\n",
    "        \n",
    "        self.top -= 1\n",
    "        self.arr.pop()\n",
    "        \n",
    "    def print(self):\n",
    "        \n",
    "        itr = 0\n",
    "        sstr = ''\n",
    "        \n",
    "        while itr <= self.top:\n",
    "            \n",
    "            sstr += str(self.arr[itr]) + ' '\n",
    "            \n",
    "            itr += 1\n",
    "        \n",
    "        print(sstr)\n",
    "            \n",
    "            \n",
    "        "
   ]
  },
  {
   "cell_type": "code",
   "execution_count": 8,
   "metadata": {},
   "outputs": [
    {
     "name": "stdout",
     "output_type": "stream",
     "text": [
      "0\n",
      "1\n",
      "2\n",
      "3\n",
      "20 30 40 70 \n",
      "20 30 40 \n",
      "3\n",
      "20 30 40 89 \n"
     ]
    }
   ],
   "source": [
    "s = stack()\n",
    "\n",
    "s.push(20)\n",
    "s.push(30)\n",
    "s.push(40)\n",
    "s.push(70)\n",
    "\n",
    "s.print()\n",
    "\n",
    "\n",
    "s.pop()\n",
    "\n",
    "s.print()\n",
    "\n",
    "s.push(89)\n",
    "\n",
    "s.print()\n",
    "\n"
   ]
  },
  {
   "cell_type": "markdown",
   "metadata": {},
   "source": [
    "# Queue"
   ]
  },
  {
   "cell_type": "code",
   "execution_count": 21,
   "metadata": {},
   "outputs": [],
   "source": [
    "class queue:\n",
    "    \n",
    "    def __init__(self):\n",
    "        \n",
    "        self.arr = []\n",
    "        self.front = 0\n",
    "        self.rare = 0\n",
    "        \n",
    "        \n",
    "    def enqueue(self,data):\n",
    "        \n",
    "        self.arr.append(data)\n",
    "        \n",
    "    def dequeue(self):\n",
    "        \n",
    "        print(self.arr[0],\" is Dequeued\")\n",
    "        \n",
    "        self.arr.pop(0)\n",
    "        \n",
    "        "
   ]
  },
  {
   "cell_type": "code",
   "execution_count": 25,
   "metadata": {},
   "outputs": [
    {
     "name": "stdout",
     "output_type": "stream",
     "text": [
      "[20, 30, 40, 50]\n",
      "20  is Dequeued\n",
      "30  is Dequeued\n",
      "[40, 50]\n",
      "[40, 50, 10]\n"
     ]
    }
   ],
   "source": [
    "q = queue()\n",
    "\n",
    "q.enqueue(20)\n",
    "q.enqueue(30)\n",
    "q.enqueue(40)\n",
    "q.enqueue(50)\n",
    "\n",
    "print(q.arr)\n",
    "\n",
    "q.dequeue()\n",
    "q.dequeue()\n",
    "print(q.arr)\n",
    "\n",
    "q.enqueue(10)\n",
    "print(q.arr)"
   ]
  },
  {
   "cell_type": "markdown",
   "metadata": {},
   "source": [
    "# Linked List"
   ]
  },
  {
   "cell_type": "code",
   "execution_count": 18,
   "metadata": {},
   "outputs": [],
   "source": [
    "class Node:\n",
    "    \n",
    "    def __init__ (self,data=None,next=None):\n",
    "        \n",
    "        self.data = data\n",
    "        self.next = next\n",
    "        \n",
    "class LinkedList:\n",
    "    \n",
    "    def __init__(self):\n",
    "        \n",
    "        self.head = None\n",
    "        self.length = 0\n",
    "        \n",
    "    def isEmpty(self):\n",
    "        if self.head == None:\n",
    "            return True\n",
    "       \n",
    "        \n",
    "    def insert_at_begining(self,data):\n",
    "        \n",
    "        node = Node(data,self.head)\n",
    "        self.head = node\n",
    "        self.length += 1\n",
    "    def insert_at_end(self,data):\n",
    "        \n",
    "        if self.head == None:\n",
    "            self.head = Node(data,None)\n",
    "            return\n",
    "        \n",
    "        itr = self.head\n",
    "        \n",
    "        while itr.next:\n",
    "            itr = itr.next\n",
    "        \n",
    "        itr.next = Node(data,None)\n",
    "        self.length += 1\n",
    "        \n",
    "    def delete_at_begining(self):\n",
    "        if self.isEmpty():\n",
    "            return \n",
    "        \n",
    "        self.head = self.head.next\n",
    "        self.length -= 1\n",
    "        \n",
    "    def delete_at_end(self):\n",
    "        if self.isEmpty():\n",
    "            return 'Linked list is Empty'\n",
    "        itr = self.head\n",
    "        \n",
    "        while itr.next.next:\n",
    "            \n",
    "            itr = itr.next\n",
    "        \n",
    "        itr.next = None\n",
    "        self.length -= 1\n",
    "        \n",
    "    def deleteAt(self,pos):\n",
    "        \n",
    "        if self.isEmpty():\n",
    "            return\n",
    "        if pos > self.length:\n",
    "            return\n",
    "            \n",
    "        itr = self.head\n",
    "        i=1\n",
    "        \n",
    "        while i<pos-1:\n",
    "            \n",
    "            itr = itr.next\n",
    "            i +=1\n",
    "        \n",
    "        itr.next = itr.next.next\n",
    "        \n",
    "        self.length -= 1\n",
    "        \n",
    "        \n",
    "        \n",
    "        \n",
    "    def print(self):\n",
    "        \n",
    "        if self.head is None:\n",
    "            print(\"LinkedList is Empty\")\n",
    "            return\n",
    "        itr = self.head\n",
    "        llstr = ''\n",
    "        \n",
    "        while itr:\n",
    "            llstr += str(itr.data)+'-->'\n",
    "            itr = itr.next\n",
    "        print(llstr)"
   ]
  },
  {
   "cell_type": "code",
   "execution_count": 21,
   "metadata": {},
   "outputs": [
    {
     "name": "stdout",
     "output_type": "stream",
     "text": [
      "90-->5-->28-->84-->\n",
      "4\n",
      "90-->5-->84-->\n"
     ]
    }
   ],
   "source": [
    "ll = LinkedList()\n",
    "\n",
    "ll.delete_at_end()\n",
    "\n",
    "ll.insert_at_begining(5)\n",
    "ll.insert_at_begining(90)\n",
    "\n",
    "ll.insert_at_end(28)\n",
    "ll.insert_at_end(84)\n",
    "\n",
    "ll.print()\n",
    "\n",
    "print(ll.length)\n",
    "\n",
    "ll.deleteAt(3)\n",
    "\n",
    "ll.print()\n",
    "\n",
    "\n"
   ]
  },
  {
   "cell_type": "code",
   "execution_count": 20,
   "metadata": {},
   "outputs": [
    {
     "name": "stdout",
     "output_type": "stream",
     "text": [
      "5-->84-->\n",
      "2\n",
      "5-->\n",
      "1\n"
     ]
    }
   ],
   "source": [
    "ll.delete_at_begining()\n",
    "ll.print()\n",
    "print(ll.length)\n",
    "\n",
    "ll.delete_at_end()\n",
    "ll.print()\n",
    "print(ll.length)"
   ]
  },
  {
   "cell_type": "markdown",
   "metadata": {},
   "source": [
    "# Tree"
   ]
  },
  {
   "cell_type": "code",
   "execution_count": 16,
   "metadata": {},
   "outputs": [],
   "source": [
    "class TreeNode:\n",
    "    \n",
    "    def __init__(self,data):\n",
    "        \n",
    "        self.data = data\n",
    "        self.children = []\n",
    "        self.parent = None\n",
    "    \n",
    "    def add_child(self,child):\n",
    "        \n",
    "        child.parent = self\n",
    "        self.children.append(child)\n",
    "        \n",
    "    def get_level(self):\n",
    "        level = 0\n",
    "        p = self.parent\n",
    "        \n",
    "        while p:\n",
    "            \n",
    "            level += 1\n",
    "            p = p.parent\n",
    "            \n",
    "        \n",
    "        return level\n",
    "        \n",
    "    def print_tree(self):\n",
    "        \n",
    "        spaces = ' '*self.get_level()\n",
    "        prefix = spaces + \"|__\" if self.parent else \"\"\n",
    "        print(prefix + self.data)\n",
    "        if self.children:\n",
    "            \n",
    "            for child in self.children:\n",
    "                child.print_tree()\n",
    "        \n",
    "        "
   ]
  },
  {
   "cell_type": "code",
   "execution_count": 19,
   "metadata": {},
   "outputs": [],
   "source": [
    "def build_tree():\n",
    "    \n",
    "    root = TreeNode(\"My Computer\")\n",
    "    \n",
    "    c = TreeNode(\"C:\")\n",
    "    c.add_child(TreeNode(\"Program Files\"))\n",
    "    c.add_child(TreeNode(\"Windows\"))\n",
    "    c.add_child(TreeNode(\"Python\"))\n",
    "    \n",
    "    d = TreeNode(\"D:\")\n",
    "    d.add_child(TreeNode(\"Movies\"))\n",
    "    d.add_child(TreeNode(\"Images\"))\n",
    "    d.add_child(TreeNode(\"Games\"))\n",
    "    \n",
    "    \n",
    "    root.add_child(c)\n",
    "    root.add_child(d)\n",
    "    \n",
    "    return root"
   ]
  },
  {
   "cell_type": "code",
   "execution_count": 20,
   "metadata": {},
   "outputs": [
    {
     "name": "stdout",
     "output_type": "stream",
     "text": [
      "My Computer\n",
      " |__C:\n",
      "  |__Program Files\n",
      "  |__Windows\n",
      "  |__Python\n",
      " |__D:\n",
      "  |__Movies\n",
      "  |__Images\n",
      "  |__Games\n"
     ]
    }
   ],
   "source": [
    "if __name__ == \"__main__\":\n",
    "    \n",
    "    root = build_tree()\n",
    "    root.print_tree()\n",
    "    pass"
   ]
  },
  {
   "cell_type": "markdown",
   "metadata": {},
   "source": [
    "# Graph"
   ]
  },
  {
   "cell_type": "code",
   "execution_count": 6,
   "metadata": {},
   "outputs": [],
   "source": [
    "class Graph:\n",
    "    \n",
    "    def __init__ (self,edges):\n",
    "        \n",
    "        self.edges = edges\n",
    "        self.graph_dict = {}\n",
    "        \n",
    "        for start, end, weight in edges:\n",
    "            \n",
    "            if start in self.graph_dict:\n",
    "                self.graph_dict[start].append([end, weight])\n",
    "            else:\n",
    "                self.graph_dict[start] = [[end, weight]]\n",
    "\n",
    "\n",
    "        print(\"Graph dictionary \", self.graph_dict)\n",
    "        \n",
    "    def get_paths (self, start, end,n ,path=[],td=0):\n",
    "        \n",
    "        path = path + [start]\n",
    "        \n",
    "        td = td + n\n",
    "        \n",
    "    \n",
    "        \n",
    "        if start == end:\n",
    "            \n",
    "            return [[path,td]]\n",
    "        if start not in self.graph_dict:\n",
    "            \n",
    "            return []\n",
    "        \n",
    "        paths = []\n",
    "        \n",
    "        for node in self.graph_dict[start]:\n",
    "                    \n",
    "            if node[0] not in path:\n",
    "                new_paths = self.get_paths(node[0], end, node[1], path, td)\n",
    "                \n",
    "                for p in new_paths:\n",
    "                    \n",
    "                       paths.append(p)\n",
    "                \n",
    "                    \n",
    "                    \n",
    "        \n",
    "        return paths        \n",
    "        "
   ]
  },
  {
   "cell_type": "code",
   "execution_count": 7,
   "metadata": {},
   "outputs": [],
   "source": [
    " def selectionsort(a):\n",
    "        \n",
    "        \n",
    "        minpos = 0 \n",
    "        for j in range(0,len(a)):\n",
    "            if a[j][1] < a[minpos][1]:\n",
    "                minpos = j\n",
    "        \n",
    "        \n",
    "        \n",
    "        print(a[minpos])"
   ]
  },
  {
   "cell_type": "code",
   "execution_count": 8,
   "metadata": {},
   "outputs": [
    {
     "name": "stdout",
     "output_type": "stream",
     "text": [
      "Graph dictionary  {'Mumbai': [['Paris', 13], ['Dubai', 10]], 'Paris': [['Dubai', 5], ['New York', 7]], 'Dubai': [['New York', 11]], 'New York': [['Toronto', 2]]}\n",
      "\n",
      " All paths between Mumbai and New York : \n",
      "  [[['Mumbai', 'Paris', 'Dubai', 'New York'], 29], [['Mumbai', 'Paris', 'New York'], 20], [['Mumbai', 'Dubai', 'New York'], 21]]\n",
      "3\n",
      "[['Mumbai', 'Paris', 'New York'], 20]\n"
     ]
    }
   ],
   "source": [
    "if __name__ == '__main__':\n",
    "    \n",
    "    routes = [\n",
    "        (\"Mumbai\",\"Paris\",13),\n",
    "        (\"Mumbai\",\"Dubai\",10),\n",
    "        (\"Paris\",\"Dubai\",5),\n",
    "        (\"Paris\",\"New York\",7),\n",
    "        (\"Dubai\",\"New York\",11),\n",
    "        (\"New York\",\"Toronto\",2)\n",
    "    ]\n",
    "    \n",
    "    \n",
    "    route_graph = Graph(routes)\n",
    "    \n",
    "    start = \"Mumbai\"\n",
    "    end = \"New York\"\n",
    "    \n",
    "    print(f\"\\n All paths between {start} and {end} : \\n \",route_graph.get_paths(start,end,0))\n",
    "#   print(f\"Shortest path between {start} and {end} : \\n\",route_graph.get_shortest_path(start,end))\n",
    "\n",
    "    a = route_graph.get_paths(start,end,0)\n",
    "    \n",
    "    print(len(a))\n",
    "    \n",
    "    selectionsort(a)\n",
    "    "
   ]
  },
  {
   "cell_type": "markdown",
   "metadata": {},
   "source": [
    "# Hash Table"
   ]
  },
  {
   "cell_type": "code",
   "execution_count": 23,
   "metadata": {},
   "outputs": [],
   "source": [
    "class HashTable:\n",
    "    \n",
    "    def __init__(self):\n",
    "        \n",
    "        self.MAX = 100\n",
    "        self.arr = [None for i in range(self.MAX)]\n",
    "    \n",
    "    def get_hash(self,key):\n",
    "        \n",
    "        h =0\n",
    "        for char in key:\n",
    "            h += ord(char)\n",
    "        return h%self.MAX\n",
    "    \n",
    "    def __setitem__(self,key,val):\n",
    "        \n",
    "        h = self.get_hash(key)\n",
    "        self.arr[h] = val\n",
    "    def __getitem__(self,key):\n",
    "        \n",
    "        h = self.get_hash(key)\n",
    "        \n",
    "        return self.arr[h]\n",
    "    \n",
    "    def __delitem__(self,key):\n",
    "        \n",
    "        h = self.get_hash(key)\n",
    "        \n",
    "        self.arr[h] = None\n",
    "        \n",
    "        "
   ]
  },
  {
   "cell_type": "code",
   "execution_count": 24,
   "metadata": {},
   "outputs": [],
   "source": [
    "ht = HashTable()\n",
    "\n",
    "ht['Feb 1'] = 10\n",
    "ht['Feb 2'] = 80\n",
    "ht['Feb 3'] = 60\n",
    "ht['Feb 4'] = 70\n"
   ]
  },
  {
   "cell_type": "code",
   "execution_count": 25,
   "metadata": {},
   "outputs": [
    {
     "name": "stdout",
     "output_type": "stream",
     "text": [
      "10\n"
     ]
    }
   ],
   "source": [
    "print(ht['Feb 1'])"
   ]
  },
  {
   "cell_type": "code",
   "execution_count": 27,
   "metadata": {},
   "outputs": [],
   "source": [
    "del ht['Feb 1']"
   ]
  },
  {
   "cell_type": "markdown",
   "metadata": {},
   "source": [
    "# HashTable Collision handling using Chaining"
   ]
  },
  {
   "cell_type": "code",
   "execution_count": 69,
   "metadata": {},
   "outputs": [],
   "source": [
    "class HashTableC:\n",
    "    \n",
    "    def __init__ (self):\n",
    "        \n",
    "        self.MAX = 10\n",
    "        self.arr = [[] for i in range(self.MAX)]\n",
    "    def get_hash(self,key):\n",
    "        \n",
    "        h = 0\n",
    "        \n",
    "        for char in key:\n",
    "            \n",
    "            h += ord(char)\n",
    "        return h%self.MAX\n",
    "    \n",
    "    def __getitem__(self,key):\n",
    "        \n",
    "        arr_index = self.get_hash(key)\n",
    "        \n",
    "        for kv in self.arr[arr_index]:\n",
    "            if kv[0] == key:\n",
    "                \n",
    "                return kv[1]\n",
    "    def __setitem__(self,key,val):\n",
    "        \n",
    "        h = self.get_hash(key)\n",
    "        print(h)\n",
    "        found = False\n",
    "        \n",
    "        for idx, element in enumerate(self.arr[h]):\n",
    "            print(\"idx \",idx,\" Elements \",len(element))\n",
    "            if element[0] ==key:\n",
    "                self.arr[h][idx] = (key,val)\n",
    "                found = True\n",
    "                print(\"idx \",idx,\" Elements \",element)\n",
    "        if not found:\n",
    "            self.arr[h].append((key,val))"
   ]
  },
  {
   "cell_type": "code",
   "execution_count": 71,
   "metadata": {},
   "outputs": [
    {
     "name": "stdout",
     "output_type": "stream",
     "text": [
      "9\n",
      "0\n",
      "1\n",
      "9\n",
      "idx  0  Elements  2\n",
      "9\n",
      "idx  0  Elements  2\n",
      "idx  0  Elements  ('march 6', 310)\n",
      "idx  1  Elements  2\n"
     ]
    }
   ],
   "source": [
    "htc = HashTableC()\n",
    "\n",
    "htc[\"march 6\"] = 310\n",
    "htc[\"march 7\"] = 420\n",
    "htc[\"march 8\"] = 67\n",
    "htc[\"march 17\"] = 63457\n",
    "htc[\"march 6\"] = 63457"
   ]
  },
  {
   "cell_type": "code",
   "execution_count": 72,
   "metadata": {},
   "outputs": [
    {
     "name": "stdout",
     "output_type": "stream",
     "text": [
      "[[('march 7', 420)], [('march 8', 67)], [], [], [], [], [], [], [], [('march 6', 63457), ('march 17', 63457)]]\n"
     ]
    }
   ],
   "source": [
    "print(htc.arr)"
   ]
  },
  {
   "cell_type": "code",
   "execution_count": null,
   "metadata": {},
   "outputs": [],
   "source": []
  }
 ],
 "metadata": {
  "kernelspec": {
   "display_name": "Python 3",
   "language": "python",
   "name": "python3"
  },
  "language_info": {
   "codemirror_mode": {
    "name": "ipython",
    "version": 3
   },
   "file_extension": ".py",
   "mimetype": "text/x-python",
   "name": "python",
   "nbconvert_exporter": "python",
   "pygments_lexer": "ipython3",
   "version": "3.7.0"
  }
 },
 "nbformat": 4,
 "nbformat_minor": 2
}
