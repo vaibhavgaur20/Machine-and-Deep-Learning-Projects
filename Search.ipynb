{
 "cells": [
  {
   "cell_type": "markdown",
   "metadata": {},
   "source": [
    "# Linear Search  O(n)"
   ]
  },
  {
   "cell_type": "code",
   "execution_count": 1,
   "metadata": {},
   "outputs": [],
   "source": [
    "def linearSearch(arr,a):\n",
    "    \n",
    "    for i in arr:\n",
    "        if i == a:\n",
    "            print(a,\" is in array\")\n",
    "        "
   ]
  },
  {
   "cell_type": "code",
   "execution_count": 2,
   "metadata": {},
   "outputs": [
    {
     "name": "stdout",
     "output_type": "stream",
     "text": [
      "8  is in array\n"
     ]
    }
   ],
   "source": [
    "arr =[5,2,7,34,8]\n",
    "\n",
    "a = 8\n",
    "\n",
    "linearSearch(arr,a)"
   ]
  },
  {
   "cell_type": "markdown",
   "metadata": {},
   "source": [
    "# Binary Search O(logn)"
   ]
  },
  {
   "cell_type": "code",
   "execution_count": 9,
   "metadata": {},
   "outputs": [],
   "source": [
    "def binarySearch(arr,l,u,n):\n",
    "    \n",
    "  \n",
    "    if arr[u] == n:\n",
    "        globals()['pos'] = u\n",
    "        return True\n",
    "    else:\n",
    "        \n",
    "        while l<u :\n",
    "        \n",
    "            mid = (l+u)//2\n",
    "        \n",
    "            if arr[mid] == n:\n",
    "            \n",
    "                globals()['pos'] = mid\n",
    "                return True\n",
    "            else:\n",
    "                if arr[mid] < n:\n",
    "                    l = mid;\n",
    "                else:\n",
    "                    u = mid;\n",
    "                "
   ]
  },
  {
   "cell_type": "code",
   "execution_count": 27,
   "metadata": {},
   "outputs": [],
   "source": [
    "def main():\n",
    "    \n",
    "    arr = [5,2,7,34,8,4,12,45,99]\n",
    "    arr.sort()\n",
    "    print(arr)\n",
    "\n",
    "    n=45\n",
    "\n",
    "    l =0\n",
    "    u = len(arr) - 1\n",
    "\n",
    "    if binarySearch(arr,l,u,n):\n",
    "        print(\"Found at \",pos+1)"
   ]
  },
  {
   "cell_type": "code",
   "execution_count": 28,
   "metadata": {},
   "outputs": [
    {
     "name": "stdout",
     "output_type": "stream",
     "text": [
      "[2, 4, 5, 7, 8, 12, 34, 45, 99]\n",
      "Found at  8\n",
      "--- 0.0007419586181640625 seconds\n"
     ]
    }
   ],
   "source": [
    "import time\n",
    "start_time = time.time()\n",
    "main()\n",
    "\n",
    "print(\"--- %s seconds\"%(time.time() - start_time))"
   ]
  },
  {
   "cell_type": "markdown",
   "metadata": {},
   "source": [
    "# Exponential Search"
   ]
  },
  {
   "cell_type": "code",
   "execution_count": 29,
   "metadata": {},
   "outputs": [],
   "source": [
    "def expoSearch(arr,n):\n",
    "    \n",
    "    i = 1\n",
    "    u = len(arr) - 1\n",
    "    while i<len(arr) and arr[i] <= n:\n",
    "        \n",
    "        i = i*2\n",
    "    l = int(i/2)\n",
    "    return binarySearch(arr,l,min(i,u),n)\n",
    "    "
   ]
  },
  {
   "cell_type": "code",
   "execution_count": 30,
   "metadata": {},
   "outputs": [],
   "source": [
    "def main():\n",
    "    \n",
    "    arr = [5,2,7,34,8,4,12,45,99]\n",
    "    arr.sort()\n",
    "    print(arr)\n",
    "\n",
    "    n=45\n",
    "\n",
    "    if expoSearch(arr,n):\n",
    "        print(\"Found at \",pos+1)\n",
    "    else:\n",
    "        print(\"Not Found\")\n",
    "\n",
    "    \n"
   ]
  },
  {
   "cell_type": "code",
   "execution_count": 36,
   "metadata": {},
   "outputs": [
    {
     "name": "stdout",
     "output_type": "stream",
     "text": [
      "[2, 4, 5, 7, 8, 12, 34, 45, 99]\n",
      "Found at  8\n",
      "--- 0.0008199214935302734 seconds\n"
     ]
    }
   ],
   "source": [
    "import time\n",
    "start_time = time.time()\n",
    "main()\n",
    "\n",
    "print(\"--- %s seconds\"%(time.time() - start_time))"
   ]
  },
  {
   "cell_type": "code",
   "execution_count": null,
   "metadata": {},
   "outputs": [],
   "source": []
  }
 ],
 "metadata": {
  "kernelspec": {
   "display_name": "Python 3",
   "language": "python",
   "name": "python3"
  },
  "language_info": {
   "codemirror_mode": {
    "name": "ipython",
    "version": 3
   },
   "file_extension": ".py",
   "mimetype": "text/x-python",
   "name": "python",
   "nbconvert_exporter": "python",
   "pygments_lexer": "ipython3",
   "version": "3.7.0"
  }
 },
 "nbformat": 4,
 "nbformat_minor": 2
}
