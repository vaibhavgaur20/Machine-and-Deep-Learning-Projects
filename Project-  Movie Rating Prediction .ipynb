{
 "cells": [
  {
   "cell_type": "markdown",
   "metadata": {},
   "source": [
    "## Create a NLP Pipeline to 'Clean' Reviews Data\n",
    "- Load Input File and Read Reviews\n",
    "- Tokenize\n",
    "- Remove Stopwords\n",
    "- Perform Stemming\n",
    "- Write cleaned data to output file"
   ]
  },
  {
   "cell_type": "code",
   "execution_count": 1,
   "metadata": {},
   "outputs": [],
   "source": [
    "sample_text = \"\"\"I loved this movie since I was 7 and I saw it on the opening day. \n",
    "                It was so touching and beautiful. I strongly recommend seeing for all. \n",
    "                It's a movie to watch with your family by far.<br /><br />\n",
    "                My MPAA rating: PG-13 for thematic elements, prolonged scenes of disastor,\n",
    "                nudity/sexuality and some language.\"\"\""
   ]
  },
  {
   "cell_type": "markdown",
   "metadata": {},
   "source": [
    "## NLTK"
   ]
  },
  {
   "cell_type": "code",
   "execution_count": 2,
   "metadata": {},
   "outputs": [],
   "source": [
    "from nltk.tokenize import RegexpTokenizer\n",
    "from nltk.stem.porter import PorterStemmer\n",
    "from nltk.corpus import stopwords \n",
    "import pandas as pd\n"
   ]
  },
  {
   "cell_type": "code",
   "execution_count": 3,
   "metadata": {},
   "outputs": [],
   "source": [
    "# Initialise objects\n",
    "\n",
    "# 'r' stands for Regular Expression and '\\w+' indicates that include All Words\n",
    "tokenizer = RegexpTokenizer(r'\\w+')\n",
    "\n",
    "# Only calling english stopwords\n",
    "en_stopwords = set(stopwords.words('english'))\n",
    "\n",
    "ps = PorterStemmer()"
   ]
  },
  {
   "cell_type": "code",
   "execution_count": 4,
   "metadata": {},
   "outputs": [],
   "source": [
    "def getStemmedReview(review):\n",
    "    \n",
    "    review = review.lower()\n",
    "    review = review.replace('<br /><br />',' ')# removing <br /><br />  \n",
    "    \n",
    "    # Tokenize\n",
    "    \n",
    "# Tokenization is important so that each word is treated as word('loved') only not as character('l','o','v','e','d')\n",
    "    tokens = tokenizer.tokenize(review)\n",
    "    \n",
    "    new_tokens = [token for token in tokens if token not in en_stopwords]\n",
    "    \n",
    "# Stemming is done to make a word 'loved' as 'love'\n",
    "    stemmed_tokens = [ps.stem(token) for token in new_tokens]\n",
    "    \n",
    "#  We used ' '.join() func to make our list look like a string \n",
    "#  in which after every word is seperate them by putting a ' '. \n",
    "    cleaned_review = ' '.join(stemmed_tokens)\n",
    "    \n",
    "    return cleaned_review"
   ]
  },
  {
   "cell_type": "code",
   "execution_count": 5,
   "metadata": {},
   "outputs": [
    {
     "data": {
      "text/plain": [
       "'love movi sinc 7 saw open day touch beauti strongli recommend see movi watch famili far mpaa rate pg 13 themat element prolong scene disastor nuditi sexual languag'"
      ]
     },
     "execution_count": 5,
     "metadata": {},
     "output_type": "execute_result"
    }
   ],
   "source": [
    "getStemmedReview(sample_text)"
   ]
  },
  {
   "cell_type": "code",
   "execution_count": 6,
   "metadata": {},
   "outputs": [],
   "source": [
    "def getStemmedDocument(inputFile,outputFile):\n",
    "    \n",
    "    out = open(outputFile,'w')\n",
    "    \n",
    "    with open(inputFile) as f:\n",
    "        reviews = f.readlines()\n",
    "        \n",
    "    for review in reviews:\n",
    "        cleaned_review = getStemmedReview(review)\n",
    "        print((cleaned_review),file=out)\n",
    "    out.close()\n",
    "        "
   ]
  },
  {
   "cell_type": "markdown",
   "metadata": {},
   "source": [
    "# Multinomial Event Model"
   ]
  },
  {
   "cell_type": "code",
   "execution_count": 7,
   "metadata": {},
   "outputs": [],
   "source": [
    "import pandas as pd\n",
    "import numpy as np"
   ]
  },
  {
   "cell_type": "code",
   "execution_count": 8,
   "metadata": {},
   "outputs": [
    {
     "name": "stdout",
     "output_type": "stream",
     "text": [
      "                                reviews.title  reviews.rating\n",
      "0              Paperwhite voyage, no regrets!             5.0\n",
      "1           One Simply Could Not Ask For More             5.0\n",
      "2  Great for those that just want an e-reader             4.0\n",
      "3                    Love / Hate relationship             5.0\n",
      "4                                   I LOVE IT             5.0\n"
     ]
    }
   ],
   "source": [
    "# dfx = pd.read_csv(\"Review.csv\")\n",
    "# dfy = pd.read_csv(\"Review_y.csv\")\n",
    "# print(dfx)\n",
    "\n",
    "dfx = pd.read_csv(\"amazonReviews.csv\")\n",
    "\n",
    "# to remove 'nan'\n",
    "dfx.dropna(subset=['reviews.rating'], inplace = True)\n",
    "\n",
    "#to remove integer values\n",
    "# In the regular expression \\d stands for \"any digit\" and + stands for \"one or more\".\n",
    "dfx['reviews.title'] = dfx['reviews.title'].str.replace('\\d+',' ')\n",
    "\n",
    "# dfx = dfx[0:200]\n",
    "\n",
    "print(dfx[['reviews.title','reviews.rating']].head())\n",
    "# print(dfx[[\"reviews.rating\"]].shape)\n",
    "\n"
   ]
  },
  {
   "cell_type": "code",
   "execution_count": 9,
   "metadata": {},
   "outputs": [
    {
     "name": "stdout",
     "output_type": "stream",
     "text": [
      "[5. 5. 4. ... 1. 3. 1.]\n",
      "[1. 1. 1. ... 0. 0. 0.]\n"
     ]
    }
   ],
   "source": [
    "x = dfx['reviews.title'].tolist()\n",
    "\n",
    "y = dfx[\"reviews.rating\"].tolist()\n",
    "\n",
    "y = np.array(y)\n",
    "\n",
    "print(y)\n",
    "\n",
    "for i in range (0,1177):\n",
    "    if y[i] >3:\n",
    "        y[i] = 1\n",
    "    else:\n",
    "        y[i] = 0\n",
    "        \n",
    "print(y)"
   ]
  },
  {
   "cell_type": "code",
   "execution_count": 10,
   "metadata": {},
   "outputs": [
    {
     "name": "stdout",
     "output_type": "stream",
     "text": [
      "(100, 2)\n",
      "0                 Wonderful\n",
      "1     Mind-blowing purchase\n",
      "2               Good choice\n",
      "3                 Brilliant\n",
      "4               Bad quality\n",
      "5         Terrific purchase\n",
      "6                 Must buy!\n",
      "7                 Must buy!\n",
      "8                   Awesome\n",
      "9                 Wonderful\n",
      "10           Classy product\n",
      "11                Excellent\n",
      "12                Just wow!\n",
      "13        Worth every penny\n",
      "14               Delightful\n",
      "Name: Titles, dtype: object\n"
     ]
    }
   ],
   "source": [
    "# x_test = [\"I was happy and I love the acting in the movie\",\n",
    "#           \"The movie i saw was bad\"]\n",
    "\n",
    "dfxt = pd.read_csv(\"flipauto.csv\")\n",
    "print(dfxt.shape)\n",
    "\n",
    "x_test =dfxt[\"Titles\"]\n",
    "# x_test = x_test[0:10].tolist()\n",
    "print(x_test.head(15))\n",
    "\n"
   ]
  },
  {
   "cell_type": "markdown",
   "metadata": {},
   "source": [
    "### 1.Cleaning "
   ]
  },
  {
   "cell_type": "code",
   "execution_count": 11,
   "metadata": {},
   "outputs": [],
   "source": [
    "import clean_review as ct"
   ]
  },
  {
   "cell_type": "code",
   "execution_count": 12,
   "metadata": {},
   "outputs": [],
   "source": [
    "x_clean = [ct.getStemmedReview(i) for i in x]\n",
    "xt_clean = [ct.getStemmedReview(i) for i in x_test]"
   ]
  },
  {
   "cell_type": "code",
   "execution_count": 13,
   "metadata": {},
   "outputs": [
    {
     "name": "stdout",
     "output_type": "stream",
     "text": [
      "['paperwhit voyag regret', 'one simpli could ask', 'great want e reader', 'love hate relationship', 'love', 'like smaller size', 'superb read devic one best', 'love', 'un plaisir', 'work great love built light', 'tr util', 'kindl found easi find need', 'seamless reas experi', 'great addit kindl rang', 'great kindl', 'want dedic e reader got peopl found help review help ye', 'kindl vs nook updat peopl found help review help ye', 'worth money perfect good start finish novel good light peopl found help review help ye', 'worth money perfect good start finish novel good light peopl found help review help ye', 'want dedic e reader got peopl found help review help ye', 'kindl vs nook updat peopl found help review help ye', 'work great one critic flaw significantli improv peopl found help review help ye', 'box game changer demand content amazon knock park refresh updat tip hbo go peopl found help review help ye', 'work great one critic flaw significantli improv peopl found help review help ye', 'review non techi peopl found help review help ye', 'box game changer demand content amazon knock park refresh updat tip hbo go peopl found help review help ye', 'like amazon import peopl found help review help ye amazon com offici comment review', 'review non techi peopl found help review help ye', 'box game changer demand content amazon knock park refresh updat tip hbo go peopl found help review help ye', 'like amazon import peopl found help review help ye amazon com offici comment review', 'like amazon import peopl found help review help ye amazon com offici comment review', 'box game changer demand content amazon knock park refresh updat tip hbo go peopl found help review help ye', 'great upgrad aesthet', 'extra touch', 'great case minor design flaw', 'major fan buy protect', 'fabric cloth', 'love', 'great pop color bland look product', 'great look dot', 'perfect lot peopl comment', 'great upgrad aesthet', 'updat review month', 'provid excel protect new tap speak', 'also echo echo love tap', 'kf hdx ok homework prime download buy', 'enlarg version hdx good intern compon nicer screen still batteri hog though', 'dead month', 'everyth expect', 'kf hdx ok homework prime download buy peopl found help review help ye', 'kf hdx ok homework prime download buy peopl found help review help ye', 'enlarg version hdx good intern compon nicer screen still batteri hog though peopl found help review help ye', 'enlarg version hdx good intern compon nicer screen still batteri hog though peopl found help review help ye', 'rock power adapt includ prime download clarif peopl found help review help ye', 'enlarg version hdx good intern compon nicer screen still batteri hog though peopl found help review help ye', 'kf hdx ok homework prime download buy peopl found help review help ye', 'rock power adapt includ prime download clarif peopl found help review help ye', 'kf hdx ok homework prime download buy peopl found help review help ye', 'kf hdx ok homework prime download buy peopl found help review help ye', 'enlarg version hdx good intern compon nicer screen still batteri hog though peopl found help review help ye', 'great upgrad aesthet', 'extra touch', 'great case minor design flaw', 'major fan buy protect', 'fabric cloth', 'love', 'great pop color bland look product', 'great look dot', 'perfect lot peopl comment', 'great upgrad aesthet', 'updat review month', 'provid excel protect new tap speak', 'also echo echo love tap', 'great upgrad aesthet', 'extra touch', 'great case minor design flaw', 'major fan buy protect', 'fabric cloth', 'love', 'great pop color bland look product', 'great look dot', 'great control major problem recommend point time', 'save batteri keep remot anoth room use', 'make game fun', 'work great though know return', 'great control', 'inde work shield tv', 'great game control fire tv', 'great upgrad older kindl fire', 'detail review fire hd great entri level tablet great price', 'fire kitchen', 'great valu', 'great control major problem recommend point time', 'save batteri keep remot anoth room use', 'great control', 'work great though know return', 'great game control fire tv', 'great surpris gamer famili one person found help review help ye', 'need way better amount spent', 'great add amazon fire stick', 'make game fun', 'five star', 'respond firetv', 'updat review month', 'provid excel protect new tap speak', 'also echo echo love tap', 'updat review month', 'provid excel protect new tap speak', 'also echo echo love tap', 'detail review kindl', 'know buy', 'good valu nit', 'updat review month', 'provid excel protect new tap speak', 'also echo echo love tap', 'honest kindl review', 'big improv model', 'great product even better', 'honest kindl review', 'big improv model', 'great product even better', 'simpli gorgeou', 'want like tablet end somewhat disappoint', 'delight get sever year big tablet esp w screen mirror googl play', 'keep get better especi comic reader', 'great upgrad aesthet', 'extra touch', 'great case minor design flaw', 'major fan buy protect', 'fabric cloth', 'love', 'great pop color bland look product', 'great look dot', 'consid price purchas check app husband pretti sure would purchas', 'freetim make angri angri', 'great valu ok perform littl shadi price goug sd card', 'simpli gorgeou', 'want like tablet end somewhat disappoint', 'delight get sever year big tablet esp w screen mirror googl play', 'keep get better especi comic reader', 'best echo yet especi elderli parent', 'mayb expect', 'best echo avail', 'mayb expect', 'mayb expect', 'yeehaw', 'day review like echo like echo show even', 'resolut good', 'disappoint', 'excel refurbish hd good price', 'buy new refurbish top', 'slowest fire sold', 'kindl fire hdx inch tablet', 'fire ten ok', 'replac kindl hdx', 'love kindl', 'wonderful', 'great beach reader', 'five star', 'buy refurbish kindl', 'look new', 'pretti bum refurbish product', 'state art e ink reader worth money upgrad', 'happi paperwhit would bought', 'almost like paperwhit v', 'honest kindl review', 'big improv model', 'great product even better', 'honest kindl review', 'big improv model', 'great product even better', 'great updat use kindl lot', 'ive love paperwhit voyag oasi worth addit cost', 'easi read light frustrat thing', 'excel tablet reason price fire hdx set bar tablet', 'great product need softwar updat annoy problem', 'qualiti tablet excel video screen display', 'ive love paperwhit voyag oasi worth addit cost', 'superb e ink reader worth money', 'sent one back eat couch read voyag work best', 'best kindl ever know tri', 'love love love happi', 'know buy redux', 'love littl e reader', 'peopl say dark', 'perfect academ', 'love new kindl', 'state art e ink reader worth money upgrad', 'happi paperwhit would bought', 'almost like paperwhit v', 'updat great sever', 'refurb like new love echo dot', 'nice surpris', 'worth', 'great littl assist', 'nice compliment echo', 'review non techi peopl found help review help ye', 'like amazon import peopl found help review help ye amazon com offici comment review', 'like amazon import peopl found help review help ye amazon com offici comment review', 'like amazon import peopl found help review help ye amazon com offici comment review', 'box game changer demand content amazon knock park refresh updat tip hbo go peopl found help review help ye', 'box game changer demand content amazon knock park refresh updat tip hbo go peopl found help review help ye', 'work great one critic flaw significantli improv peopl found help review help ye', 'box game changer demand content amazon knock park refresh updat tip hbo go peopl found help review help ye', 'review non techi peopl found help review help ye', 'work great one critic flaw significantli improv peopl found help review help ye', 'box game changer demand content amazon knock park refresh updat tip hbo go peopl found help review help ye', 'glad gave tri', 'review non techi', 'love', 'box game changer demand content amazon knock park refresh updat tip hbo go', 'pleas everi movi select pay', 'outdat netflix', 'custom servic stun bad', 'fire tv vs everyth els stream game', 'fantast right box', 'amaz unit easi set rememb', 'superior amazon custom servic support decid factor', 'work great one critic flaw significantli improv', 'work great one critic flaw significantli improv', 'littl black box awesom', 'great devic issu overal great devic', 'love see amazon take netflix model', 'devic unus play video netflix app', 'box game changer demand content amazon knock park refresh updat tip', 'way search brows prime movi fail', 'small yet sooo big', 'review non techi', 'fire tv appl tv chromecast', 'good bought two', 'like amazon import', 'far happi especi kid favorit', 'final right stream devic', 'love fire tv', 'roku owner fire tv', 'best tv stream box everyon grandma comput scienc professor', 'amazon bill decept practic', 'love', 'button', 'love firetv voic search total spoil', 'like feel overpr', 'charger work well charg voyag come', 'glad made purchas', 'two star', 'work one person found help review help ye', 'first rate high qualiti', 'regul usb power suppli one person found help review help ye', 'two star', 'hard go wrong wall charger purchas', 'last less year', 'pretti larg charger though fit kindl', 'five star', 'adequ', 'w v', 'must', 'must one person found help review help ye', 'great charger one person found help review help ye', 'first rate high qualiti one person found help review help ye', 'problem far', 'great choic good look durabl case protect new fire tablet', 'save money', 'five star', 'case well made sturdi perfectli match color tablet', 'look nice', 'hold descript price high', 'perfect new case cover new kindl', 'nice sturdi case', 'case overal quit nice start peel apart', 'great cover', 'nice shade blue', 'good qualiti case', 'great protect look great', 'five star', 'recommend tablet page', 'accessori complment devic', 'flimsi unstabl cover buy', 'huge step older version', 'great case great tablet', 'case product cost', 'stand wear quickli one person found help review help ye', 'like case unfortun purchas wrong one', 'fire color one person found help review help ye', 'comfort way hold stand one person found help review help ye', 'good look work well', 'five star one person found help review help ye', 'like amazon fire tablet case', 'new kindl buyer think nook read', 'want read book kindl', 'kindl email address use', 'far love featur even fire hd', 'nice case work well protect tablet', 'wast money', 'nice accessori fire hd', 'cover materi disappoint', 'work look fine spendi dirt spong', 'ye', 'worth buy cover', 'good protect', 'pricey one person found help review help ye', 'nice color fit fire well one person found help review help ye', 'need remov case access sd slot good thing impress', 'fine', 'crazi tbh', 'huge design flaw', 'bad', 'excel choic good look durabl case protect amazon new fire hd tablet', 'fire hd fit secur attract case', 'complimentari new fire hd', 'disappoint perform despit good price size featur', 'simpli put great valu great tablet', 'disappoint first impress', 'great case', 'excel product', 'five star', 'job expens', 'five star one person found help review help ye', 'five star', 'four star', 'great buy', 'brought year old granangel', 'great', 'great kid', 'great case one person found help review help ye', 'like', 'low expect pleasantli surpris', 'insan good budget tablet', 'tablet amaz', 'great valu price pleas', 'fantast tablet price', 'unreal perform happier', 'singl best valu fire entir line skip fire get fire instead', 'hd fire great price', 'unreal perform happier peopl found help review help ye', 'singl best valu fire entir line skip fire get fire instead peopl found help review help ye', 'singl best valu fire entir line skip fire get fire instead peopl found help review help ye', 'hd fire great price peopl found help review help ye', 'hd fire great price peopl found help review help ye', 'hd fire great price peopl found help review help ye', 'singl best valu fire entir line skip fire get fire instead peopl found help review help ye', 'unreal perform happier peopl found help review help ye', 'unreal perform happier peopl found help review help ye', 'singl best valu fire entir line skip fire get fire instead peopl found help review help ye', 'unreal perform happier peopl found help review help ye', 'hd fire great price peopl found help review help ye', 'unreal perform happier peopl found help review help ye', 'singl best valu fire entir line skip fire get fire instead peopl found help review help ye', 'hd fire great price peopl found help review help ye', 'singl best valu fire entir line skip fire get fire instead peopl found help review help ye', 'singl best valu fire entir line skip fire get fire instead peopl found help review help ye', 'hd fire great price peopl found help review help ye', 'singl best valu fire entir line skip fire get fire instead peopl found help review help ye', 'singl best valu fire entir line skip fire get fire instead peopl found help review help ye', 'singl best valu fire entir line skip fire get fire instead peopl found help review help ye', 'unreal perform happier peopl found help review help ye', 'hd fire great price peopl found help review help ye', 'unreal perform happier peopl found help review help ye', 'hd fire great price peopl found help review help ye', 'hd fire great price peopl found help review help ye', 'unreal perform happier peopl found help review help ye', 'hd fire great price peopl found help review help ye', 'hd fire great price peopl found help review help ye', 'unreal perform happier peopl found help review help ye', 'singl best valu fire entir line skip fire get fire instead peopl found help review help ye', 'hd fire great price peopl found help review help ye', 'unreal perform happier peopl found help review help ye', 'unreal perform happier peopl found help review help ye', 'singl best valu fire entir line skip fire get fire instead peopl found help review help ye', 'great upgrad aesthet', 'extra touch', 'great case minor design flaw', 'major fan buy protect', 'fabric cloth', 'love', 'great pop color bland look product', 'great look dot', 'great upgrad aesthet', 'perfect lot peopl comment', 'perfect fit fire tablet', 'great protect devic', 'five star one person found help review help ye', 'five star', 'five star', 'perfect littl one', 'five star', 'five star', 'five star one person found help review help ye', 'great case', 'five star', 'amaz kid', 'great basic tablet amazon fan', 'amazon right time realli enjoy tablet updat th updat tip', 'great upgrad fire great buy price', 'fire tablet much better last one pleas improv freetim experi', 'ye download app like kidsyou tube', 'nice attempt make truli child friendli tablet', 'perfect kid tablet', 'kindl th gener kid bundl', 'fulli control limit', 'love', 'kid', 'love concept execut fall short custom servic terribl', 'quit steal', 'great upgrad aesthet', 'extra touch', 'great case minor design flaw', 'major fan buy protect', 'fabric cloth', 'love', 'great pop color bland look product', 'great look dot', 'perfect lot peopl comment', 'great upgrad aesthet', 'want someth cheap durabl fire kid edit perfect choic', 'parent young kid worth', 'littl explan tablet', 'good tablet could use improv', 'great gift yr old girl', 'get pay', 'except amazon com offici comment review', 'bought one year ago', 'fun durabl minor issu', 'decent inexpens entri level tablet amazon com offici comment review', 'star tablet updat', 'th kindl fire hd love hate relationship', 'decent inexpens entri level tablet amazon com offici comment review', 'star tablet updat peopl found help review help ye', 'decent inexpens entri level tablet peopl found help review help ye amazon com offici comment review', 'nice new featur glad kept kfhd peopl found help review help ye', 'decent inexpens entri level tablet peopl found help review help ye amazon com offici comment review', 'evolutionari revolutionari worth upgrad', 'new step forward read kindl', 'good first paperwhit worthi upgrad', 'amazon two bargain fire tablet good model compar note sound qualiti limit', 'great tablet basic use', 'ip screen make differ world still googl app compat', 'parkinson disabl love', 'new companion brother ms', 'smartest check video quick demo', 'best ever spent', 'alexea bluetooth speaker', 'outstand price point emot moment power alexa order today', 'huge improv last year releas half price', 'major secur flaw', 'new companion brother ms', 'smartest check video quick demo', 'best ever spent', 'new companion brother ms', 'new companion brother ms', 'best ever spent', 'steal long arent expect premium experi', 'updat incred valu', 'best valu especi prime bewar mine dead pixel work gh antutu benchmark', 'uber awesom fact even order uber ride', 'alreadi practic overcom disabl issu', 'beauti ladi earth sure', 'uber awesom fact even order uber ride', 'uber awesom fact even order uber ride', 'alreadi practic overcom disabl issu', 'alexa love thi name inflex thou art otherwis nearli perfect spous', 'uber awesom fact even order uber ride', 'alreadi practic overcom disabl issu', 'evolutionari revolutionari worth upgrad', 'new step forward read kindl', 'good first paperwhit worthi upgrad', 'huge upgrad kindl keyboard', 'apri th updat good upgrad last year model beauti display great devic fell short batteri life', 'excel rd gener tablet compar favor competit', 'kinder fire hot', 'nice tablet sharp display', 'nice tablet sharp display', 'excel rd gener tablet compar favor competit', 'excel rd gener tablet compar favor competit', 'nice tablet sharp display', 'excel rd gener tablet compar favor competit peopl found help review help ye', 'excel rd gener tablet compar favor competit peopl found help review help ye', 'nice tablet sharp display peopl found help review help ye', 'apri th updat good upgrad last year model beauti display great devic fell short batteri life peopl found help review help ye', 'apri th updat good upgrad last year model beauti display great devic fell short batteri life peopl found help review help ye', 'nice tablet sharp display peopl found help review help ye', 'excel rd gener tablet compar favor competit peopl found help review help ye', 'apri th updat good upgrad last year model beauti display great devic fell short batteri life peopl found help review help ye', 'apri th updat good upgrad last year model beauti display great devic fell short batteri life peopl found help review help ye', 'excel rd gener tablet compar favor competit peopl found help review help ye', 'apri th updat good upgrad last year model beauti display great devic fell short batteri life peopl found help review help ye', 'excel rd gener tablet compar favor competit peopl found help review help ye', 'apri th updat good upgrad last year model beauti display great devic fell short batteri life peopl found help review help ye', 'nice tablet sharp display', 'excel rd gener tablet compar favor competit', 'echo littl sister amaz', 'tap alexa go', 'amazon tap review best bluetooth speaker categori', 'great', 'awesom smart littl portabl speaker', 'amaz technolog', '', 'nice amazon product', 'happi', 'great price good product', 'great sound versatil', 'like', 'great product', 'easi carri room room outsid', 'hand free', 'amazon tap', 'well built', 'love', 'great item beginn', 'meet need', 'awesom', 'versitl amazon line', 'better sound expect', 'product amaz', 'entertain new technolog make', 'anoth one', 'easi set', 'impress', 'love', 'great user friendli', 'perfect great job', 'great babi alexa', 'great product requir amazon membership', 'great concept', 'respons intuit', 'greatest invent ever', 'amazon tap wonder addit home', 'great sound', 'dissatisfi', 'excel intellig speaker', 'best father day gift', 'perfect', 'kid know alexa', 'great echo', 'fun technolog assist', 'excel', 'good', 'love', 'alexa amost everi hous hold', 'portabl alexa', 'wow', 'great far', 'work promis', 'limit', 'full size yet portabl', 'cool', 'nice howev', 'great product good bass price', 'awesom speaker', 'awesom devic w alexa featur', 'amazon echo portabl bluetooth speaker', 'amaz', 'love alexa', 'great devic', 'luv product', 'excel amazon tap famili love', 'big helper', 'great purchas', 'fabul speaker', 'love', 'best voic command dosen list time', 'love dot hate tap portabl', 'tap', 'great product', 'excel sound portabl speaker', 'great purchas', 'great product', 'alexa help', 'unpleas quirk overal good', 'cool littl gadget', 'great devic', 'great home travel', 'well worth', 'great product', 'love', 'small echo take outsid', 'loud good batteri', 'great go speaker', 'solid', 'cool app work well', 'alexa hous', 'great devic', 'great product', 'amazon tap', 'good bluetooth speaker', 'best speaker three', 'ok product', 'alexa bluetooth gold', 'great product', 'much fun travel', 'anoth win amazon', 'echo great', 'excel', 'great product', 'great blutooth speaker', 'amaz', 'say', 'great entir famili', 'great sound small speaker', 'great product', 'awesom speaker', 'fun addit home', 'great return alexxa love', 'great', 'great product', 'must', 'amazon tap', 'great product', 'great addit home devic', 'awesom', 'love alexa', 'met expect', 'user friendli', 'great devic made better sofwar updat', 'tab awesom', 'great', 'son xma gift', 'nice', 'much fun', 'wife love tap', 'alexa best', 'tap', 'bad', 'awesom qualiti speaker', 'use info fun around', 'love lil thing', 'great sound', 'great product price', 'great addit echo', 'amaz', 'excel sound', 'great product', 'unsur', 'good companion echo', 'voic command would nice', 'ok', 'great sound', 'great easi set', 'much fun', 'great speaker', 'excel product', 'enjoy amazion blue tooth speaker great sound', 'awesom', 'great speaker', 'never work', 'great speaker qualiti', 'great start smart home', 'great', 'great tool quick inform', 'excel sound small packag', 'love alexa', 'great', 'love', 'good sound tap', 'easi setup', 'mother law christma gift success', 'great sound eas setup use', 'gift', 'fun product', 'good', 'great speaker', 'like', 'gift', 'amazon tap', 'good bluetooth speaker', 'work love', 'great gadget', 'thought', 'nice done', 'great sourc info', 'great amazon tap', 'tap fill gap need fill', 'great sound fun', 'good fun', 'great product', 'great gift', 'choos alexa siri day', 'littl fun use', 'lot fun', 'awesom', 'awesom', 'excel', 'alexa', 'wife love', 'great', 'great devic', 'awesom', 'perfect', 'amazon tap best portabl tech item season', 'great gift idea', 'two thumb', 'love echo', 'good product', 'excel sound qualiti', 'great product', 'great gift', 'great assist', 'great price', 'great sound', 'happi', 'realli enjoy amazon product', 'good bluetooth devic', 'great sound', 'go', 'great', 'great fun famili', 'ok', 'awesom colleg student', 'work great', 'littl hard teach', 'tap', 'amazon tap', 'technolog amaz', 'great product', 'amazon tap great', 'great product', 'great sound qualiti', 'work well', 'great add echo', 'great devic overal', 'good think', 'great dumb speaker', 'great speaker go', 'great speaker portabl', 'work well need alittl depth search', 'alexa littl helper', 'awesom speaker', 'amazon tap', 'great product', 'great portabl', 'work great', 'love', 'excit', 'portabl echo', 'great product ton featur', 'bad product button annoy', 'great wireless speaker', 'fun amaz', 'best new product', 'echo tap', 'alway someth', 'great portab alexa', 'great product', 'great fun love', 'gift', 'gift', 'realli like', 'husband love', 'perfect listen music', 'amaz', 'great beginn', 'awesom speaker', 'great music', 'great price', 'perfect play music', 'great piec tech', 'great portabl version echo', 'sound great afford price', 'nice', 'pleas', 'great alexa product', 'love amazon tab', 'return', 'terribl product bad voic qualiti', 'decent sound portabl excel', 'awesom devic', 'nice addit echo lineup', 'great price', 'mani use perform well', 'great stream devic lack sound', 'work great', 'love tap', 'like realli need', 'love speaker', 'great product', 'great extens echo', 'good', 'fun littl black box', 'great way play music', 'good product good sale price', 'gift someon', 'pain use', 'great camera beginn', 'amaz', 'nice price', 'must', 'great sound', 'amaz sound great batteri life', 'fun', 'sound qualiti horribl', 'unabl rate time', 'awesom', 'nice product', 'sound qualiti great', 'nice portabl speaker', 'great speaker', 'great tech', 'great purpos', 'great sound', 'love', 'gimmick', 'great speaker', 'new best friend', 'great', 'rare give good answer', 'perfect bluetooth speaker plu much', 'excel mobil speaker', 'great new bluetooth', 'worth everi penni', 'fantast speaker', 'like echo without voic prompt', 'ok product', 'amazon tap', 'even us old peopl use', 'awesom smart devic', 'work', 'great speaker great product', 'much speaker', 'great product', 'fun easi', 'great listen music go', 'know would like much', 'great speaker', 'neat littl speaker', 'great buy', 'great item', 'great overpr alarm clock', 'love tap', 'nice music anytim want', 'great fidel', 'great listen prime music', 'amazon tap', 'great altern expens one', 'great music player', 'love product', 'fun itwm state', 'love portabl', 'good fit echo', 'great buy', 'love great sound', 'love abl ask question alexa', 'great portabl echo', 'cool product', 'worth everi penni', 'great portabl speaker fun', 'good product', 'great', 'super loud', 'great', 'great devic control home', 'excel speaker', 'amazon tap', 'super easi set use', 'tire', 'awesom product', 'alexa', 'great speaker great featur', 'alexa work good', 'great sound portabl bluetooth', 'easi way play music', 'awesom', 'versatil amazon echo', 'sound', 'excel product price', 'great product', 'work great', 'ok echo better', 'overal good', 'great assist', 'would better dot', 'great devic', 'love tap', 'best bt voic', 'tap tap tappi', 'handi speaker need best sound', 'far good', 'alexa work', 'speaker', 'great buy', 'ok price', 'great sound littl speaker', 'pretti good', 'alexa great', 'son love', 'great speaker', 'awesom', 'like much', 'impuls buy', 'privaci alexa awesom', 'great music', 'love', 'love speaker mani extra', 'amazon tap bluetooth alexa', 'alexa charm reason intellig', 'got hook', 'alexa great gadget', 'gift product', 'portabl', 'okay sound', 'versatil great sound small devic', 'great great great', 'love', 'new found friend', 'amazon tap great', 'great littl speaker', 'cool gadget', 'perfect companion amazon echo', 'great function speaker could better', 'love echo tap', 'fun use great sound', 'nice bt wifi speaker', 'tap', 'great music', 'music go', 'return product', 'great lot fun', 'good bluetooth speaker better echo', 'excel sound qualiti', 'alexa tap finger', 'great function portabl', 'nice', 'great portabl bluetooth speaker', 'great portabl speaker', 'great price tap', 'tap', 'tap', 'tap', '', 'great product', 'nice speaker', 'work great', 'great sound cheaper echo', 'great companion', 'versatil devic superior sound', 'use everyday', 'great speaker need tech', 'great speaker', 'good speaker', 'okay', 'everyth love echo go', 'wave futur', 'portabl', 'smart speaker go', 'great alexa go', 'work ok', 'amazon tap bring new mean portabl music', 'pleasant surpris better expect', 'good speaker good price', 'awesom speaker alexa', 'nice addit echo owner', 'good miss key featur', 'would work properli', 'excel sound', 'love', 'work good kid love', 'great product', 'coolest high tech gadget', 'miss one', 'great sound speaker', 'amaz sound qualiti', 'great travel side', 'awesom', 'easi small decent sound', 'great sound qualiti big deal', 'use everyday', 'amazon tap great', 'echo tap great', 'nice altern echo', 'great sound', 'great littl alexa speaker', 'love', 'great fun', 'love one except', 'lot app built', 'enjoy product', 'home theater like sound', 'portabl interact entertain', 'enjoy use speaker work home', 'love', 'prime member ideal', 'love', 'good great', 'amaz speaker', 'alexa bass', 'awesom', 'amazon echo tap', 'great speaker', 'great item beginn', 'love product', 'great product', 'tap', 'great portabl speaker', 'great item', 'love', 'featur realiz', 'connect', 'great bluetooth speaker', 'nd one got', 'good size kitchen locat', 'origin echo love', 'greatest thing ever', 'great portabl speaker', 'tap must outsid', 'fantast', 'great product', 'hitechlov', 'awesom portabl speaker', 'amazon tap', 'good invest', 'love', 'nice buy', 'expect', 'work', 'perfect speaker', 'great product', 'great devic', 'great product', 'excel product', 'portabl good sound', 'excel product', 'nice music player', 'gift daughter', 'love much', 'love', 'good alt echo', 'great', 'great portabl', 'bluetooth speaker', 'kid love', 'brilliant product', 'great bluetooth speaker use amazon alexa', 'tap', 'updat downgrad', 'screen protector', 'one found work fire phone', 'moshi screen protector good choos devic part whether make', 'wast time screen protector buy one', 'secondli realli soft actual thu scratch easili anyth near cellphon key', 'perfect fit super easi applic zero bubbl', 'piec plastic', 'love god buy', 'work great less two month one person found help review help ye', 'great screen protector bubbl great kid', 'highli recommend', 'troubl understand command volum control slow respond', 'great rang handi wish home base mount still', 'magnet holster remot', 'work great read instruct', 'dead week', 'awesom serv purpos', 'remot great addit', 'beauti function', 'replac cover amazon warranti', 'good reader connect problem', 'great color one person found help review help ye', 'impress', 'great color one person found help review help ye', 'five star', 'four star one person found help review help ye', 'love oasi cover though eh', 'three star', 'one star', 'case amaz look good one person found help review help ye', 'beauti function', 'replac cover amazon warranti', 'good reader connect problem', 'great color one person found help review help ye', 'impress', 'great color one person found help review help ye', 'five star', 'great color', 'four star one person found help review help ye', 'love oasi cover though eh', 'awesom headphon longev issu', 'would say go headphon everyday use', 'hate shove headphon brain use', 'would say go headphon everyday use peopl found help review help ye', 'would say go headphon everyday use peopl found help review help ye', 'awesom headphon longev issu peopl found help review help ye', 'awesom headphon longev issu peopl found help review help ye', 'awesom headphon longev issu peopl found help review help ye', 'hate shove headphon brain use peopl found help review help ye', 'would say go headphon everyday use', 'hate shove headphon brain use peopl found help review help ye', 'would say go headphon everyday use peopl found help review help ye', 'would say go headphon everyday use peopl found help review help ye', 'hate shove headphon brain use peopl found help review help ye', 'would say go headphon everyday use peopl found help review help ye', 'would say go headphon everyday use peopl found help review help ye', 'awesom headphon longev issu peopl found help review help ye', 'awesom headphon longev issu peopl found help review help ye', 'hate shove headphon brain use peopl found help review help ye', 'would say go headphon everyday use peopl found help review help ye', 'awesom headphon longev issu peopl found help review help ye', 'hate shove headphon brain use peopl found help review help ye', 'awesom headphon longev issu peopl found help review help ye', 'awesom headphon longev issu peopl found help review help ye', 'would say go headphon everyday use peopl found help review help ye', 'hate shove headphon brain use peopl found help review help ye', 'awesom headphon longev issu peopl found help review help ye', 'awesom headphon longev issu peopl found help review help ye', 'awesom headphon longev issu peopl found help review help ye', 'hate shove headphon brain use peopl found help review help ye', 'hate shove headphon brain use peopl found help review help ye', 'hate shove headphon brain use peopl found help review help ye', 'awesom headphon longev issu peopl found help review help ye', 'awesom headphon longev issu peopl found help review help ye', 'would say go headphon everyday use peopl found help review help ye', 'awesom headphon longev issu peopl found help review help ye', 'hate shove headphon brain use peopl found help review help ye', 'awesom headphon longev issu peopl found help review help ye', 'hate shove headphon brain use peopl found help review help ye', 'hate shove headphon brain use peopl found help review help ye', 'awesom headphon longev issu peopl found help review help ye', 'awesom headphon longev issu peopl found help review help ye', 'hate shove headphon brain use peopl found help review help ye', 'hate shove headphon brain use peopl found help review help ye', 'awesom headphon longev issu peopl found help review help ye', 'awesom headphon longev issu peopl found help review help ye', 'hate shove headphon brain use peopl found help review help ye', 'would say go headphon everyday use peopl found help review help ye', 'hate shove headphon brain use peopl found help review help ye', 'would say go headphon everyday use peopl found help review help ye', 'awesom headphon longev issu peopl found help review help ye', 'awesom headphon longev issu peopl found help review help ye', 'awesom headphon longev issu peopl found help review help ye', 'hate shove headphon brain use peopl found help review help ye', 'awesom headphon longev issu peopl found help review help ye', 'awesom headphon longev issu peopl found help review help ye', 'awesom headphon longev issu peopl found help review help ye', 'awesom headphon longev issu peopl found help review help ye', 'awesom headphon longev issu peopl found help review help ye', 'awesom headphon longev issu peopl found help review help ye', 'awesom headphon longev issu peopl found help review help ye', 'awesom headphon longev issu peopl found help review help ye', 'hate shove headphon brain use peopl found help review help ye', 'awesom headphon longev issu', 'awesom headphon longev issu peopl found help review help ye', 'would say go headphon everyday use peopl found help review help ye', 'would say go headphon everyday use peopl found help review help ye', 'hate shove headphon brain use peopl found help review help ye', 'awesom headphon longev issu peopl found help review help ye', 'would say go headphon everyday use peopl found help review help ye', 'hate shove headphon brain use peopl found help review help ye', 'awesom headphon longev issu peopl found help review help ye', 'hate shove headphon brain use peopl found help review help ye', 'awesom headphon longev issu peopl found help review help ye', 'awesom headphon longev issu peopl found help review help ye', 'awesom headphon longev issu peopl found help review help ye', 'hate shove headphon brain use peopl found help review help ye', 'settl phone app pay entir thing get anoth remot shame amazon', 'work great origin deliveri date june juli', 'great second remot', 'disappoint updat', 'download remot app instead control fire tv via smart phone', 'decent replac someth shouldnt replac', 'great inexpens way add nd remot amazon fire tv', 'amazon fire tv remot suck', 'amazon fire tv remot suck', 'faulti remot short life span', 'work', 'dispos', 'nd bad remot', 'settl phone app pay entir thing get anoth remot shame amazon', 'hold home key', 'disappoint', 'updat longer work fire tv', 'tri replac non work remot', 'great remot hard pair', 'third replac remot', 'buy', 'expect amazon produc product', 'oem remot gave month consid replac', 'voic remot control poo', 'would disappoint produc remot', 'batteri drain remot', 'replac even wors remot wast time', 'overpr', 'send crap back amazon cancel fire subscript']\n",
      "['wonder', 'mind blow purchas', 'good choic', 'brilliant', 'bad qualiti', 'terrif purchas', 'must buy', 'must buy', 'awesom', 'wonder', 'classi product', 'excel', 'wow', 'worth everi penni', 'delight', 'worth money', 'classi product', 'horribl', 'simpli awesom', 'okay', 'classi product', 'excel', 'wow', 'worth everi penni', 'delight', 'worth money', 'classi product', 'horribl', 'simpli awesom', 'okay', 'recommend', 'worth everi penni', 'highli recommend', 'super', 'worthless', 'highli recommend', 'nice product', 'worth money', 'classi product', 'great product', 'wow', 'valu money', 'job', 'wast money', 'brilliant', 'realli nice', 'terrif', 'wonder', 'valu money', 'valu money', 'hate', 'wonder', 'recommend', 'wonder', 'worst experi ever', 'slightli disappoint', 'recommend', 'great product', 'terrif purchas', 'must buy', 'terrif', 'terrif', 'pretti good', 'terrif purchas', 'good qualiti product', 'excel', 'terribl product', 'good', 'worth money', 'terrif', 'wast money', 'wonder', 'recommend', 'excel', 'job', 'great product', 'great product', 'brilliant', 'good qualiti product', 'awesom', 'wonder', 'highli recommend', 'realli nice', 'pretti good', 'worth money', 'wonder', 'best market', 'nice', 'terrif', 'terrif', 'okay', 'terrif', 'worth everi penni', 'wonder', 'classi product', 'mind blow purchas', 'must buy', 'awesom', 'good choic', 'valu money']\n"
     ]
    }
   ],
   "source": [
    "print(x_clean)\n",
    "print(xt_clean)"
   ]
  },
  {
   "cell_type": "markdown",
   "metadata": {},
   "source": [
    "### 2. Vectorization"
   ]
  },
  {
   "cell_type": "code",
   "execution_count": 14,
   "metadata": {},
   "outputs": [],
   "source": [
    "from sklearn.feature_extraction.text  import CountVectorizer"
   ]
  },
  {
   "cell_type": "code",
   "execution_count": 15,
   "metadata": {},
   "outputs": [
    {
     "name": "stdout",
     "output_type": "stream",
     "text": [
      "SPARSE MATRIX\n",
      "[[0 0 0 ... 0 0 0]\n",
      " [0 0 0 ... 0 0 0]\n",
      " [0 0 0 ... 0 0 0]\n",
      " ...\n",
      " [0 0 0 ... 0 0 0]\n",
      " [0 0 0 ... 0 0 0]\n",
      " [0 0 0 ... 0 0 0]]\n",
      "(1177, 739)\n"
     ]
    }
   ],
   "source": [
    "cv = CountVectorizer()\n",
    "x_vec =cv.fit_transform(x_clean).toarray()\n",
    "\n",
    "print(\"SPARSE MATRIX\")\n",
    "\n",
    "print(x_vec)\n",
    "print(x_vec.shape)"
   ]
  },
  {
   "cell_type": "code",
   "execution_count": 16,
   "metadata": {},
   "outputs": [
    {
     "name": "stdout",
     "output_type": "stream",
     "text": [
      "['abl', 'academ', 'access', 'accessori', 'actual', 'adapt', 'add', 'addit', 'address', 'adequ', 'aesthet', 'afford', 'ago', 'alarm', 'alexa', 'alexea', 'alexxa', 'alittl', 'almost', 'alreadi', 'also', 'alt', 'altern', 'alway', 'amaz', 'amazion', 'amazon', 'amost', 'amount', 'angri', 'annoy', 'anoth', 'answer', 'antutu', 'anyth', 'anytim', 'apart', 'app', 'appl', 'applic', 'apri', 'arent', 'around', 'art', 'ask', 'assist', 'attempt', 'attract', 'avail', 'awesom', 'babi', 'back', 'bad', 'bar', 'bargain', 'base', 'basic', 'bass', 'batteri', 'beach', 'beauti', 'beginn', 'benchmark', 'best', 'better', 'bewar', 'big', 'bill', 'black', 'bland', 'blue', 'bluetooth', 'blutooth', 'book', 'bought', 'box', 'brain', 'brilliant', 'bring', 'brother', 'brought', 'brows', 'bt', 'bubbl', 'budget', 'built', 'bum', 'bundl', 'button', 'buy', 'buyer', 'camera', 'cancel', 'card', 'carri', 'case', 'categori', 'cellphon', 'changer', 'charg', 'charger', 'charm', 'cheap', 'cheaper', 'check', 'child', 'choic', 'choos', 'christma', 'chromecast', 'clarif', 'clock', 'cloth', 'colleg', 'color', 'com', 'come', 'comfort', 'comic', 'command', 'comment', 'companion', 'compar', 'compat', 'competit', 'compliment', 'complimentari', 'complment', 'compon', 'comput', 'concept', 'connect', 'consid', 'content', 'control', 'cool', 'coolest', 'cost', 'couch', 'could', 'cover', 'crap', 'crazi', 'critic', 'custom', 'dark', 'date', 'daughter', 'day', 'dead', 'deal', 'decent', 'decept', 'decid', 'dedic', 'delight', 'deliveri', 'demand', 'demo', 'depth', 'descript', 'design', 'despit', 'detail', 'devic', 'differ', 'dirt', 'disabl', 'disappoint', 'display', 'dispos', 'dissatisfi', 'done', 'dosen', 'dot', 'downgrad', 'download', 'drain', 'dumb', 'durabl', 'earth', 'eas', 'easi', 'easili', 'eat', 'echo', 'edit', 'eh', 'elderli', 'els', 'email', 'emot', 'end', 'enjoy', 'enlarg', 'entertain', 'entir', 'entri', 'esp', 'especi', 'even', 'ever', 'everi', 'everyday', 'everyon', 'everyth', 'evolutionari', 'excel', 'except', 'excit', 'execut', 'expect', 'expens', 'experi', 'explan', 'extens', 'extra', 'fabric', 'fabul', 'fact', 'factor', 'fail', 'fall', 'famili', 'fan', 'fantast', 'far', 'father', 'faulti', 'favor', 'favorit', 'featur', 'feel', 'fell', 'fidel', 'fill', 'final', 'find', 'fine', 'finger', 'finish', 'fire', 'firetv', 'first', 'fit', 'five', 'flaw', 'flimsi', 'forward', 'found', 'four', 'free', 'freetim', 'friend', 'friendli', 'frustrat', 'full', 'fulli', 'fun', 'function', 'futur', 'gadget', 'game', 'gamer', 'gap', 'gave', 'gener', 'get', 'gh', 'gift', 'gimmick', 'girl', 'give', 'glad', 'go', 'god', 'gold', 'good', 'googl', 'gorgeou', 'got', 'goug', 'granangel', 'grandma', 'great', 'greatest', 'half', 'hand', 'handi', 'happi', 'happier', 'hard', 'hate', 'hbo', 'hd', 'hdx', 'headphon', 'help', 'helper', 'high', 'highli', 'hitechlov', 'hog', 'hold', 'holster', 'home', 'homework', 'honest', 'hook', 'horribl', 'hot', 'hous', 'howev', 'huge', 'husband', 'idea', 'ideal', 'import', 'impress', 'improv', 'impuls', 'inch', 'includ', 'incred', 'inde', 'inexpens', 'inflex', 'info', 'inform', 'ink', 'insan', 'instead', 'instruct', 'intellig', 'interact', 'intern', 'intuit', 'invent', 'invest', 'ip', 'issu', 'item', 'itwm', 'ive', 'job', 'juli', 'june', 'keep', 'kept', 'key', 'keyboard', 'kf', 'kfhd', 'kid', 'kidsyou', 'kinder', 'kindl', 'kitchen', 'knock', 'know', 'lack', 'ladi', 'larg', 'last', 'law', 'less', 'level', 'life', 'light', 'like', 'lil', 'limit', 'line', 'lineup', 'list', 'listen', 'littl', 'locat', 'long', 'longer', 'longev', 'look', 'lot', 'loud', 'love', 'low', 'luv', 'made', 'magnet', 'major', 'make', 'mani', 'match', 'materi', 'mayb', 'mean', 'meet', 'member', 'membership', 'met', 'mine', 'minor', 'mirror', 'miss', 'mobil', 'model', 'moment', 'money', 'month', 'moshi', 'mother', 'mount', 'movi', 'ms', 'much', 'music', 'must', 'name', 'nd', 'near', 'nearli', 'neat', 'need', 'netflix', 'never', 'new', 'nice', 'nicer', 'nit', 'non', 'nook', 'note', 'novel', 'oasi', 'oem', 'offici', 'ok', 'okay', 'old', 'older', 'one', 'order', 'origin', 'otherwis', 'outdat', 'outsid', 'outstand', 'overal', 'overcom', 'overpr', 'owner', 'packag', 'page', 'pain', 'pair', 'paperwhit', 'parent', 'park', 'parkinson', 'part', 'pay', 'peel', 'penni', 'peopl', 'perfect', 'perfectli', 'perform', 'person', 'phone', 'piec', 'pixel', 'plaisir', 'plastic', 'play', 'player', 'pleas', 'pleasant', 'pleasantli', 'plu', 'point', 'poo', 'pop', 'portab', 'portabl', 'power', 'practic', 'premium', 'pretti', 'price', 'pricey', 'prime', 'privaci', 'problem', 'produc', 'product', 'professor', 'promis', 'prompt', 'properli', 'protect', 'protector', 'provid', 'purchas', 'purpos', 'put', 'qualiti', 'question', 'quick', 'quickli', 'quirk', 'quit', 'rang', 'rare', 'rate', 'rd', 'read', 'reader', 'realiz', 'realli', 'reas', 'reason', 'recommend', 'redux', 'refresh', 'refurb', 'refurbish', 'regret', 'regul', 'relationship', 'releas', 'rememb', 'remot', 'remov', 'replac', 'requir', 'resolut', 'respond', 'respons', 'return', 'review', 'revolutionari', 'ride', 'right', 'rock', 'roku', 'room', 'sale', 'save', 'say', 'scienc', 'scratch', 'screen', 'sd', 'seamless', 'search', 'season', 'second', 'secondli', 'secur', 'see', 'select', 'send', 'sent', 'serv', 'servic', 'set', 'settl', 'setup', 'sever', 'shade', 'shadi', 'shame', 'sharp', 'shield', 'short', 'shouldnt', 'shove', 'show', 'side', 'significantli', 'simpli', 'singl', 'siri', 'sister', 'size', 'skip', 'slot', 'slow', 'slowest', 'small', 'smaller', 'smart', 'smartest', 'soft', 'softwar', 'sofwar', 'sold', 'solid', 'someon', 'someth', 'somewhat', 'son', 'sooo', 'sound', 'sourc', 'span', 'speak', 'speaker', 'spendi', 'spent', 'spoil', 'spong', 'spous', 'stand', 'star', 'start', 'state', 'steal', 'step', 'stick', 'still', 'stream', 'student', 'stun', 'sturdi', 'subscript', 'success', 'suck', 'super', 'superb', 'superior', 'suppli', 'support', 'sure', 'surpris', 'tab', 'tablet', 'take', 'tap', 'tappi', 'tbh', 'teach', 'tech', 'techi', 'technolog', 'ten', 'terribl', 'th', 'theater', 'thi', 'thing', 'think', 'third', 'thou', 'though', 'thought', 'three', 'thu', 'thumb', 'time', 'tip', 'tire', 'today', 'ton', 'tool', 'tooth', 'top', 'total', 'touch', 'tr', 'travel', 'tri', 'troubl', 'truli', 'tube', 'tv', 'two', 'uber', 'un', 'unabl', 'understand', 'unfortun', 'unit', 'unpleas', 'unreal', 'unstabl', 'unsur', 'unus', 'updat', 'upgrad', 'us', 'usb', 'use', 'user', 'util', 'valu', 'versatil', 'version', 'versitl', 'via', 'video', 'voic', 'volum', 'voyag', 'vs', 'wall', 'want', 'warranti', 'wast', 'wave', 'way', 'wear', 'week', 'well', 'whether', 'wife', 'wifi', 'win', 'wireless', 'wish', 'without', 'wonder', 'wonderful', 'work', 'world', 'wors', 'worth', 'worthi', 'would', 'wow', 'wrong', 'xma', 'ye', 'year', 'yeehaw', 'yet', 'young', 'yr', 'zero']\n"
     ]
    }
   ],
   "source": [
    "# Above is the matrix of the frequency of occurence of a word in one review, below are the attributes or the word that \n",
    "# whose frequency is shown\n",
    "\n",
    "\n",
    "print(cv.get_feature_names())"
   ]
  },
  {
   "cell_type": "code",
   "execution_count": 17,
   "metadata": {},
   "outputs": [
    {
     "name": "stdout",
     "output_type": "stream",
     "text": [
      "[[0 0 0 ... 0 0 0]\n",
      " [0 0 0 ... 0 0 0]\n",
      " [0 0 0 ... 0 0 0]\n",
      " ...\n",
      " [0 0 0 ... 0 0 0]\n",
      " [0 0 0 ... 0 0 0]\n",
      " [0 0 0 ... 0 0 0]]\n",
      "(100, 739)\n"
     ]
    }
   ],
   "source": [
    "## Vectorization on the test set\n",
    "xt_vec = cv.transform(xt_clean).toarray()\n",
    "print(xt_vec)\n",
    "cv.get_feature_names()\n",
    "print(xt_vec.shape)"
   ]
  },
  {
   "cell_type": "markdown",
   "metadata": {},
   "source": [
    "### 3. Multinomial Naive Bayes"
   ]
  },
  {
   "cell_type": "code",
   "execution_count": 18,
   "metadata": {},
   "outputs": [],
   "source": [
    "from sklearn.naive_bayes import MultinomialNB,BernoulliNB"
   ]
  },
  {
   "cell_type": "code",
   "execution_count": 19,
   "metadata": {},
   "outputs": [
    {
     "name": "stdout",
     "output_type": "stream",
     "text": [
      "MultinomialNB()\n"
     ]
    }
   ],
   "source": [
    "mnb = MultinomialNB()\n",
    "print(mnb)"
   ]
  },
  {
   "cell_type": "code",
   "execution_count": 20,
   "metadata": {},
   "outputs": [
    {
     "data": {
      "text/plain": [
       "MultinomialNB()"
      ]
     },
     "execution_count": 20,
     "metadata": {},
     "output_type": "execute_result"
    }
   ],
   "source": [
    "# Training\n",
    "mnb.fit(x_vec,y)"
   ]
  },
  {
   "cell_type": "code",
   "execution_count": 83,
   "metadata": {},
   "outputs": [
    {
     "name": "stdout",
     "output_type": "stream",
     "text": [
      "[1. 1. 1. ... 0. 1. 0.]\n",
      "86.15123194562447\n"
     ]
    }
   ],
   "source": [
    "# Predictions\n",
    "import numpy as np\n",
    "\n",
    "overall = np.array(mnb.predict(x_vec))\n",
    "print(mnb.predict(x_vec))\n",
    "\n",
    "overall = np.average(overall)\n",
    "print(overall*100)"
   ]
  },
  {
   "cell_type": "code",
   "execution_count": 84,
   "metadata": {},
   "outputs": [
    {
     "data": {
      "text/plain": [
       "0.9396771452846219"
      ]
     },
     "execution_count": 84,
     "metadata": {},
     "output_type": "execute_result"
    }
   ],
   "source": [
    "mnb.score(x_vec,y)"
   ]
  },
  {
   "cell_type": "markdown",
   "metadata": {},
   "source": [
    "## Bernoulli Naive Bayes"
   ]
  },
  {
   "cell_type": "code",
   "execution_count": 23,
   "metadata": {},
   "outputs": [
    {
     "name": "stdout",
     "output_type": "stream",
     "text": [
      "BernoulliNB()\n"
     ]
    }
   ],
   "source": [
    "bnb = BernoulliNB()\n",
    "print(bnb)"
   ]
  },
  {
   "cell_type": "code",
   "execution_count": 24,
   "metadata": {},
   "outputs": [
    {
     "data": {
      "text/plain": [
       "BernoulliNB()"
      ]
     },
     "execution_count": 24,
     "metadata": {},
     "output_type": "execute_result"
    }
   ],
   "source": [
    "# Training\n",
    "\n",
    "bnb.fit(x_vec,y)"
   ]
  },
  {
   "cell_type": "code",
   "execution_count": 25,
   "metadata": {},
   "outputs": [
    {
     "data": {
      "text/plain": [
       "array([1., 1., 1., 1., 1., 1., 1., 1., 1., 1., 1., 1., 1., 1., 1., 1., 1.,\n",
       "       1., 1., 1., 1., 1., 1., 1., 1., 1., 1., 1., 1., 1., 1., 1., 1., 1.,\n",
       "       1., 1., 1., 1., 1., 1., 1., 1., 1., 1., 1., 1., 1., 1., 1., 1., 1.,\n",
       "       1., 1., 1., 1., 1., 1., 1., 1., 1., 1., 1., 1., 1., 1., 1., 1., 1.,\n",
       "       1., 1., 1., 1., 1., 1., 1., 1., 1., 1., 1., 1., 1., 1., 1., 1., 1.,\n",
       "       1., 1., 1., 1., 1., 1., 1., 1., 1., 1., 1., 1., 1., 1., 1.])"
      ]
     },
     "execution_count": 25,
     "metadata": {},
     "output_type": "execute_result"
    }
   ],
   "source": [
    "bnb.predict(xt_vec)"
   ]
  },
  {
   "cell_type": "code",
   "execution_count": 26,
   "metadata": {},
   "outputs": [
    {
     "data": {
      "text/plain": [
       "0.9099405267629567"
      ]
     },
     "execution_count": 26,
     "metadata": {},
     "output_type": "execute_result"
    }
   ],
   "source": [
    "bnb.score(x_vec,y)"
   ]
  },
  {
   "cell_type": "markdown",
   "metadata": {},
   "source": [
    "##  Decision Tree Classifier"
   ]
  },
  {
   "cell_type": "code",
   "execution_count": 27,
   "metadata": {},
   "outputs": [],
   "source": [
    "from sklearn.tree import DecisionTreeClassifier"
   ]
  },
  {
   "cell_type": "code",
   "execution_count": 28,
   "metadata": {},
   "outputs": [
    {
     "name": "stdout",
     "output_type": "stream",
     "text": [
      "DecisionTreeClassifier()\n"
     ]
    }
   ],
   "source": [
    "dtc = DecisionTreeClassifier()\n",
    "print(dtc)"
   ]
  },
  {
   "cell_type": "code",
   "execution_count": 29,
   "metadata": {},
   "outputs": [
    {
     "data": {
      "text/plain": [
       "DecisionTreeClassifier()"
      ]
     },
     "execution_count": 29,
     "metadata": {},
     "output_type": "execute_result"
    }
   ],
   "source": [
    "dtc.fit(x_vec,y)"
   ]
  },
  {
   "cell_type": "code",
   "execution_count": 30,
   "metadata": {},
   "outputs": [
    {
     "data": {
      "text/plain": [
       "array([0., 0., 1., 0., 0., 0., 0., 0., 1., 0., 1., 1., 1., 1., 0., 1., 1.,\n",
       "       0., 1., 0., 1., 1., 1., 1., 0., 1., 1., 0., 1., 0., 0., 1., 1., 0.,\n",
       "       0., 1., 1., 1., 1., 1., 1., 1., 0., 0., 0., 1., 0., 0., 1., 1., 0.,\n",
       "       0., 0., 0., 1., 0., 0., 1., 0., 0., 0., 0., 1., 0., 0., 1., 0., 1.,\n",
       "       1., 0., 0., 0., 0., 1., 0., 1., 1., 0., 0., 1., 0., 1., 1., 1., 1.,\n",
       "       0., 0., 1., 0., 0., 0., 0., 1., 0., 1., 0., 0., 1., 1., 1.])"
      ]
     },
     "execution_count": 30,
     "metadata": {},
     "output_type": "execute_result"
    }
   ],
   "source": [
    "dtc.predict(xt_vec)"
   ]
  },
  {
   "cell_type": "code",
   "execution_count": 31,
   "metadata": {},
   "outputs": [
    {
     "data": {
      "text/plain": [
       "0.9906542056074766"
      ]
     },
     "execution_count": 31,
     "metadata": {},
     "output_type": "execute_result"
    }
   ],
   "source": [
    "dtc.score(x_vec,y)"
   ]
  },
  {
   "cell_type": "markdown",
   "metadata": {},
   "source": [
    "## SVM"
   ]
  },
  {
   "cell_type": "code",
   "execution_count": 32,
   "metadata": {},
   "outputs": [],
   "source": [
    "from sklearn import svm"
   ]
  },
  {
   "cell_type": "code",
   "execution_count": 33,
   "metadata": {},
   "outputs": [
    {
     "name": "stdout",
     "output_type": "stream",
     "text": [
      "SVC()\n"
     ]
    }
   ],
   "source": [
    "svmc = svm.SVC()\n",
    "print(svmc)"
   ]
  },
  {
   "cell_type": "code",
   "execution_count": 34,
   "metadata": {},
   "outputs": [
    {
     "data": {
      "text/plain": [
       "SVC()"
      ]
     },
     "execution_count": 34,
     "metadata": {},
     "output_type": "execute_result"
    }
   ],
   "source": [
    "svmc.fit(x_vec,y)\n"
   ]
  },
  {
   "cell_type": "code",
   "execution_count": 35,
   "metadata": {},
   "outputs": [
    {
     "data": {
      "text/plain": [
       "array([1., 1., 1., 1., 1., 1., 1., 1., 1., 1., 1., 1., 1., 1., 1., 1., 1.,\n",
       "       1., 1., 1., 1., 1., 1., 1., 1., 1., 1., 1., 1., 1., 1., 1., 1., 1.,\n",
       "       1., 1., 1., 1., 1., 1., 1., 1., 1., 1., 1., 1., 1., 1., 1., 1., 1.,\n",
       "       1., 1., 1., 1., 0., 1., 1., 1., 1., 1., 1., 1., 1., 1., 1., 1., 1.,\n",
       "       1., 1., 1., 1., 1., 1., 1., 1., 1., 1., 1., 1., 1., 1., 1., 1., 1.,\n",
       "       1., 1., 1., 1., 1., 1., 1., 1., 1., 1., 1., 1., 1., 1., 1.])"
      ]
     },
     "execution_count": 35,
     "metadata": {},
     "output_type": "execute_result"
    }
   ],
   "source": [
    "svmc.predict(xt_vec)"
   ]
  },
  {
   "cell_type": "code",
   "execution_count": 36,
   "metadata": {},
   "outputs": [
    {
     "data": {
      "text/plain": [
       "0.9303313508920985"
      ]
     },
     "execution_count": 36,
     "metadata": {},
     "output_type": "execute_result"
    }
   ],
   "source": [
    "svmc.score(x_vec,y)"
   ]
  },
  {
   "cell_type": "markdown",
   "metadata": {},
   "source": [
    "##  Neural Network MLP Classifier"
   ]
  },
  {
   "cell_type": "code",
   "execution_count": 37,
   "metadata": {},
   "outputs": [],
   "source": [
    "from sklearn.neural_network import MLPClassifier"
   ]
  },
  {
   "cell_type": "code",
   "execution_count": 38,
   "metadata": {},
   "outputs": [],
   "source": [
    "mlpc = MLPClassifier()"
   ]
  },
  {
   "cell_type": "code",
   "execution_count": 39,
   "metadata": {},
   "outputs": [
    {
     "name": "stderr",
     "output_type": "stream",
     "text": [
      "/Library/Frameworks/Python.framework/Versions/3.7/lib/python3.7/site-packages/sklearn/neural_network/_multilayer_perceptron.py:585: ConvergenceWarning: Stochastic Optimizer: Maximum iterations (200) reached and the optimization hasn't converged yet.\n",
      "  % self.max_iter, ConvergenceWarning)\n"
     ]
    },
    {
     "data": {
      "text/plain": [
       "MLPClassifier()"
      ]
     },
     "execution_count": 39,
     "metadata": {},
     "output_type": "execute_result"
    }
   ],
   "source": [
    "mlpc.fit(x_vec,y)"
   ]
  },
  {
   "cell_type": "code",
   "execution_count": 85,
   "metadata": {},
   "outputs": [
    {
     "data": {
      "text/plain": [
       "array([1., 1., 1., ..., 0., 0., 0.])"
      ]
     },
     "execution_count": 85,
     "metadata": {},
     "output_type": "execute_result"
    }
   ],
   "source": [
    "mlpc.predict(x_vec)"
   ]
  },
  {
   "cell_type": "code",
   "execution_count": 86,
   "metadata": {},
   "outputs": [
    {
     "data": {
      "text/plain": [
       "0.9889549702633815"
      ]
     },
     "execution_count": 86,
     "metadata": {},
     "output_type": "execute_result"
    }
   ],
   "source": [
    "mlpc.score(x_vec,y)"
   ]
  },
  {
   "cell_type": "markdown",
   "metadata": {},
   "source": [
    "## Confusion matrix"
   ]
  },
  {
   "cell_type": "code",
   "execution_count": 87,
   "metadata": {},
   "outputs": [],
   "source": [
    "from sklearn.metrics import confusion_matrix"
   ]
  },
  {
   "cell_type": "code",
   "execution_count": 90,
   "metadata": {},
   "outputs": [
    {
     "data": {
      "text/plain": [
       "array([[190,  10],\n",
       "       [  3, 974]])"
      ]
     },
     "execution_count": 90,
     "metadata": {},
     "output_type": "execute_result"
    }
   ],
   "source": [
    "mlpc_y = mlpc.predict(x_vec)\n",
    "confusion_matrix(y,mlpc_y)"
   ]
  },
  {
   "cell_type": "code",
   "execution_count": 91,
   "metadata": {},
   "outputs": [
    {
     "data": {
      "text/plain": [
       "array([[146,  54],\n",
       "       [ 17, 960]])"
      ]
     },
     "execution_count": 91,
     "metadata": {},
     "output_type": "execute_result"
    }
   ],
   "source": [
    "mnb_y = mnb.predict(x_vec)\n",
    "confusion_matrix(y,mnb_y)"
   ]
  },
  {
   "cell_type": "code",
   "execution_count": 92,
   "metadata": {},
   "outputs": [],
   "source": [
    "import numpy as np\n",
    "import matplotlib.pyplot as plt\n",
    "from sklearn import svm, datasets\n",
    "from sklearn.model_selection import train_test_split\n",
    "from sklearn.metrics import plot_confusion_matrix\n"
   ]
  },
  {
   "cell_type": "markdown",
   "metadata": {},
   "source": [
    "### Confusion Matrix of MLP Classifier"
   ]
  },
  {
   "cell_type": "code",
   "execution_count": 93,
   "metadata": {},
   "outputs": [
    {
     "data": {
      "image/png": "[encoded data removed]",
      "text/plain": [
       "<Figure size 720x432 with 2 Axes>"
      ]
     },
     "metadata": {},
     "output_type": "display_data"
    }
   ],
   "source": [
    "matrix = plot_confusion_matrix(mlpc,x_vec,y,cmap=plt.cm.Reds)\n",
    "matrix.ax_.set_title('Confusion Matrix', color='Black')\n",
    "\n",
    "plt.gcf().axes[0].tick_params(color='black')\n",
    "plt.gcf().axes[1].tick_params(color='black')\n",
    "plt.gcf().set_size_inches(10,6)\n",
    "plt.show()"
   ]
  },
  {
   "cell_type": "markdown",
   "metadata": {},
   "source": [
    "### Confusion Matrix of Multinomial Naive Bayes\n"
   ]
  },
  {
   "cell_type": "code",
   "execution_count": 94,
   "metadata": {},
   "outputs": [
    {
     "data": {
      "image/png": "[encoded data removed]",
      "text/plain": [
       "<Figure size 720x432 with 2 Axes>"
      ]
     },
     "metadata": {},
     "output_type": "display_data"
    }
   ],
   "source": [
    "matrix = plot_confusion_matrix(mnb,x_vec,y,cmap=plt.cm.Reds)\n",
    "matrix.ax_.set_title('Confusion Matrix', color='Black')\n",
    "\n",
    "plt.gcf().axes[0].tick_params(color='black')\n",
    "plt.gcf().axes[1].tick_params(color='black')\n",
    "plt.gcf().set_size_inches(10,6)\n",
    "plt.show()"
   ]
  },
  {
   "cell_type": "code",
   "execution_count": 95,
   "metadata": {},
   "outputs": [
    {
     "data": {
      "image/png": "[encoded data removed]",
      "text/plain": [
       "<Figure size 432x288 with 1 Axes>"
      ]
     },
     "metadata": {},
     "output_type": "display_data"
    }
   ],
   "source": [
    "from sklearn import metrics\n",
    "\n",
    "fprm,tprm,thresholdsm = metrics.roc_curve(y,mnb.predict(x_vec),pos_label=1)\n",
    "fprn,tprn,thresholdsn = metrics.roc_curve(y,mlpc.predict(x_vec),pos_label=1)\n",
    "    \n",
    "\n",
    "    \n",
    "plt.xlabel('False positive rate')\n",
    "plt.ylabel('True positive rate')\n",
    "plt.plot(fprn,tprn,label='Multi-Layer Perceptron')\n",
    "plt.plot(fprm,tprm,label='Multinomial Naive Bayes')\n",
    "plt.legend()\n",
    "plt.show()"
   ]
  },
  {
   "cell_type": "code",
   "execution_count": 104,
   "metadata": {},
   "outputs": [
    {
     "data": {
      "image/png": "[encoded data removed]",
      "text/plain": [
       "<Figure size 432x288 with 1 Axes>"
      ]
     },
     "metadata": {},
     "output_type": "display_data"
    }
   ],
   "source": [
    "mnb_accuracy = (mnb.score(x_vec,y)*100)\n",
    "mlpc_accuracy = (mlpc.score(x_vec,y)*100)\n",
    "label = ['Multinomial Naive Bayes 93.96','Multi-Layer Perceptron 98.89']\n",
    "index = np.arange(len(label))\n",
    "acc = [mnb_accuracy,mlpc_accuracy]\n",
    "plt.xlabel('Classifier',fontsize=15)\n",
    "plt.ylabel('Accuracy',fontsize=15)\n",
    "plt.title('Comparion of accuracies')\n",
    "plt.bar(index,acc)\n",
    "plt.xticks(index,label,fontsize = 10,rotation=0)\n",
    "plt.show()"
   ]
  },
  {
   "cell_type": "code",
   "execution_count": null,
   "metadata": {},
   "outputs": [],
   "source": []
  }
 ],
 "metadata": {
  "kernelspec": {
   "display_name": "Python 3 (ipykernel)",
   "language": "python",
   "name": "python3"
  },
  "language_info": {
   "codemirror_mode": {
    "name": "ipython",
    "version": 3
   },
   "file_extension": ".py",
   "mimetype": "text/x-python",
   "name": "python",
   "nbconvert_exporter": "python",
   "pygments_lexer": "ipython3",
   "version": "3.9.13"
  }
 },
 "nbformat": 4,
 "nbformat_minor": 2
}
