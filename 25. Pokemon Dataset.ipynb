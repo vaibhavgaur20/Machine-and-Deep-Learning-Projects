{
 "cells": [
  {
   "cell_type": "code",
   "execution_count": 1,
   "metadata": {},
   "outputs": [
    {
     "name": "stderr",
     "output_type": "stream",
     "text": [
      "Using TensorFlow backend.\n",
      "/Library/Frameworks/Python.framework/Versions/3.7/lib/python3.7/site-packages/tensorflow/python/framework/dtypes.py:516: FutureWarning: Passing (type, 1) or '1type' as a synonym of type is deprecated; in a future version of numpy, it will be understood as (type, (1,)) / '(1,)type'.\n",
      "  _np_qint8 = np.dtype([(\"qint8\", np.int8, 1)])\n",
      "/Library/Frameworks/Python.framework/Versions/3.7/lib/python3.7/site-packages/tensorflow/python/framework/dtypes.py:517: FutureWarning: Passing (type, 1) or '1type' as a synonym of type is deprecated; in a future version of numpy, it will be understood as (type, (1,)) / '(1,)type'.\n",
      "  _np_quint8 = np.dtype([(\"quint8\", np.uint8, 1)])\n",
      "/Library/Frameworks/Python.framework/Versions/3.7/lib/python3.7/site-packages/tensorflow/python/framework/dtypes.py:518: FutureWarning: Passing (type, 1) or '1type' as a synonym of type is deprecated; in a future version of numpy, it will be understood as (type, (1,)) / '(1,)type'.\n",
      "  _np_qint16 = np.dtype([(\"qint16\", np.int16, 1)])\n",
      "/Library/Frameworks/Python.framework/Versions/3.7/lib/python3.7/site-packages/tensorflow/python/framework/dtypes.py:519: FutureWarning: Passing (type, 1) or '1type' as a synonym of type is deprecated; in a future version of numpy, it will be understood as (type, (1,)) / '(1,)type'.\n",
      "  _np_quint16 = np.dtype([(\"quint16\", np.uint16, 1)])\n",
      "/Library/Frameworks/Python.framework/Versions/3.7/lib/python3.7/site-packages/tensorflow/python/framework/dtypes.py:520: FutureWarning: Passing (type, 1) or '1type' as a synonym of type is deprecated; in a future version of numpy, it will be understood as (type, (1,)) / '(1,)type'.\n",
      "  _np_qint32 = np.dtype([(\"qint32\", np.int32, 1)])\n",
      "/Library/Frameworks/Python.framework/Versions/3.7/lib/python3.7/site-packages/tensorflow/python/framework/dtypes.py:525: FutureWarning: Passing (type, 1) or '1type' as a synonym of type is deprecated; in a future version of numpy, it will be understood as (type, (1,)) / '(1,)type'.\n",
      "  np_resource = np.dtype([(\"resource\", np.ubyte, 1)])\n",
      "/Library/Frameworks/Python.framework/Versions/3.7/lib/python3.7/site-packages/tensorboard/compat/tensorflow_stub/dtypes.py:541: FutureWarning: Passing (type, 1) or '1type' as a synonym of type is deprecated; in a future version of numpy, it will be understood as (type, (1,)) / '(1,)type'.\n",
      "  _np_qint8 = np.dtype([(\"qint8\", np.int8, 1)])\n",
      "/Library/Frameworks/Python.framework/Versions/3.7/lib/python3.7/site-packages/tensorboard/compat/tensorflow_stub/dtypes.py:542: FutureWarning: Passing (type, 1) or '1type' as a synonym of type is deprecated; in a future version of numpy, it will be understood as (type, (1,)) / '(1,)type'.\n",
      "  _np_quint8 = np.dtype([(\"quint8\", np.uint8, 1)])\n",
      "/Library/Frameworks/Python.framework/Versions/3.7/lib/python3.7/site-packages/tensorboard/compat/tensorflow_stub/dtypes.py:543: FutureWarning: Passing (type, 1) or '1type' as a synonym of type is deprecated; in a future version of numpy, it will be understood as (type, (1,)) / '(1,)type'.\n",
      "  _np_qint16 = np.dtype([(\"qint16\", np.int16, 1)])\n",
      "/Library/Frameworks/Python.framework/Versions/3.7/lib/python3.7/site-packages/tensorboard/compat/tensorflow_stub/dtypes.py:544: FutureWarning: Passing (type, 1) or '1type' as a synonym of type is deprecated; in a future version of numpy, it will be understood as (type, (1,)) / '(1,)type'.\n",
      "  _np_quint16 = np.dtype([(\"quint16\", np.uint16, 1)])\n",
      "/Library/Frameworks/Python.framework/Versions/3.7/lib/python3.7/site-packages/tensorboard/compat/tensorflow_stub/dtypes.py:545: FutureWarning: Passing (type, 1) or '1type' as a synonym of type is deprecated; in a future version of numpy, it will be understood as (type, (1,)) / '(1,)type'.\n",
      "  _np_qint32 = np.dtype([(\"qint32\", np.int32, 1)])\n",
      "/Library/Frameworks/Python.framework/Versions/3.7/lib/python3.7/site-packages/tensorboard/compat/tensorflow_stub/dtypes.py:550: FutureWarning: Passing (type, 1) or '1type' as a synonym of type is deprecated; in a future version of numpy, it will be understood as (type, (1,)) / '(1,)type'.\n",
      "  np_resource = np.dtype([(\"resource\", np.ubyte, 1)])\n"
     ]
    }
   ],
   "source": [
    "#import os\n",
    "from pathlib import Path\n",
    "from keras.preprocessing import image\n",
    "import matplotlib.pyplot as plt"
   ]
  },
  {
   "cell_type": "code",
   "execution_count": 2,
   "metadata": {},
   "outputs": [
    {
     "name": "stdout",
     "output_type": "stream",
     "text": [
      "pokemon_dataset/.DS_Store\n",
      "0\n",
      "pokemon_dataset/Pikachu\n",
      "199\n",
      "pokemon_dataset/Bulbasaur\n",
      "174\n",
      "pokemon_dataset/Meowth\n",
      "70\n"
     ]
    }
   ],
   "source": [
    "p = Path(\"./pokemon_dataset/\")\n",
    "\n",
    "dirs = p.glob(\"*\")\n",
    "\n",
    "image_data = []\n",
    "labels = []\n",
    "\n",
    "#Optional\n",
    "image_paths = []\n",
    "\n",
    "label_dict = {\"Pikachu\":0,\n",
    "              \"Bulbasaur\":1,\n",
    "              \"Meowth\":2 }\n",
    "label2pokemon = {0:\"Pikachu\",\n",
    "              1:\"Bulbasaur\",\n",
    "              2:\"Meowth\"}\n",
    "\n",
    "for folder_dir in dirs:\n",
    "    \n",
    "    label = str(folder_dir).split(\"/\")[-1]\n",
    "    \n",
    "    cnt = 0\n",
    "    print(folder_dir)\n",
    "    \n",
    "    for img_path in folder_dir.glob(\"*.jpg\"):\n",
    "        img = image.load_img(img_path,target_size=(40,40))\n",
    "        img_array = image.img_to_array(img) \n",
    "        image_data.append(img_array)\n",
    "        \n",
    "        labels.append(label_dict[label])\n",
    "        cnt += 1\n",
    "    print(cnt)"
   ]
  },
  {
   "cell_type": "markdown",
   "metadata": {},
   "source": [
    "# Visualization"
   ]
  },
  {
   "cell_type": "code",
   "execution_count": 3,
   "metadata": {},
   "outputs": [],
   "source": [
    "import numpy as np"
   ]
  },
  {
   "cell_type": "code",
   "execution_count": 4,
   "metadata": {},
   "outputs": [
    {
     "name": "stdout",
     "output_type": "stream",
     "text": [
      "443\n",
      "443\n"
     ]
    }
   ],
   "source": [
    "print(len(image_data))\n",
    "print(len(labels))"
   ]
  },
  {
   "cell_type": "code",
   "execution_count": 5,
   "metadata": {},
   "outputs": [],
   "source": [
    "import random\n",
    "random.seed(10)"
   ]
  },
  {
   "cell_type": "code",
   "execution_count": 6,
   "metadata": {},
   "outputs": [],
   "source": [
    "X = np.array(image_data)\n",
    "Y = np.array(labels)\n",
    "\n",
    "# Shuffle our data\n",
    "# combined = list(zip(X,Y))\n",
    "# random.shuffle(combined)\n",
    "# X[:],Y[:] = zip(*combined)\n",
    "\n",
    "from sklearn.utils import shuffle\n",
    "X,Y = shuffle(X,Y,random_state=2)\n",
    "\n",
    "#Normalization\n",
    "X = X/255.0\n"
   ]
  },
  {
   "cell_type": "code",
   "execution_count": 7,
   "metadata": {},
   "outputs": [
    {
     "name": "stdout",
     "output_type": "stream",
     "text": [
      "[1 2 0 0 2 0 1 0 1 0 1 1 1 1 0 1 2 0 1 2 2 1 2 0 1 0 0 2 0 0 1 0 0 1 1 2 0\n",
      " 2 0 0 1 1 1 0 0 0 1 1 1 2 1 0 0 1 2 1 1 0 0 0 2 0 0 0 0 0 0 1 0 0 1 1 0 1\n",
      " 0 1 0 2 2 1 2 1 1 1 0 2 1 0 0 0 0 0 2 1 0 1 0 0 0 0 0 0 0 1 0 0 2 2 0 2 1\n",
      " 1 1 0 2 2 0 0 0 0 1 1 1 0 1 1 1 1 1 2 1 1 0 0 1 1 0 0 1 1 2 1 1 2 0 1 1 0\n",
      " 0 2 0 1 1 0 1 0 1 1 0 1 0 1 1 0 1 0 1 2 1 0 1 1 0 0 2 2 1 0 0 1 1 0 0 0 1\n",
      " 1 1 0 1 0 0 1 0 1 0 1 2 1 0 1 0 0 2 2 1 0 1 1 0 0 1 0 0 0 1 1 2 2 0 0 1 0\n",
      " 1 0 0 0 1 2 0 0 0 0 0 1 0 1 0 1 1 1 0 1 2 0 2 2 0 1 0 0 0 1 0 2 1 1 1 0 0\n",
      " 1 0 0 0 1 0 1 0 1 0 2 0 1 1 1 0 1 1 1 1 0 0 1 1 2 0 0 0 0 1 1 2 0 1 0 2 1\n",
      " 0 0 1 2 2 0 1 0 2 1 2 2 1 0 0 1 2 2 2 1 2 1 0 1 2 0 2 0 1 0 1 0 0 0 2 1 0\n",
      " 0 0 1 2 2 2 0 0 1 0 1 2 1 2 0 0 1 0 1 2 1 1 2 1 0 0 0 0 2 1 0 0 0 1 1 0 1\n",
      " 0 1 0 1 0 0 1 0 0 0 1 1 1 0 0 2 1 1 1 1 0 1 0 1 2 2 0 0 1 0 0 0 0 1 1 1 0\n",
      " 0 1 1 1 2 0 0 0 1 0 1 1 0 0 0 1 0 0 2 1 1 1 0 1 2 0 2 0 1 1 0 1 0 0 0 0]\n"
     ]
    }
   ],
   "source": [
    "print(Y)"
   ]
  },
  {
   "cell_type": "code",
   "execution_count": 8,
   "metadata": {},
   "outputs": [],
   "source": [
    "# Draw some pokemons \n",
    "def drawImg(img,label):\n",
    "    plt.title(label2pokemon[label])\n",
    "    plt.style.use(\"seaborn\")\n",
    "    plt.imshow(img)\n",
    "    plt.axis(\"off\")\n",
    "    plt.show()"
   ]
  },
  {
   "cell_type": "code",
   "execution_count": 9,
   "metadata": {},
   "outputs": [
    {
     "data": {
      "image/png": "[encoded data removed]",
      "text/plain": [
       "<Figure size 432x288 with 1 Axes>"
      ]
     },
     "metadata": {},
     "output_type": "display_data"
    },
    {
     "data": {
      "image/png": "[encoded data removed]",
      "text/plain": [
       "<Figure size 576x396 with 1 Axes>"
      ]
     },
     "metadata": {},
     "output_type": "display_data"
    },
    {
     "data": {
      "image/png": "[encoded data removed]",
      "text/plain": [
       "<Figure size 576x396 with 1 Axes>"
      ]
     },
     "metadata": {},
     "output_type": "display_data"
    },
    {
     "data": {
      "image/png": "[encoded data removed]",
      "text/plain": [
       "<Figure size 576x396 with 1 Axes>"
      ]
     },
     "metadata": {},
     "output_type": "display_data"
    },
    {
     "data": {
      "image/png": "[encoded data removed]",
      "text/plain": [
       "<Figure size 576x396 with 1 Axes>"
      ]
     },
     "metadata": {},
     "output_type": "display_data"
    },
    {
     "data": {
      "image/png": "[encoded data removed]",
      "text/plain": [
       "<Figure size 576x396 with 1 Axes>"
      ]
     },
     "metadata": {},
     "output_type": "display_data"
    },
    {
     "data": {
      "image/png": "[encoded data removed]",
      "text/plain": [
       "<Figure size 576x396 with 1 Axes>"
      ]
     },
     "metadata": {},
     "output_type": "display_data"
    },
    {
     "data": {
      "image/png": "[encoded data removed]",
      "text/plain": [
       "<Figure size 576x396 with 1 Axes>"
      ]
     },
     "metadata": {},
     "output_type": "display_data"
    },
    {
     "data": {
      "image/png": "[encoded data removed]",
      "text/plain": [
       "<Figure size 576x396 with 1 Axes>"
      ]
     },
     "metadata": {},
     "output_type": "display_data"
    },
    {
     "data": {
      "image/png": "[encoded data removed]",
      "text/plain": [
       "<Figure size 576x396 with 1 Axes>"
      ]
     },
     "metadata": {},
     "output_type": "display_data"
    },
    {
     "data": {
      "image/png": "[encoded data removed]",
      "text/plain": [
       "<Figure size 576x396 with 1 Axes>"
      ]
     },
     "metadata": {},
     "output_type": "display_data"
    },
    {
     "data": {
      "image/png": "[encoded data removed]",
      "text/plain": [
       "<Figure size 576x396 with 1 Axes>"
      ]
     },
     "metadata": {},
     "output_type": "display_data"
    },
    {
     "data": {
      "image/png": "[encoded data removed]",
      "text/plain": [
       "<Figure size 576x396 with 1 Axes>"
      ]
     },
     "metadata": {},
     "output_type": "display_data"
    },
    {
     "data": {
      "image/png": "[encoded data removed]",
      "text/plain": [
       "<Figure size 576x396 with 1 Axes>"
      ]
     },
     "metadata": {},
     "output_type": "display_data"
    },
    {
     "data": {
      "image/png": "[encoded data removed]",
      "text/plain": [
       "<Figure size 576x396 with 1 Axes>"
      ]
     },
     "metadata": {},
     "output_type": "display_data"
    },
    {
     "data": {
      "image/png": "[encoded data removed]",
      "text/plain": [
       "<Figure size 576x396 with 1 Axes>"
      ]
     },
     "metadata": {},
     "output_type": "display_data"
    },
    {
     "data": {
      "image/png": "[encoded data removed]",
      "text/plain": [
       "<Figure size 576x396 with 1 Axes>"
      ]
     },
     "metadata": {},
     "output_type": "display_data"
    },
    {
     "data": {
      "image/png": "[encoded data removed]",
      "text/plain": [
       "<Figure size 576x396 with 1 Axes>"
      ]
     },
     "metadata": {},
     "output_type": "display_data"
    },
    {
     "data": {
      "image/png": "[encoded data removed]",
      "text/plain": [
       "<Figure size 576x396 with 1 Axes>"
      ]
     },
     "metadata": {},
     "output_type": "display_data"
    }
   ],
   "source": [
    "for i in range(1,20):\n",
    "    drawImg(X[i].reshape(40,40,3),Y[i]) #4800 input units !"
   ]
  },
  {
   "cell_type": "code",
   "execution_count": 10,
   "metadata": {},
   "outputs": [
    {
     "name": "stdout",
     "output_type": "stream",
     "text": [
      "(354, 40, 40, 3) (354,)\n",
      "(89, 40, 40, 3) (89,)\n"
     ]
    }
   ],
   "source": [
    "### Create Training and Testing set\n",
    "\n",
    "split = int(X.shape[0]*.8)\n",
    "\n",
    "X_ = np.array(X)\n",
    "Y_ = np.array(Y)\n",
    "\n",
    "# Traning Set\n",
    "X = X_[:split,:]\n",
    "Y = Y_[:split]\n",
    "\n",
    "#Testing Set\n",
    "XTest = X_[split:,:]\n",
    "YTest = Y_[split:]\n",
    "\n",
    "print(X.shape,Y.shape)\n",
    "print(XTest.shape,YTest.shape)\n"
   ]
  },
  {
   "cell_type": "code",
   "execution_count": 11,
   "metadata": {},
   "outputs": [],
   "source": [
    "class NeuralNetwork:\n",
    "    \n",
    "    def __init__(self,input_size,layers,output_size):\n",
    "        # Everytime we run this code the random values will stay same\n",
    "        np.random.seed(0)\n",
    "        \n",
    "        model = {}\n",
    "        \n",
    "        #First Layer\n",
    "        model['W1'] = np.random.randn(input_size,layers[0])\n",
    "        model['b1'] = np.zeros((1,layers[0]))\n",
    "        \n",
    "        #Second Layer\n",
    "        model['W2'] = np.random.randn(layers[0],layers[1])\n",
    "        model['b2'] = np.zeros((1,layers[1]))\n",
    "        \n",
    "        #Third Layer\n",
    "        model['W3'] = np.random.randn(layers[1],output_size)\n",
    "        model['b3'] = np.zeros((1,output_size))\n",
    "        \n",
    "        self.model = model\n",
    "        \n",
    "    def forward(self,x):\n",
    "        \n",
    "        W1,W2,W3 = self.model['W1'],self.model['W2'],self.model['W3']\n",
    "        b1,b2,b3 = self.model['b1'],self.model['b2'],self.model['b3']\n",
    "        \n",
    "        z1 = np.dot(x,W1) + b1\n",
    "        a1 = np.tanh(z1)\n",
    "        \n",
    "        z2 = np.dot(a1,W2) + b2\n",
    "        a2 = np.tanh(z2)\n",
    "        \n",
    "        z3 = np.dot(a2,W3) + b3\n",
    "        y_ = softmax(z3)\n",
    "        \n",
    "        self.activation_outputs = (a1,a2,y_)\n",
    "        \n",
    "        return y_\n",
    "    \n",
    "    def backward(self,x,y,learning_rate=0.001):\n",
    "\n",
    "        W1,W2,W3 = self.model['W1'],self.model['W2'],self.model['W3']\n",
    "        a1,a2,y_ = self.activation_outputs\n",
    "        \n",
    "        # Output Layer\n",
    "        delta3 = y_ - y\n",
    "        dw3 = np.dot(a2.T,delta3)\n",
    "        db3 = np.sum(delta3,axis=0)\n",
    "        \n",
    "        \n",
    "        #Hidden Layers\n",
    "        delta2 = (1-np.square(a2))*np.dot(delta3,W3.T)\n",
    "        dw2 = np.dot(a1.T,delta2)\n",
    "        db2 = np.sum(delta2,axis=0)\n",
    "        \n",
    "        delta1 = (1-np.square(a1))*np.dot(delta2,W2.T)\n",
    "        dw1 = np.dot(x.T,delta1)\n",
    "        db1 = np.sum(delta1,axis=0)\n",
    "        \n",
    "        #Update the model parameter using Gradient Descent\n",
    "        self.model[\"W1\"] -= learning_rate*dw1\n",
    "        self.model['b1'] -= learning_rate*db1\n",
    "        \n",
    "        self.model[\"W2\"] -= learning_rate*dw2\n",
    "        self.model['b2'] -= learning_rate*db2\n",
    "        \n",
    "        self.model[\"W3\"] -= learning_rate*dw3\n",
    "        self.model['b3'] -= learning_rate*db3\n",
    "        \n",
    "    def predict(self,x):\n",
    "        \n",
    "        y_out = self.forward(x)\n",
    "        return np.argmax(y_out,axis=1)\n",
    "    \n",
    "    def summary(self):\n",
    "        \n",
    "        W1,W2,W3 = self.model['W1'],self.model['W2'],self.model['W3']\n",
    "        a1,a2,y_ = self.activation_outputs\n",
    "        \n",
    "        print(\"W1 \",W1.shape)\n",
    "        print(\"A1 \",a1.shape)\n",
    "        \n",
    "        print(\"W2 \",W2.shape)\n",
    "        print(\"A2 \",a2.shape)\n",
    "        \n",
    "        print(\"W3 \",W3.shape)\n",
    "        print(\"Y_ \",y_.shape)"
   ]
  },
  {
   "cell_type": "code",
   "execution_count": 12,
   "metadata": {},
   "outputs": [],
   "source": [
    "def softmax(a):\n",
    "    e_pa = np.exp(a)\n",
    "    ans = e_pa/np.sum(e_pa, axis = 1, keepdims=True)\n",
    "    \n",
    "    return ans"
   ]
  },
  {
   "cell_type": "code",
   "execution_count": 13,
   "metadata": {},
   "outputs": [],
   "source": [
    "def one_hot(y,depth):\n",
    "    \n",
    "    m = y.shape[0]\n",
    "    y_oht = np.zeros((m,depth))\n",
    "    y_oht[np.arange(m),y] = 1\n",
    "    return y_oht\n",
    "\n",
    "def loss(y_oht,p):\n",
    "    l = -np.mean(y_oht*np.log(p))\n",
    "    return l"
   ]
  },
  {
   "cell_type": "code",
   "execution_count": 14,
   "metadata": {},
   "outputs": [],
   "source": [
    "def train(X,Y,model,epochs,learning_rate,logs=True):\n",
    "    traning_loss=[]\n",
    "    \n",
    "    classes = 3\n",
    "    Y_OHT = one_hot(Y,classes)\n",
    "    \n",
    "    for ix in range(epochs):\n",
    "        \n",
    "        Y_ = model.forward(X)\n",
    "        l = loss(Y_OHT,Y_)\n",
    "        traning_loss.append(l)\n",
    "        model.backward(X,Y_OHT,learning_rate)\n",
    "        \n",
    "        if(logs):\n",
    "            print(\"Epochs %d Loss %.4f\"%(ix,l))\n",
    "            \n",
    "    return traning_loss"
   ]
  },
  {
   "cell_type": "code",
   "execution_count": 15,
   "metadata": {},
   "outputs": [],
   "source": [
    "model = NeuralNetwork(input_size=4800,layers=[100,50],output_size=3)"
   ]
  },
  {
   "cell_type": "code",
   "execution_count": 16,
   "metadata": {},
   "outputs": [
    {
     "name": "stdout",
     "output_type": "stream",
     "text": [
      "(354, 40, 40, 3)\n"
     ]
    }
   ],
   "source": [
    "print(X.shape)"
   ]
  },
  {
   "cell_type": "code",
   "execution_count": 17,
   "metadata": {},
   "outputs": [
    {
     "name": "stdout",
     "output_type": "stream",
     "text": [
      "(354, 4800)\n",
      "(89, 4800)\n"
     ]
    }
   ],
   "source": [
    "X = X.reshape(X.shape[0],-1)\n",
    "print(X.shape)\n",
    "\n",
    "XTest = XTest.reshape(XTest.shape[0],-1)\n",
    "print(XTest.shape)"
   ]
  },
  {
   "cell_type": "code",
   "execution_count": 18,
   "metadata": {
    "scrolled": true
   },
   "outputs": [
    {
     "name": "stdout",
     "output_type": "stream",
     "text": [
      "Epochs 0 Loss 3.2952\n",
      "Epochs 1 Loss 2.6449\n",
      "Epochs 2 Loss 1.7529\n",
      "Epochs 3 Loss 1.4334\n",
      "Epochs 4 Loss 1.2708\n",
      "Epochs 5 Loss 1.2317\n",
      "Epochs 6 Loss 1.1087\n",
      "Epochs 7 Loss 1.0380\n",
      "Epochs 8 Loss 0.9977\n",
      "Epochs 9 Loss 0.8446\n",
      "Epochs 10 Loss 0.8550\n",
      "Epochs 11 Loss 0.7565\n",
      "Epochs 12 Loss 0.7357\n",
      "Epochs 13 Loss 0.6899\n",
      "Epochs 14 Loss 0.6806\n",
      "Epochs 15 Loss 0.6816\n",
      "Epochs 16 Loss 0.6606\n",
      "Epochs 17 Loss 0.6411\n",
      "Epochs 18 Loss 0.5633\n",
      "Epochs 19 Loss 0.5438\n",
      "Epochs 20 Loss 0.5270\n",
      "Epochs 21 Loss 0.4927\n",
      "Epochs 22 Loss 0.4980\n",
      "Epochs 23 Loss 0.4770\n",
      "Epochs 24 Loss 0.4938\n",
      "Epochs 25 Loss 0.4784\n",
      "Epochs 26 Loss 0.4540\n",
      "Epochs 27 Loss 0.4375\n",
      "Epochs 28 Loss 0.4222\n",
      "Epochs 29 Loss 0.4206\n",
      "Epochs 30 Loss 0.5015\n",
      "Epochs 31 Loss 0.4212\n",
      "Epochs 32 Loss 0.4193\n",
      "Epochs 33 Loss 0.3855\n",
      "Epochs 34 Loss 0.3540\n",
      "Epochs 35 Loss 0.3441\n",
      "Epochs 36 Loss 0.3100\n",
      "Epochs 37 Loss 0.2940\n",
      "Epochs 38 Loss 0.3028\n",
      "Epochs 39 Loss 0.2928\n",
      "Epochs 40 Loss 0.3071\n",
      "Epochs 41 Loss 0.2971\n",
      "Epochs 42 Loss 0.2948\n",
      "Epochs 43 Loss 0.2819\n",
      "Epochs 44 Loss 0.2725\n",
      "Epochs 45 Loss 0.2910\n",
      "Epochs 46 Loss 0.2672\n",
      "Epochs 47 Loss 0.2550\n",
      "Epochs 48 Loss 0.2476\n",
      "Epochs 49 Loss 0.2399\n",
      "Epochs 50 Loss 0.2349\n",
      "Epochs 51 Loss 0.2268\n",
      "Epochs 52 Loss 0.2213\n",
      "Epochs 53 Loss 0.2182\n",
      "Epochs 54 Loss 0.2134\n",
      "Epochs 55 Loss 0.2091\n",
      "Epochs 56 Loss 0.2063\n",
      "Epochs 57 Loss 0.2030\n",
      "Epochs 58 Loss 0.2020\n",
      "Epochs 59 Loss 0.1957\n",
      "Epochs 60 Loss 0.1938\n",
      "Epochs 61 Loss 0.1916\n",
      "Epochs 62 Loss 0.1891\n",
      "Epochs 63 Loss 0.1861\n",
      "Epochs 64 Loss 0.1842\n",
      "Epochs 65 Loss 0.1847\n",
      "Epochs 66 Loss 0.1794\n",
      "Epochs 67 Loss 0.1758\n",
      "Epochs 68 Loss 0.1738\n",
      "Epochs 69 Loss 0.1729\n",
      "Epochs 70 Loss 0.1715\n",
      "Epochs 71 Loss 0.1715\n",
      "Epochs 72 Loss 0.1682\n",
      "Epochs 73 Loss 0.1645\n",
      "Epochs 74 Loss 0.1676\n",
      "Epochs 75 Loss 0.2059\n",
      "Epochs 76 Loss 0.1773\n",
      "Epochs 77 Loss 0.1787\n",
      "Epochs 78 Loss 0.1618\n",
      "Epochs 79 Loss 0.1602\n",
      "Epochs 80 Loss 0.1633\n",
      "Epochs 81 Loss 0.1872\n",
      "Epochs 82 Loss 0.1713\n",
      "Epochs 83 Loss 0.1609\n",
      "Epochs 84 Loss 0.1507\n",
      "Epochs 85 Loss 0.1435\n",
      "Epochs 86 Loss 0.1416\n",
      "Epochs 87 Loss 0.1430\n",
      "Epochs 88 Loss 0.1360\n",
      "Epochs 89 Loss 0.1361\n",
      "Epochs 90 Loss 0.1348\n",
      "Epochs 91 Loss 0.1333\n",
      "Epochs 92 Loss 0.1307\n",
      "Epochs 93 Loss 0.1304\n",
      "Epochs 94 Loss 0.1289\n",
      "Epochs 95 Loss 0.1301\n",
      "Epochs 96 Loss 0.1278\n",
      "Epochs 97 Loss 0.1267\n",
      "Epochs 98 Loss 0.1232\n",
      "Epochs 99 Loss 0.1221\n",
      "Epochs 100 Loss 0.1218\n",
      "Epochs 101 Loss 0.1208\n",
      "Epochs 102 Loss 0.1184\n",
      "Epochs 103 Loss 0.1181\n",
      "Epochs 104 Loss 0.1172\n",
      "Epochs 105 Loss 0.1176\n",
      "Epochs 106 Loss 0.1146\n",
      "Epochs 107 Loss 0.1138\n",
      "Epochs 108 Loss 0.1131\n",
      "Epochs 109 Loss 0.1126\n",
      "Epochs 110 Loss 0.1122\n",
      "Epochs 111 Loss 0.1104\n",
      "Epochs 112 Loss 0.1094\n",
      "Epochs 113 Loss 0.1085\n",
      "Epochs 114 Loss 0.1077\n",
      "Epochs 115 Loss 0.1067\n",
      "Epochs 116 Loss 0.1058\n",
      "Epochs 117 Loss 0.1049\n",
      "Epochs 118 Loss 0.1044\n",
      "Epochs 119 Loss 0.1040\n",
      "Epochs 120 Loss 0.1026\n",
      "Epochs 121 Loss 0.1021\n",
      "Epochs 122 Loss 0.1015\n",
      "Epochs 123 Loss 0.1010\n",
      "Epochs 124 Loss 0.1000\n",
      "Epochs 125 Loss 0.0995\n",
      "Epochs 126 Loss 0.0987\n",
      "Epochs 127 Loss 0.0981\n",
      "Epochs 128 Loss 0.0972\n",
      "Epochs 129 Loss 0.0964\n",
      "Epochs 130 Loss 0.0953\n",
      "Epochs 131 Loss 0.0944\n",
      "Epochs 132 Loss 0.0938\n",
      "Epochs 133 Loss 0.0931\n",
      "Epochs 134 Loss 0.0924\n",
      "Epochs 135 Loss 0.0918\n",
      "Epochs 136 Loss 0.0912\n",
      "Epochs 137 Loss 0.0906\n",
      "Epochs 138 Loss 0.0901\n",
      "Epochs 139 Loss 0.0895\n",
      "Epochs 140 Loss 0.0890\n",
      "Epochs 141 Loss 0.0885\n",
      "Epochs 142 Loss 0.0880\n",
      "Epochs 143 Loss 0.0875\n",
      "Epochs 144 Loss 0.0871\n",
      "Epochs 145 Loss 0.0866\n",
      "Epochs 146 Loss 0.0862\n",
      "Epochs 147 Loss 0.0857\n",
      "Epochs 148 Loss 0.0853\n",
      "Epochs 149 Loss 0.0848\n",
      "Epochs 150 Loss 0.0844\n",
      "Epochs 151 Loss 0.0840\n",
      "Epochs 152 Loss 0.0835\n",
      "Epochs 153 Loss 0.0831\n",
      "Epochs 154 Loss 0.0827\n",
      "Epochs 155 Loss 0.0823\n",
      "Epochs 156 Loss 0.0819\n",
      "Epochs 157 Loss 0.0815\n",
      "Epochs 158 Loss 0.0811\n",
      "Epochs 159 Loss 0.0807\n",
      "Epochs 160 Loss 0.0803\n",
      "Epochs 161 Loss 0.0799\n",
      "Epochs 162 Loss 0.0795\n",
      "Epochs 163 Loss 0.0791\n",
      "Epochs 164 Loss 0.0787\n",
      "Epochs 165 Loss 0.0783\n",
      "Epochs 166 Loss 0.0780\n",
      "Epochs 167 Loss 0.0776\n",
      "Epochs 168 Loss 0.0772\n",
      "Epochs 169 Loss 0.0768\n",
      "Epochs 170 Loss 0.0765\n",
      "Epochs 171 Loss 0.0764\n",
      "Epochs 172 Loss 0.0760\n",
      "Epochs 173 Loss 0.0762\n",
      "Epochs 174 Loss 0.0751\n",
      "Epochs 175 Loss 0.0747\n",
      "Epochs 176 Loss 0.0744\n",
      "Epochs 177 Loss 0.0741\n",
      "Epochs 178 Loss 0.0738\n",
      "Epochs 179 Loss 0.0737\n",
      "Epochs 180 Loss 0.0742\n",
      "Epochs 181 Loss 0.0728\n",
      "Epochs 182 Loss 0.0725\n",
      "Epochs 183 Loss 0.0723\n",
      "Epochs 184 Loss 0.0722\n",
      "Epochs 185 Loss 0.0727\n",
      "Epochs 186 Loss 0.0712\n",
      "Epochs 187 Loss 0.0709\n",
      "Epochs 188 Loss 0.0706\n",
      "Epochs 189 Loss 0.0704\n",
      "Epochs 190 Loss 0.0703\n",
      "Epochs 191 Loss 0.0700\n",
      "Epochs 192 Loss 0.0704\n",
      "Epochs 193 Loss 0.0691\n",
      "Epochs 194 Loss 0.0688\n",
      "Epochs 195 Loss 0.0685\n",
      "Epochs 196 Loss 0.0682\n",
      "Epochs 197 Loss 0.0679\n",
      "Epochs 198 Loss 0.0676\n",
      "Epochs 199 Loss 0.0674\n",
      "Epochs 200 Loss 0.0671\n",
      "Epochs 201 Loss 0.0669\n",
      "Epochs 202 Loss 0.0666\n",
      "Epochs 203 Loss 0.0664\n",
      "Epochs 204 Loss 0.0661\n",
      "Epochs 205 Loss 0.0658\n",
      "Epochs 206 Loss 0.0656\n",
      "Epochs 207 Loss 0.0653\n",
      "Epochs 208 Loss 0.0650\n",
      "Epochs 209 Loss 0.0647\n",
      "Epochs 210 Loss 0.0644\n",
      "Epochs 211 Loss 0.0641\n",
      "Epochs 212 Loss 0.0638\n",
      "Epochs 213 Loss 0.0634\n",
      "Epochs 214 Loss 0.0630\n",
      "Epochs 215 Loss 0.0627\n",
      "Epochs 216 Loss 0.0625\n",
      "Epochs 217 Loss 0.0622\n",
      "Epochs 218 Loss 0.0619\n",
      "Epochs 219 Loss 0.0617\n",
      "Epochs 220 Loss 0.0614\n",
      "Epochs 221 Loss 0.0612\n",
      "Epochs 222 Loss 0.0609\n",
      "Epochs 223 Loss 0.0607\n",
      "Epochs 224 Loss 0.0604\n",
      "Epochs 225 Loss 0.0602\n",
      "Epochs 226 Loss 0.0600\n",
      "Epochs 227 Loss 0.0597\n",
      "Epochs 228 Loss 0.0595\n",
      "Epochs 229 Loss 0.0593\n",
      "Epochs 230 Loss 0.0591\n",
      "Epochs 231 Loss 0.0588\n",
      "Epochs 232 Loss 0.0586\n",
      "Epochs 233 Loss 0.0584\n",
      "Epochs 234 Loss 0.0582\n",
      "Epochs 235 Loss 0.0580\n",
      "Epochs 236 Loss 0.0578\n",
      "Epochs 237 Loss 0.0576\n",
      "Epochs 238 Loss 0.0574\n",
      "Epochs 239 Loss 0.0572\n",
      "Epochs 240 Loss 0.0570\n",
      "Epochs 241 Loss 0.0568\n",
      "Epochs 242 Loss 0.0566\n",
      "Epochs 243 Loss 0.0564\n",
      "Epochs 244 Loss 0.0562\n",
      "Epochs 245 Loss 0.0560\n",
      "Epochs 246 Loss 0.0558\n",
      "Epochs 247 Loss 0.0556\n",
      "Epochs 248 Loss 0.0554\n",
      "Epochs 249 Loss 0.0552\n",
      "Epochs 250 Loss 0.0550\n",
      "Epochs 251 Loss 0.0548\n",
      "Epochs 252 Loss 0.0546\n",
      "Epochs 253 Loss 0.0544\n",
      "Epochs 254 Loss 0.0543\n",
      "Epochs 255 Loss 0.0541\n",
      "Epochs 256 Loss 0.0539\n",
      "Epochs 257 Loss 0.0537\n",
      "Epochs 258 Loss 0.0535\n",
      "Epochs 259 Loss 0.0534\n",
      "Epochs 260 Loss 0.0532\n",
      "Epochs 261 Loss 0.0530\n",
      "Epochs 262 Loss 0.0528\n",
      "Epochs 263 Loss 0.0526\n",
      "Epochs 264 Loss 0.0525\n",
      "Epochs 265 Loss 0.0523\n",
      "Epochs 266 Loss 0.0521\n",
      "Epochs 267 Loss 0.0520\n",
      "Epochs 268 Loss 0.0518\n",
      "Epochs 269 Loss 0.0516\n",
      "Epochs 270 Loss 0.0514\n",
      "Epochs 271 Loss 0.0512\n",
      "Epochs 272 Loss 0.0510\n",
      "Epochs 273 Loss 0.0508\n",
      "Epochs 274 Loss 0.0505\n",
      "Epochs 275 Loss 0.0503\n",
      "Epochs 276 Loss 0.0500\n",
      "Epochs 277 Loss 0.0498\n",
      "Epochs 278 Loss 0.0496\n",
      "Epochs 279 Loss 0.0493\n",
      "Epochs 280 Loss 0.0491\n",
      "Epochs 281 Loss 0.0489\n",
      "Epochs 282 Loss 0.0487\n",
      "Epochs 283 Loss 0.0485\n",
      "Epochs 284 Loss 0.0483\n",
      "Epochs 285 Loss 0.0481\n",
      "Epochs 286 Loss 0.0480\n",
      "Epochs 287 Loss 0.0478\n",
      "Epochs 288 Loss 0.0476\n",
      "Epochs 289 Loss 0.0474\n",
      "Epochs 290 Loss 0.0472\n",
      "Epochs 291 Loss 0.0470\n",
      "Epochs 292 Loss 0.0469\n",
      "Epochs 293 Loss 0.0467\n",
      "Epochs 294 Loss 0.0465\n",
      "Epochs 295 Loss 0.0463\n",
      "Epochs 296 Loss 0.0462\n",
      "Epochs 297 Loss 0.0460\n",
      "Epochs 298 Loss 0.0458\n",
      "Epochs 299 Loss 0.0457\n",
      "Epochs 300 Loss 0.0455\n",
      "Epochs 301 Loss 0.0453\n",
      "Epochs 302 Loss 0.0452\n",
      "Epochs 303 Loss 0.0450\n",
      "Epochs 304 Loss 0.0449\n",
      "Epochs 305 Loss 0.0447\n",
      "Epochs 306 Loss 0.0445\n",
      "Epochs 307 Loss 0.0444\n",
      "Epochs 308 Loss 0.0442\n",
      "Epochs 309 Loss 0.0441\n",
      "Epochs 310 Loss 0.0439\n",
      "Epochs 311 Loss 0.0437\n",
      "Epochs 312 Loss 0.0436\n",
      "Epochs 313 Loss 0.0434\n",
      "Epochs 314 Loss 0.0433\n",
      "Epochs 315 Loss 0.0431\n",
      "Epochs 316 Loss 0.0430\n",
      "Epochs 317 Loss 0.0428\n",
      "Epochs 318 Loss 0.0427\n",
      "Epochs 319 Loss 0.0425\n",
      "Epochs 320 Loss 0.0423\n",
      "Epochs 321 Loss 0.0422\n",
      "Epochs 322 Loss 0.0420\n",
      "Epochs 323 Loss 0.0419\n",
      "Epochs 324 Loss 0.0417\n",
      "Epochs 325 Loss 0.0416\n",
      "Epochs 326 Loss 0.0414\n",
      "Epochs 327 Loss 0.0413\n",
      "Epochs 328 Loss 0.0412\n",
      "Epochs 329 Loss 0.0410\n",
      "Epochs 330 Loss 0.0409\n",
      "Epochs 331 Loss 0.0407\n",
      "Epochs 332 Loss 0.0406\n",
      "Epochs 333 Loss 0.0404\n",
      "Epochs 334 Loss 0.0403\n",
      "Epochs 335 Loss 0.0402\n",
      "Epochs 336 Loss 0.0400\n",
      "Epochs 337 Loss 0.0399\n",
      "Epochs 338 Loss 0.0398\n",
      "Epochs 339 Loss 0.0396\n",
      "Epochs 340 Loss 0.0395\n",
      "Epochs 341 Loss 0.0394\n",
      "Epochs 342 Loss 0.0393\n",
      "Epochs 343 Loss 0.0391\n",
      "Epochs 344 Loss 0.0390\n",
      "Epochs 345 Loss 0.0389\n",
      "Epochs 346 Loss 0.0388\n",
      "Epochs 347 Loss 0.0387\n",
      "Epochs 348 Loss 0.0385\n",
      "Epochs 349 Loss 0.0384\n",
      "Epochs 350 Loss 0.0383\n",
      "Epochs 351 Loss 0.0382\n",
      "Epochs 352 Loss 0.0381\n",
      "Epochs 353 Loss 0.0380\n",
      "Epochs 354 Loss 0.0379\n",
      "Epochs 355 Loss 0.0377\n",
      "Epochs 356 Loss 0.0376\n",
      "Epochs 357 Loss 0.0375\n",
      "Epochs 358 Loss 0.0374\n",
      "Epochs 359 Loss 0.0373\n",
      "Epochs 360 Loss 0.0372\n",
      "Epochs 361 Loss 0.0371\n"
     ]
    },
    {
     "name": "stdout",
     "output_type": "stream",
     "text": [
      "Epochs 362 Loss 0.0370\n",
      "Epochs 363 Loss 0.0369\n",
      "Epochs 364 Loss 0.0368\n",
      "Epochs 365 Loss 0.0367\n",
      "Epochs 366 Loss 0.0366\n",
      "Epochs 367 Loss 0.0365\n",
      "Epochs 368 Loss 0.0364\n",
      "Epochs 369 Loss 0.0363\n",
      "Epochs 370 Loss 0.0362\n",
      "Epochs 371 Loss 0.0361\n",
      "Epochs 372 Loss 0.0360\n",
      "Epochs 373 Loss 0.0359\n",
      "Epochs 374 Loss 0.0358\n",
      "Epochs 375 Loss 0.0357\n",
      "Epochs 376 Loss 0.0356\n",
      "Epochs 377 Loss 0.0355\n",
      "Epochs 378 Loss 0.0354\n",
      "Epochs 379 Loss 0.0353\n",
      "Epochs 380 Loss 0.0352\n",
      "Epochs 381 Loss 0.0351\n",
      "Epochs 382 Loss 0.0350\n",
      "Epochs 383 Loss 0.0349\n",
      "Epochs 384 Loss 0.0348\n",
      "Epochs 385 Loss 0.0347\n",
      "Epochs 386 Loss 0.0346\n",
      "Epochs 387 Loss 0.0345\n",
      "Epochs 388 Loss 0.0345\n",
      "Epochs 389 Loss 0.0344\n",
      "Epochs 390 Loss 0.0343\n",
      "Epochs 391 Loss 0.0342\n",
      "Epochs 392 Loss 0.0341\n",
      "Epochs 393 Loss 0.0340\n",
      "Epochs 394 Loss 0.0339\n",
      "Epochs 395 Loss 0.0338\n",
      "Epochs 396 Loss 0.0337\n",
      "Epochs 397 Loss 0.0337\n",
      "Epochs 398 Loss 0.0336\n",
      "Epochs 399 Loss 0.0335\n",
      "Epochs 400 Loss 0.0334\n",
      "Epochs 401 Loss 0.0333\n",
      "Epochs 402 Loss 0.0332\n",
      "Epochs 403 Loss 0.0332\n",
      "Epochs 404 Loss 0.0331\n",
      "Epochs 405 Loss 0.0330\n",
      "Epochs 406 Loss 0.0329\n",
      "Epochs 407 Loss 0.0328\n",
      "Epochs 408 Loss 0.0328\n",
      "Epochs 409 Loss 0.0327\n",
      "Epochs 410 Loss 0.0326\n",
      "Epochs 411 Loss 0.0325\n",
      "Epochs 412 Loss 0.0324\n",
      "Epochs 413 Loss 0.0324\n",
      "Epochs 414 Loss 0.0323\n",
      "Epochs 415 Loss 0.0322\n",
      "Epochs 416 Loss 0.0321\n",
      "Epochs 417 Loss 0.0321\n",
      "Epochs 418 Loss 0.0320\n",
      "Epochs 419 Loss 0.0319\n",
      "Epochs 420 Loss 0.0318\n",
      "Epochs 421 Loss 0.0318\n",
      "Epochs 422 Loss 0.0317\n",
      "Epochs 423 Loss 0.0316\n",
      "Epochs 424 Loss 0.0316\n",
      "Epochs 425 Loss 0.0315\n",
      "Epochs 426 Loss 0.0314\n",
      "Epochs 427 Loss 0.0313\n",
      "Epochs 428 Loss 0.0313\n",
      "Epochs 429 Loss 0.0312\n",
      "Epochs 430 Loss 0.0311\n",
      "Epochs 431 Loss 0.0311\n",
      "Epochs 432 Loss 0.0310\n",
      "Epochs 433 Loss 0.0309\n",
      "Epochs 434 Loss 0.0309\n",
      "Epochs 435 Loss 0.0308\n",
      "Epochs 436 Loss 0.0307\n",
      "Epochs 437 Loss 0.0307\n",
      "Epochs 438 Loss 0.0306\n",
      "Epochs 439 Loss 0.0305\n",
      "Epochs 440 Loss 0.0305\n",
      "Epochs 441 Loss 0.0304\n",
      "Epochs 442 Loss 0.0303\n",
      "Epochs 443 Loss 0.0303\n",
      "Epochs 444 Loss 0.0302\n",
      "Epochs 445 Loss 0.0301\n",
      "Epochs 446 Loss 0.0301\n",
      "Epochs 447 Loss 0.0300\n",
      "Epochs 448 Loss 0.0299\n",
      "Epochs 449 Loss 0.0299\n",
      "Epochs 450 Loss 0.0298\n",
      "Epochs 451 Loss 0.0298\n",
      "Epochs 452 Loss 0.0297\n",
      "Epochs 453 Loss 0.0296\n",
      "Epochs 454 Loss 0.0296\n",
      "Epochs 455 Loss 0.0295\n",
      "Epochs 456 Loss 0.0295\n",
      "Epochs 457 Loss 0.0294\n",
      "Epochs 458 Loss 0.0293\n",
      "Epochs 459 Loss 0.0293\n",
      "Epochs 460 Loss 0.0292\n",
      "Epochs 461 Loss 0.0292\n",
      "Epochs 462 Loss 0.0291\n",
      "Epochs 463 Loss 0.0290\n",
      "Epochs 464 Loss 0.0290\n",
      "Epochs 465 Loss 0.0289\n",
      "Epochs 466 Loss 0.0289\n",
      "Epochs 467 Loss 0.0288\n",
      "Epochs 468 Loss 0.0288\n",
      "Epochs 469 Loss 0.0287\n",
      "Epochs 470 Loss 0.0286\n",
      "Epochs 471 Loss 0.0286\n",
      "Epochs 472 Loss 0.0285\n",
      "Epochs 473 Loss 0.0285\n",
      "Epochs 474 Loss 0.0284\n",
      "Epochs 475 Loss 0.0284\n",
      "Epochs 476 Loss 0.0283\n",
      "Epochs 477 Loss 0.0283\n",
      "Epochs 478 Loss 0.0282\n",
      "Epochs 479 Loss 0.0281\n",
      "Epochs 480 Loss 0.0281\n",
      "Epochs 481 Loss 0.0280\n",
      "Epochs 482 Loss 0.0280\n",
      "Epochs 483 Loss 0.0279\n",
      "Epochs 484 Loss 0.0279\n",
      "Epochs 485 Loss 0.0278\n",
      "Epochs 486 Loss 0.0278\n",
      "Epochs 487 Loss 0.0277\n",
      "Epochs 488 Loss 0.0277\n",
      "Epochs 489 Loss 0.0276\n",
      "Epochs 490 Loss 0.0276\n",
      "Epochs 491 Loss 0.0275\n",
      "Epochs 492 Loss 0.0275\n",
      "Epochs 493 Loss 0.0274\n",
      "Epochs 494 Loss 0.0274\n",
      "Epochs 495 Loss 0.0273\n",
      "Epochs 496 Loss 0.0273\n",
      "Epochs 497 Loss 0.0272\n",
      "Epochs 498 Loss 0.0272\n",
      "Epochs 499 Loss 0.0271\n"
     ]
    }
   ],
   "source": [
    "l = train(X,Y,model,500,0.0002)"
   ]
  },
  {
   "cell_type": "code",
   "execution_count": 19,
   "metadata": {},
   "outputs": [
    {
     "data": {
      "image/png": "[encoded data removed]",
      "text/plain": [
       "<Figure size 576x396 with 1 Axes>"
      ]
     },
     "metadata": {},
     "output_type": "display_data"
    }
   ],
   "source": [
    "from matplotlib import pyplot as plt\n",
    "plt.style.use(\"dark_background\")\n",
    "plt.title(\"Training Loss Vs Epochs\")\n",
    "plt.plot(l)\n",
    "\n",
    "plt.show()"
   ]
  },
  {
   "cell_type": "code",
   "execution_count": 20,
   "metadata": {},
   "outputs": [
    {
     "name": "stdout",
     "output_type": "stream",
     "text": [
      "Train Acc 0.9859\n",
      "Test Acc 0.6404\n"
     ]
    }
   ],
   "source": [
    "# Accuracy\n",
    "def getAccuracy(X,Y,model):\n",
    "    outputs = model.predict(X)\n",
    "    acc = np.sum(outputs == Y)/Y.shape[0]\n",
    "    return acc\n",
    "\n",
    "print(\"Train Acc %.4f\"%getAccuracy(X,Y,model))\n",
    "print(\"Test Acc %.4f\"%getAccuracy(XTest,YTest,model))"
   ]
  },
  {
   "cell_type": "code",
   "execution_count": 21,
   "metadata": {},
   "outputs": [],
   "source": [
    "from sklearn.metrics import confusion_matrix,plot_confusion_matrix"
   ]
  },
  {
   "cell_type": "code",
   "execution_count": 22,
   "metadata": {},
   "outputs": [],
   "source": [
    "import matplotlib.pyplot as plt\n",
    "import numpy as np\n",
    "\n",
    "def plot_decision_boundary(model, X, y,cmap=plt.cm.jet):\n",
    "    \"\"\"\n",
    "    Given a model(a function) and a set of points(X), corresponding labels(y), scatter the points in X with color coding\n",
    "    according to y. Also use the model to predict the label at grid points to get the region for each label, and thus the \n",
    "    descion boundary.\n",
    "    Example usage:\n",
    "    say we have a function predict(x,other params) which makes 0/1 prediction for point x and we want to plot\n",
    "    train set then call as:\n",
    "    plot_decision_boundary(lambda x:predict(x,other params),X_train,Y_train)\n",
    "    params(3): \n",
    "        model : a function which expectes the point to make 0/1 label prediction\n",
    "        X : a (mx2) numpy array with the points\n",
    "        y : a (mx1) numpy array with labels\n",
    "    outputs(None)\n",
    "    \"\"\"\n",
    "    # Set min and max values and give it some padding\n",
    "    x_min, x_max = X[:, 0].min() - 1, X[:, 0].max() + 1\n",
    "    y_min, y_max = X[:, 1].min() - 1, X[:, 1].max() + 1\n",
    "    h = 0.01\n",
    "    # Generate a grid of points with distance h between them\n",
    "    xx, yy = np.meshgrid(np.arange(x_min, x_max, h), np.arange(y_min, y_max, h))\n",
    "    # Predict the function value for the whole grid\n",
    "    Z = model(np.c_[xx.ravel(), yy.ravel()])\n",
    "    Z = Z.reshape(xx.shape)\n",
    "    # Plot the contour and training examples\n",
    "    plt.contourf(xx, yy, Z, cmap=plt.cm.Spectral)\n",
    "    plt.ylabel('x2')\n",
    "    plt.xlabel('x1')\n",
    "    plt.style.use(\"seaborn\")\n",
    "    plt.scatter(X[:, 0], X[:, 1], c=y, cmap=plt.cm.jet)\n",
    "    \n",
    "import itertools\n",
    "def plot_confusion_matrix(cm, classes,\n",
    "                          normalize=False,\n",
    "                          title='Confusion matrix',\n",
    "                          cmap=plt.cm.Blues):\n",
    "    \"\"\"\n",
    "    This function prints and plots the confusion matrix.\n",
    "    Normalization can be applied by setting `normalize=True`.\n",
    "    \"\"\"\n",
    "    if normalize:\n",
    "        cm = cm.astype('float') / cm.sum(axis=1)[:, np.newaxis]\n",
    "        print(\"Normalized confusion matrix\")\n",
    "    else:\n",
    "        print('Confusion matrix, without normalization')\n",
    "\n",
    "    print(cm)\n",
    "\n",
    "    plt.imshow(cm, interpolation='nearest', cmap=cmap)\n",
    "    plt.title(title)\n",
    "    plt.colorbar()\n",
    "    tick_marks = np.arange(len(classes))\n",
    "    plt.xticks(tick_marks, classes, rotation=45)\n",
    "    plt.yticks(tick_marks, classes)\n",
    "\n",
    "    fmt = '.2f' if normalize else 'd'\n",
    "    thresh = cm.max() / 2.\n",
    "    for i, j in itertools.product(range(cm.shape[0]), range(cm.shape[1])):\n",
    "        plt.text(j, i, format(cm[i, j], fmt),\n",
    "                 horizontalalignment=\"center\",\n",
    "                 color=\"white\" if cm[i, j] > thresh else \"black\")\n",
    "\n",
    "    plt.ylabel('True label')\n",
    "    plt.xlabel('Predicted label')\n",
    "    plt.tight_layout()"
   ]
  },
  {
   "cell_type": "code",
   "execution_count": 23,
   "metadata": {},
   "outputs": [
    {
     "name": "stdout",
     "output_type": "stream",
     "text": [
      "[[153   2   1]\n",
      " [  2 136   0]\n",
      " [  0   0  60]]\n"
     ]
    }
   ],
   "source": [
    "outputs = model.predict(X)\n",
    "cnf_matrix = confusion_matrix(outputs,Y)\n",
    "print(cnf_matrix)"
   ]
  },
  {
   "cell_type": "code",
   "execution_count": 24,
   "metadata": {},
   "outputs": [
    {
     "name": "stdout",
     "output_type": "stream",
     "text": [
      "Confusion matrix, without normalization\n",
      "[[153   2   1]\n",
      " [  2 136   0]\n",
      " [  0   0  60]]\n"
     ]
    },
    {
     "data": {
      "image/png": "[encoded data removed]",
      "text/plain": [
       "<Figure size 576x396 with 2 Axes>"
      ]
     },
     "metadata": {},
     "output_type": "display_data"
    }
   ],
   "source": [
    "plot_confusion_matrix(cnf_matrix,classes=[\"Pikachu\",\"Bulbasaur\",\"Meowth\"],title=\"Confusion MAtrix\")"
   ]
  },
  {
   "cell_type": "code",
   "execution_count": null,
   "metadata": {},
   "outputs": [],
   "source": [
    "\n"
   ]
  },
  {
   "cell_type": "code",
   "execution_count": 25,
   "metadata": {},
   "outputs": [],
   "source": [
    "from sklearn.metrics import classification_report "
   ]
  },
  {
   "cell_type": "code",
   "execution_count": 26,
   "metadata": {},
   "outputs": [
    {
     "name": "stdout",
     "output_type": "stream",
     "text": [
      "              precision    recall  f1-score   support\n",
      "\n",
      "           0       0.99      0.98      0.98       156\n",
      "           1       0.99      0.99      0.99       138\n",
      "           2       0.98      1.00      0.99        60\n",
      "\n",
      "    accuracy                           0.99       354\n",
      "   macro avg       0.99      0.99      0.99       354\n",
      "weighted avg       0.99      0.99      0.99       354\n",
      "\n"
     ]
    }
   ],
   "source": [
    "print(classification_report(outputs,Y))"
   ]
  },
  {
   "cell_type": "code",
   "execution_count": 27,
   "metadata": {},
   "outputs": [
    {
     "name": "stdout",
     "output_type": "stream",
     "text": [
      "Confusion matrix, without normalization\n",
      "[[30  5  3]\n",
      " [ 6 25  4]\n",
      " [ 8  6  2]]\n"
     ]
    },
    {
     "data": {
      "image/png": "[encoded data removed]",
      "text/plain": [
       "<Figure size 576x396 with 2 Axes>"
      ]
     },
     "metadata": {},
     "output_type": "display_data"
    }
   ],
   "source": [
    "o_Test = model.predict(XTest)\n",
    "cnf_matrix_Test = confusion_matrix(o_Test,YTest)\n",
    "\n",
    "plot_confusion_matrix(cnf_matrix_Test,classes=[\"Pikachu\",\"Bulbasaur\",\"Meowth\"],title=\"Test Confusion Matrix\")"
   ]
  },
  {
   "cell_type": "code",
   "execution_count": null,
   "metadata": {},
   "outputs": [],
   "source": []
  }
 ],
 "metadata": {
  "kernelspec": {
   "display_name": "Python 3",
   "language": "python",
   "name": "python3"
  },
  "language_info": {
   "codemirror_mode": {
    "name": "ipython",
    "version": 3
   },
   "file_extension": ".py",
   "mimetype": "text/x-python",
   "name": "python",
   "nbconvert_exporter": "python",
   "pygments_lexer": "ipython3",
   "version": "3.7.0"
  }
 },
 "nbformat": 4,
 "nbformat_minor": 2
}
