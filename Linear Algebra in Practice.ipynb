{
 "cells": [
  {
   "cell_type": "markdown",
   "metadata": {},
   "source": [
    "# Linear Algebra - Matrices and Tensors\n",
    "\n",
    "## 1. Scalar & Vectors\n",
    "\n",
    "### . Scalar is a singel number\n",
    "### . Vector ias an array of scalars "
   ]
  },
  {
   "cell_type": "code",
   "execution_count": 2,
   "metadata": {},
   "outputs": [],
   "source": [
    "import numpy as np"
   ]
  },
  {
   "cell_type": "code",
   "execution_count": 3,
   "metadata": {},
   "outputs": [
    {
     "name": "stdout",
     "output_type": "stream",
     "text": [
      "[4 5 6]\n",
      "(3,)\n",
      "4\n"
     ]
    }
   ],
   "source": [
    "x1 = np.array([4,5,6])\n",
    "print(x1)\n",
    "print(x1.shape)\n",
    "\n",
    "print(x1[0])"
   ]
  },
  {
   "cell_type": "code",
   "execution_count": 4,
   "metadata": {},
   "outputs": [
    {
     "name": "stdout",
     "output_type": "stream",
     "text": [
      "[[4]\n",
      " [5]\n",
      " [6]\n",
      " [7]]\n",
      "(4, 1)\n",
      "[4]\n",
      "4\n"
     ]
    }
   ],
   "source": [
    "# We will represent a vector as a column vector, that is having multiple row\n",
    "\n",
    "x = np.array([[4],[5],[6],[7]])\n",
    "\n",
    "print(x)\n",
    "print(x.shape)\n",
    "\n",
    "print(x[0]) \n",
    "\n",
    "print(x[0][0])"
   ]
  },
  {
   "cell_type": "code",
   "execution_count": 5,
   "metadata": {},
   "outputs": [
    {
     "name": "stdout",
     "output_type": "stream",
     "text": [
      "[[4 5]\n",
      " [6 7]]\n"
     ]
    }
   ],
   "source": [
    "# Reshaping\n",
    "\n",
    "# x.reshape((no.of row ,no. of coloumn))\n",
    "\n",
    "x = x.reshape((-1,2))\n",
    "print(x)"
   ]
  },
  {
   "cell_type": "markdown",
   "metadata": {},
   "source": [
    "# 2. Matrices & Tensors\n",
    "\n",
    "### . Matrices is a 2D array of scalars\n",
    "### . Tensor is an array with more than 2 axes"
   ]
  },
  {
   "cell_type": "code",
   "execution_count": 6,
   "metadata": {},
   "outputs": [
    {
     "name": "stdout",
     "output_type": "stream",
     "text": [
      "(3, 3)\n",
      "[[4 5 6]\n",
      " [7 8 9]\n",
      " [1 2 3]]\n"
     ]
    }
   ],
   "source": [
    "# Here X is a Matrix\n",
    "\n",
    "X= np.array([[4,5,6],[7,8,9],[1,2,3]])\n",
    "\n",
    "print(X.shape)\n",
    "print(X)"
   ]
  },
  {
   "cell_type": "code",
   "execution_count": 7,
   "metadata": {},
   "outputs": [
    {
     "name": "stdout",
     "output_type": "stream",
     "text": [
      "(2, 2, 3)\n",
      "[[[ 4  5  7]\n",
      "  [10 11 13]]\n",
      "\n",
      " [[56 80 90]\n",
      "  [ 9  8 10]]]\n",
      "8\n"
     ]
    }
   ],
   "source": [
    "# Here T is Tensor\n",
    "\n",
    "T = np.array([[[4,5,7],[10,11,13]],[[56,80,90],[9,8,10]]])\n",
    "\n",
    "print(T.shape)\n",
    "\n",
    "print(T)\n",
    "\n",
    "print(T[1][1][1])"
   ]
  },
  {
   "cell_type": "code",
   "execution_count": 8,
   "metadata": {},
   "outputs": [
    {
     "name": "stdout",
     "output_type": "stream",
     "text": [
      "(2, 2, 3)\n",
      "[[[ 4  5  7]\n",
      "  [10 11 13]]\n",
      "\n",
      " [[56 80 90]\n",
      "  [ 9  8 10]]]\n",
      "8\n"
     ]
    }
   ],
   "source": [
    "# Here T is Tensor\n",
    "\n",
    "T = np.array([[[4,5,7],[10,11,13]],[[56,80,90],[9,8,10]]])\n",
    "\n",
    "print(T.shape)\n",
    "\n",
    "print(T)\n",
    "\n",
    "print(T[1][1][1])"
   ]
  },
  {
   "cell_type": "markdown",
   "metadata": {},
   "source": [
    "## 3. Transpose "
   ]
  },
  {
   "cell_type": "code",
   "execution_count": 9,
   "metadata": {},
   "outputs": [
    {
     "name": "stdout",
     "output_type": "stream",
     "text": [
      "[[4 5]\n",
      " [6 7]]\n",
      "[[4 6]\n",
      " [5 7]]\n"
     ]
    }
   ],
   "source": [
    "print(x)\n",
    "xt = x\n",
    "print(xt.transpose())"
   ]
  },
  {
   "cell_type": "code",
   "execution_count": 10,
   "metadata": {},
   "outputs": [
    {
     "name": "stdout",
     "output_type": "stream",
     "text": [
      "[[4]\n",
      " [5]\n",
      " [6]\n",
      " [7]]\n",
      "(4, 1)\n",
      "[[4 5 6 7]]\n",
      "(1, 4)\n"
     ]
    }
   ],
   "source": [
    "y = x.reshape((-1,1))\n",
    "\n",
    "print(y)\n",
    "print(y.shape)\n",
    "print(y.transpose())\n",
    "\n",
    "print(y.transpose().shape)"
   ]
  },
  {
   "cell_type": "markdown",
   "metadata": {},
   "source": [
    "## 4. Broadcasting\n"
   ]
  },
  {
   "cell_type": "code",
   "execution_count": 11,
   "metadata": {},
   "outputs": [
    {
     "name": "stdout",
     "output_type": "stream",
     "text": [
      "[2 3 4 5]\n",
      "[ 1  4  9 16]\n"
     ]
    }
   ],
   "source": [
    "# Applying Broadcasting in array \n",
    "\n",
    "l = [1,2,3,4]\n",
    "l = np.array(l)\n",
    "\n",
    "l1=l+1\n",
    "\n",
    "print(l1)\n",
    "\n",
    "l2 = l**2\n",
    "\n",
    "print(l2)"
   ]
  },
  {
   "cell_type": "code",
   "execution_count": 12,
   "metadata": {},
   "outputs": [
    {
     "name": "stdout",
     "output_type": "stream",
     "text": [
      "[[ 1  4  9]\n",
      " [16 25 36]]\n",
      "[[ 2  5 10]\n",
      " [17 26 37]]\n"
     ]
    }
   ],
   "source": [
    "# Applying broadcasting in Matrix\n",
    "\n",
    "lm = [[1,2,3],[4,5,6]]\n",
    "lm = np.array(lm)\n",
    "\n",
    "lm = lm**2\n",
    "\n",
    "print(lm)\n",
    "\n",
    "lm = lm+1\n",
    "print(lm)"
   ]
  },
  {
   "cell_type": "code",
   "execution_count": 13,
   "metadata": {},
   "outputs": [
    {
     "name": "stdout",
     "output_type": "stream",
     "text": [
      "[[1.41421356 2.23606798 3.16227766]\n",
      " [4.12310563 5.09901951 6.08276253]]\n"
     ]
    }
   ],
   "source": [
    "print(np.sqrt(lm))"
   ]
  },
  {
   "cell_type": "markdown",
   "metadata": {},
   "source": [
    "# 5. Matrix Multiplication"
   ]
  },
  {
   "cell_type": "code",
   "execution_count": 14,
   "metadata": {},
   "outputs": [
    {
     "name": "stdout",
     "output_type": "stream",
     "text": [
      "(2, 3)\n",
      "(3, 2)\n",
      "[[1 2 3]\n",
      " [4 5 6]]\n",
      "[[ 7  8]\n",
      " [ 9 10]\n",
      " [11 12]]\n"
     ]
    }
   ],
   "source": [
    "X = np.array([[1,2,3],[4,5,6]])\n",
    "Y = np.array([[7,8],[9,10],[11,12]])\n",
    "\n",
    "print(X.shape)\n",
    "print(Y.shape)\n",
    "\n",
    "\n",
    "print(X)\n",
    "print(Y)"
   ]
  },
  {
   "cell_type": "code",
   "execution_count": 15,
   "metadata": {},
   "outputs": [
    {
     "name": "stdout",
     "output_type": "stream",
     "text": [
      "(2, 2)\n",
      "[[ 58  64]\n",
      " [139 154]]\n"
     ]
    }
   ],
   "source": [
    "prod = np.dot(X,Y)\n",
    "\n",
    "print(prod.shape)\n",
    "\n",
    "print(prod)"
   ]
  },
  {
   "cell_type": "markdown",
   "metadata": {},
   "source": [
    "# 6. Element wise multiplication"
   ]
  },
  {
   "cell_type": "code",
   "execution_count": 17,
   "metadata": {},
   "outputs": [
    {
     "name": "stdout",
     "output_type": "stream",
     "text": [
      "[[4 5 6]\n",
      " [7 8 9]\n",
      " [1 2 3]]\n",
      "[[3. 1. 1.]\n",
      " [1. 3. 1.]\n",
      " [1. 1. 3.]]\n"
     ]
    }
   ],
   "source": [
    "X = np.array([[4,5,6],[7,8,9],[1,2,3]])\n",
    "\n",
    "# np.eye(3) creates a identity matrix of 3x3 order\n",
    "Y = np.eye(3)\n",
    "print(X)\n",
    "\n",
    "Y = Y*2\n",
    "Y= Y +1 \n",
    "print(Y)\n"
   ]
  },
  {
   "cell_type": "code",
   "execution_count": 19,
   "metadata": {},
   "outputs": [
    {
     "name": "stdout",
     "output_type": "stream",
     "text": [
      "[[12.  5.  6.]\n",
      " [ 7. 24.  9.]\n",
      " [ 1.  2.  9.]]\n"
     ]
    }
   ],
   "source": [
    "print(X*Y)"
   ]
  },
  {
   "cell_type": "markdown",
   "metadata": {},
   "source": [
    "# 7. Norm (Refer notes )"
   ]
  },
  {
   "cell_type": "code",
   "execution_count": 27,
   "metadata": {},
   "outputs": [
    {
     "name": "stdout",
     "output_type": "stream",
     "text": [
      "14.035668847618199\n"
     ]
    }
   ],
   "source": [
    "# x is a vector\n",
    "x = np.array([-10,4,9])\n",
    "\n",
    "\n",
    "# linalg => linear algebra , norm will return a normed func of vector x. By default the order of norm is 2\n",
    "lp2 = np.linalg.norm(x)\n",
    "\n",
    "print(lp2)"
   ]
  },
  {
   "cell_type": "code",
   "execution_count": 28,
   "metadata": {},
   "outputs": [
    {
     "name": "stdout",
     "output_type": "stream",
     "text": [
      "23.0\n"
     ]
    }
   ],
   "source": [
    "# ord => order , which puts the value of p as 1\n",
    "lp1 = np.linalg.norm(x, ord = 1)\n",
    "\n",
    "print(lp1)"
   ]
  },
  {
   "cell_type": "code",
   "execution_count": 31,
   "metadata": {},
   "outputs": [
    {
     "name": "stdout",
     "output_type": "stream",
     "text": [
      "10.0\n"
     ]
    }
   ],
   "source": [
    "# inf => infinity\n",
    "# at infinity it returns the highest +ve or mode( |x| ) possible value present in vector\n",
    "\n",
    "lp = np.linalg.norm(x,ord = np.inf)\n",
    "\n",
    "print(lp)"
   ]
  },
  {
   "cell_type": "code",
   "execution_count": null,
   "metadata": {},
   "outputs": [],
   "source": []
  }
 ],
 "metadata": {
  "kernelspec": {
   "display_name": "Python 3",
   "language": "python",
   "name": "python3"
  },
  "language_info": {
   "codemirror_mode": {
    "name": "ipython",
    "version": 3
   },
   "file_extension": ".py",
   "mimetype": "text/x-python",
   "name": "python",
   "nbconvert_exporter": "python",
   "pygments_lexer": "ipython3",
   "version": "3.7.0"
  }
 },
 "nbformat": 4,
 "nbformat_minor": 2
}
