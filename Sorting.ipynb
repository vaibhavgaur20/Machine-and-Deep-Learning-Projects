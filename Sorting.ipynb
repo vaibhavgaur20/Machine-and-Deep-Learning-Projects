{
 "cells": [
  {
   "cell_type": "markdown",
   "metadata": {},
   "source": [
    "## Selection sort O(n2)"
   ]
  },
  {
   "cell_type": "code",
   "execution_count": 1,
   "metadata": {},
   "outputs": [],
   "source": [
    "def selectionsort(nums):\n",
    "    \n",
    "    for i in range(5):\n",
    "        minpos = i \n",
    "        for j in range(i,6):\n",
    "            if nums[j] < nums[minpos]:\n",
    "                minpos = j\n",
    "        \n",
    "        temp = nums[i]\n",
    "        nums[i] = nums[minpos]\n",
    "        nums[minpos] = temp\n",
    "        \n",
    "        print(nums) "
   ]
  },
  {
   "cell_type": "code",
   "execution_count": 2,
   "metadata": {},
   "outputs": [
    {
     "name": "stdout",
     "output_type": "stream",
     "text": [
      "[2, 3, 8, 6, 7, 5]\n",
      "[2, 3, 8, 6, 7, 5]\n",
      "[2, 3, 5, 6, 7, 8]\n",
      "[2, 3, 5, 6, 7, 8]\n",
      "[2, 3, 5, 6, 7, 8]\n",
      "[2, 3, 5, 6, 7, 8]\n"
     ]
    }
   ],
   "source": [
    "arr = [5,3,8,6,7,2]\n",
    "selectionsort(arr)\n",
    "\n",
    "print(arr)"
   ]
  },
  {
   "cell_type": "markdown",
   "metadata": {},
   "source": [
    "## Bubble sort O(n2)"
   ]
  },
  {
   "cell_type": "code",
   "execution_count": 3,
   "metadata": {},
   "outputs": [],
   "source": [
    "def bubbleSort(nums):\n",
    "    for i in range(len(nums)-1,0,-1):\n",
    "        for j in range(i):\n",
    "            if nums[j] > nums[j+1]:\n",
    "                \n",
    "                temp = nums[j]\n",
    "                nums[j] = nums[j+1]\n",
    "                nums[j+1] = temp"
   ]
  },
  {
   "cell_type": "code",
   "execution_count": 5,
   "metadata": {},
   "outputs": [
    {
     "name": "stdout",
     "output_type": "stream",
     "text": [
      "[2, 3, 5, 6, 7, 8]\n"
     ]
    }
   ],
   "source": [
    "nums = [5,3,8,6,7,2]\n",
    "\n",
    "bubbleSort(nums)\n",
    "\n",
    "print(nums)"
   ]
  },
  {
   "cell_type": "markdown",
   "metadata": {},
   "source": [
    "   ## Recursive Bubble sort \n",
    "   #### TC - O(n2) \n",
    "   #### SC-O(n)"
   ]
  },
  {
   "cell_type": "code",
   "execution_count": 5,
   "metadata": {},
   "outputs": [],
   "source": [
    "class bubbleSort:\n",
    "    def __init__(self,array):\n",
    "        self.array = array\n",
    "        self.length = len(array)\n",
    "        \n",
    "    def __str__(self):\n",
    "        return \" \".join([str(x)\n",
    "                        for x in self.array])\n",
    "    \n",
    "    def bubbleSortRecursive(self, n=None):\n",
    "        if n is None:\n",
    "            n = self.length \n",
    "            \n",
    "        if n == 1:\n",
    "            return\n",
    "        \n",
    "        for i in range(n-1):\n",
    "            if self.array[i] > self.array[i+1]:\n",
    "                self.array[i], self.array[i+1] = self.array[i+1], self.array[i]\n",
    "        \n",
    "        self.bubbleSortRecursive(n-1)"
   ]
  },
  {
   "cell_type": "code",
   "execution_count": 6,
   "metadata": {},
   "outputs": [
    {
     "name": "stdout",
     "output_type": "stream",
     "text": [
      "Sorted array : \n",
      " 11 12 22 25 34 64 90\n"
     ]
    }
   ],
   "source": [
    "def main():\n",
    "    array = [64, 34, 25, 12, 22, 11, 90]\n",
    "    \n",
    "    sortBR = bubbleSort(array)\n",
    "    sortBR.bubbleSortRecursive()\n",
    "    \n",
    "    print(\"Sorted array : \\n\",sortBR)\n",
    "    \n",
    "if __name__== \"__main__\":\n",
    "    main()\n",
    "    \n"
   ]
  },
  {
   "cell_type": "code",
   "execution_count": 13,
   "metadata": {},
   "outputs": [
    {
     "name": "stdout",
     "output_type": "stream",
     "text": [
      "<class 'list'>\n"
     ]
    }
   ],
   "source": [
    "array = [1,2,3]\n",
    "print(type([str(x) for x in array])"
   ]
  },
  {
   "cell_type": "markdown",
   "metadata": {},
   "source": [
    "# Merge Sort - nlog(n)"
   ]
  },
  {
   "cell_type": "code",
   "execution_count": 4,
   "metadata": {},
   "outputs": [],
   "source": [
    "def mergeSort(arr):\n",
    "    \n",
    "    if len(arr) >1:\n",
    "        mid = len(arr)//2\n",
    "        \n",
    "        L = arr[:mid]\n",
    "        R = arr[mid:]\n",
    "        \n",
    "        mergeSort(L)\n",
    "        \n",
    "        mergeSort(R)\n",
    "        \n",
    "        i=j=k=0\n",
    "        \n",
    "        while i < len(L) and j < len(R):\n",
    "            if L[i] < R[j]:\n",
    "                arr[k] = L[i]\n",
    "                i += 1\n",
    "                \n",
    "            else:\n",
    "                arr[k] = R[j]\n",
    "                j += 1\n",
    "            k+=1\n",
    "            \n",
    "        \n",
    "        while i < len(L):\n",
    "            arr[k] = L[i]\n",
    "            i+=1\n",
    "            k+=1\n",
    "            \n",
    "        while j < len(R):\n",
    "            arr[k] = R[j]\n",
    "            j+=1\n",
    "            k+=1\n",
    "            \n",
    "        "
   ]
  },
  {
   "cell_type": "code",
   "execution_count": 6,
   "metadata": {},
   "outputs": [
    {
     "name": "stdout",
     "output_type": "stream",
     "text": [
      "Given array is:-\n",
      "[12, 11, 13, 5, 6, 7]\n",
      "[5, 6, 7, 11, 12, 13]\n"
     ]
    }
   ],
   "source": [
    "arr = [12,11,13,5,6,7]\n",
    "print(\"Given array is:-\",end=\"\\n\")\n",
    "print(arr)\n",
    "mergeSort(arr)\n",
    "print(arr)"
   ]
  },
  {
   "cell_type": "markdown",
   "metadata": {},
   "source": [
    "# Quick Sort O(n2)"
   ]
  },
  {
   "cell_type": "code",
   "execution_count": 5,
   "metadata": {},
   "outputs": [],
   "source": [
    "def partition(start,end,arr):\n",
    "    \n",
    "    pivot_index = start\n",
    "    pivot = arr[pivot_index]\n",
    "    \n",
    "    while start < end :\n",
    "        \n",
    "        while start < len(arr) and arr[start] <= pivot:\n",
    "            start += 1\n",
    "            \n",
    "        while arr[end] > pivot:\n",
    "            end -= 1\n",
    "        \n",
    "        if(start<end):\n",
    "            arr[start],arr[end] = arr[end],arr[start]\n",
    "    \n",
    "    arr[end],arr[pivot_index] = arr[pivot_index],arr[end]\n",
    "    \n",
    "    return end "
   ]
  },
  {
   "cell_type": "code",
   "execution_count": 8,
   "metadata": {},
   "outputs": [],
   "source": [
    "def quickSort(start,end,arr):\n",
    "    if start < end :\n",
    "    \n",
    "        p = partition(start,end,arr)\n",
    "        \n",
    "        quickSort(start,p-1,arr)\n",
    "        quickSort(p+1,end,arr)"
   ]
  },
  {
   "cell_type": "code",
   "execution_count": 9,
   "metadata": {},
   "outputs": [
    {
     "name": "stdout",
     "output_type": "stream",
     "text": [
      "[10, 7, 8, 9, 1, 5]\n",
      "[1, 5, 7, 8, 9, 10]\n"
     ]
    }
   ],
   "source": [
    "arr=[10,7,8,9,1,5]\n",
    "print(arr)\n",
    "quickSort(0,len(arr)-1,arr)\n",
    "print(arr)"
   ]
  },
  {
   "cell_type": "markdown",
   "metadata": {},
   "source": [
    "# Heap sort \n",
    "## Time Complexity - nlogn\n",
    "## Space complexity - logn\n"
   ]
  },
  {
   "cell_type": "code",
   "execution_count": 10,
   "metadata": {},
   "outputs": [],
   "source": [
    "def heapify(arr,n,i):\n",
    "    \n",
    "    larger = i\n",
    "    \n",
    "    l = 2*i + 1\n",
    "    r = 2*i + 2\n",
    "    \n",
    "    if l<n and arr[i] < arr[l]:\n",
    "        \n",
    "        larger = l\n",
    "    if r<n and arr[larger] < arr[r]:\n",
    "        larger = r\n",
    "    \n",
    "    if larger != i:\n",
    "        arr[larger],arr[i] = arr[i],arr[larger]\n",
    "        \n",
    "        heapify(arr,n,larger)\n",
    "    pass"
   ]
  },
  {
   "cell_type": "code",
   "execution_count": 11,
   "metadata": {},
   "outputs": [],
   "source": [
    "def heapSort(arr):\n",
    "    \n",
    "    n = len(arr)\n",
    "    \n",
    "    # Creating a Heap out \n",
    "    for i in range(n//2-1,-1,-1):\n",
    "        \n",
    "        heapify(arr,n,i)\n",
    "    \n",
    "    # Extracting largest number \n",
    "    # Sorting a Heap tree\n",
    "    for i in range(n-1,0,-1):\n",
    "        \n",
    "        arr[i],arr[0] = arr[0],arr[i]\n",
    "        \n",
    "        heapify(arr,i,0)\n",
    "    "
   ]
  },
  {
   "cell_type": "code",
   "execution_count": 12,
   "metadata": {},
   "outputs": [
    {
     "name": "stdout",
     "output_type": "stream",
     "text": [
      "Original array [12, 11, 13, 5, 6, 7]\n",
      "Sorted array [5, 6, 7, 11, 12, 13]\n"
     ]
    }
   ],
   "source": [
    "arr = [12,11,13,5,6,7]\n",
    "print(\"Original array\",arr)\n",
    "n = len(arr)\n",
    "heapSort(arr)\n",
    "print(\"Sorted array\",arr)"
   ]
  },
  {
   "cell_type": "code",
   "execution_count": null,
   "metadata": {},
   "outputs": [],
   "source": []
  }
 ],
 "metadata": {
  "kernelspec": {
   "display_name": "Python 3",
   "language": "python",
   "name": "python3"
  },
  "language_info": {
   "codemirror_mode": {
    "name": "ipython",
    "version": 3
   },
   "file_extension": ".py",
   "mimetype": "text/x-python",
   "name": "python",
   "nbconvert_exporter": "python",
   "pygments_lexer": "ipython3",
   "version": "3.7.0"
  }
 },
 "nbformat": 4,
 "nbformat_minor": 2
}
